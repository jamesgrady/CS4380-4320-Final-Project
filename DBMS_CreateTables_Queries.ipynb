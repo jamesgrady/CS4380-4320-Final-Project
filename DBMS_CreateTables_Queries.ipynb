{
 "cells": [
  {
   "cell_type": "code",
   "execution_count": null,
   "metadata": {
    "collapsed": true
   },
   "outputs": [],
   "source": [
    "# # load sql magic and password input\n",
    "# import getpass\n",
    "# %load_ext sql\n",
    "\n",
    "# # specify parameters\n",
    "# user = \"hagd5d\"               # your pawprint\n",
    "# password = getpass.getpass()    # type in your password after running this cell\n",
    "# host = \"dbase.dsa.missouri.edu\"\n",
    "# database = \"cs_student\""
   ]
  },
  {
   "cell_type": "code",
   "execution_count": 1,
   "metadata": {},
   "outputs": [
    {
     "name": "stdout",
     "output_type": "stream",
     "text": [
      "········\n"
     ]
    }
   ],
   "source": [
    "# load sql magic and password input\n",
    "import getpass\n",
    "%load_ext sql\n",
    "\n",
    "# specify parameters\n",
    "user = \"s18group03\"\n",
    "password = getpass.getpass()    \n",
    "host = \"dbase.dsa.missouri.edu\"\n",
    "database = \"s18dbmsgroups\""
   ]
  },
  {
   "cell_type": "code",
   "execution_count": 2,
   "metadata": {},
   "outputs": [
    {
     "data": {
      "text/plain": [
       "'Connected: s18group03@s18dbmsgroups'"
      ]
     },
     "execution_count": 2,
     "metadata": {},
     "output_type": "execute_result"
    }
   ],
   "source": [
    "# form connection string\n",
    "connection_string = \"postgresql://{user}:{password}@{host}/{database}\".format(user=user, password=password, host=host, database=database)\n",
    "# connect to database using the formed string\n",
    "%sql $connection_string"
   ]
  },
  {
   "cell_type": "markdown",
   "metadata": {},
   "source": [
    "# TABLE CREATION"
   ]
  },
  {
   "cell_type": "markdown",
   "metadata": {},
   "source": [
    "## Clean-up before tables completely (Drop tables)"
   ]
  },
  {
   "cell_type": "code",
   "execution_count": 3,
   "metadata": {},
   "outputs": [
    {
     "name": "stdout",
     "output_type": "stream",
     "text": [
      "Done.\n",
      "Done.\n",
      "Done.\n",
      "Done.\n",
      "Done.\n",
      "Done.\n",
      "Done.\n",
      "Done.\n",
      "Done.\n",
      "Done.\n",
      "Done.\n",
      "Done.\n",
      "Done.\n",
      "Done.\n",
      "Done.\n",
      "Done.\n",
      "Done.\n",
      "Done.\n",
      "Done.\n",
      "Done.\n",
      "Done.\n",
      "Done.\n",
      "Done.\n",
      "Done.\n",
      "Done.\n"
     ]
    },
    {
     "data": {
      "text/plain": [
       "[]"
      ]
     },
     "execution_count": 3,
     "metadata": {},
     "output_type": "execute_result"
    }
   ],
   "source": [
    "%sql DROP TABLE IF EXISTS member CASCADE;\n",
    "%sql DROP TABLE IF EXISTS emergencyContact;\n",
    "%sql DROP TABLE IF EXISTS member_address;\n",
    "%sql DROP TABLE IF EXISTS member_contact;\n",
    "%sql DROP TABLE IF EXISTS memberDues CASCADE;\n",
    "%sql DROP TABLE IF EXISTS dues_paymentPlan;\n",
    "%sql DROP TABLE IF EXISTS member_status;\n",
    "%sql DROP TABLE IF EXISTS family CASCADE;\n",
    "%sql DROP TABLE IF EXISTS familyTree_roster;\n",
    "%sql DROP TABLE IF EXISTS recSports CASCADE;\n",
    "%sql DROP TABLE IF EXISTS recSports_teams CASCADE;\n",
    "%sql DROP TABLE IF EXISTS team_roster;\n",
    "%sql DROP TABLE IF EXISTS merch CASCADE;\n",
    "%sql DROP TABLE IF EXISTS merch_order;\n",
    "%sql DROP TABLE IF EXISTS budget CASCADE;\n",
    "%sql DROP TABLE IF EXISTS chairPosition CASCADE;\n",
    "%sql DROP TABLE IF EXISTS archive_chairPosition CASCADE;\n",
    "%sql DROP TABLE IF EXISTS budget_register;\n",
    "%sql DROP TABLE IF EXISTS point_type CASCADE;\n",
    "%sql DROP TABLE IF EXISTS events CASCADE;\n",
    "%sql DROP TABLE IF EXISTS event_attendance;\n",
    "%sql DROP TABLE IF EXISTS memberPoints_assoc;\n",
    "%sql DROP TABLE IF EXISTS potential_roster CASCADE;\n",
    "%sql DROP TABLE IF EXISTS votingResults;\n",
    "%sql DROP TABLE IF EXISTS classes CASCADE;\n",
    "%sql DROP TABLE IF EXISTS class_roster;"
   ]
  },
  {
   "cell_type": "markdown",
   "metadata": {},
   "source": [
    "## Create Table Statements"
   ]
  },
  {
   "cell_type": "markdown",
   "metadata": {},
   "source": [
    "### Security Notes\n",
    "* Doing security based on Users wouldn't make sense for our shared PSQL server. Would likely use this if we had our very own server and could manage our own list of users (which would be similar to the member table)\n",
    "* Need a field for security class (for each table) (Each member will be given a security class field based on their position)\n",
    "    * ex: status_id | status_name | class\n",
    "    * where class = Top secret (TS), secret (S), confidential (C), unclassified (U): TS > S> C > U\n",
    "    * and we would check each member access level before performing an action\n",
    "* Member should have the security class that needs to be checked\n",
    "    * This should get updated (via Trigger) when a chairPostion is updated\n",
    "        * OLD chairPosition should change back to U and NEW chairPosition should change to more secure"
   ]
  },
  {
   "cell_type": "code",
   "execution_count": 4,
   "metadata": {},
   "outputs": [
    {
     "name": "stdout",
     "output_type": "stream",
     "text": [
      "Done.\n"
     ]
    },
    {
     "data": {
      "text/plain": [
       "[]"
      ]
     },
     "execution_count": 4,
     "metadata": {},
     "output_type": "execute_result"
    }
   ],
   "source": [
    "%%sql\n",
    "CREATE OR REPLACE function random_string(length integer) returns text as\n",
    "$$\n",
    "declare\n",
    "  chars text[] := '{0,1,2,3,4,5,6,7,8,9,a,b,c,d,e,f,g,h,i,j,k,l,m,n,o,p,q,r,s,t,u,v,w,x,y,z}';\n",
    "  result text := '';\n",
    "  i integer := 0;\n",
    "begin\n",
    "  if length < 0 then\n",
    "    raise exception 'Given length cannot be less than 0';\n",
    "  end if;\n",
    "  for i in 1..length loop\n",
    "    result := result || chars[1+random()*(array_length(chars, 1)-1)];\n",
    "  end loop;\n",
    "  return result;\n",
    "end;\n",
    "$$\n",
    "LANGUAGE plpgsql;"
   ]
  },
  {
   "cell_type": "markdown",
   "metadata": {},
   "source": [
    "## member_status table"
   ]
  },
  {
   "cell_type": "code",
   "execution_count": 5,
   "metadata": {},
   "outputs": [
    {
     "name": "stdout",
     "output_type": "stream",
     "text": [
      "Done.\n"
     ]
    },
    {
     "data": {
      "text/plain": [
       "[]"
      ]
     },
     "execution_count": 5,
     "metadata": {},
     "output_type": "execute_result"
    }
   ],
   "source": [
    "%%sql \n",
    "CREATE TABLE member_status (\n",
    "    status_id INTEGER PRIMARY KEY,\n",
    "    status_name VARCHAR(25)\n",
    ");"
   ]
  },
  {
   "cell_type": "code",
   "execution_count": 6,
   "metadata": {},
   "outputs": [
    {
     "name": "stdout",
     "output_type": "stream",
     "text": [
      "Done.\n"
     ]
    },
    {
     "data": {
      "text/plain": [
       "[]"
      ]
     },
     "execution_count": 6,
     "metadata": {},
     "output_type": "execute_result"
    }
   ],
   "source": [
    "%%sql\n",
    "TRUNCATE member_status CASCADE;"
   ]
  },
  {
   "cell_type": "code",
   "execution_count": 7,
   "metadata": {},
   "outputs": [
    {
     "name": "stdout",
     "output_type": "stream",
     "text": [
      "4 rows affected.\n"
     ]
    },
    {
     "data": {
      "text/plain": [
       "[]"
      ]
     },
     "execution_count": 7,
     "metadata": {},
     "output_type": "execute_result"
    }
   ],
   "source": [
    "%%sql\n",
    "INSERT INTO member_status VALUES\n",
    "    (1, 'Active'),\n",
    "    (2, 'Locally Inactive'),\n",
    "    (3, 'Nationally Inactive'),\n",
    "    (4, 'Alumni')\n",
    ";"
   ]
  },
  {
   "cell_type": "markdown",
   "metadata": {},
   "source": [
    "## member table"
   ]
  },
  {
   "cell_type": "code",
   "execution_count": 8,
   "metadata": {},
   "outputs": [
    {
     "name": "stdout",
     "output_type": "stream",
     "text": [
      "Done.\n"
     ]
    },
    {
     "data": {
      "text/plain": [
       "[]"
      ]
     },
     "execution_count": 8,
     "metadata": {},
     "output_type": "execute_result"
    }
   ],
   "source": [
    "%%sql \n",
    "CREATE TABLE member (\n",
    "    student_id INTEGER PRIMARY KEY,\n",
    "    pawprint VARCHAR(25),\n",
    "    salted_password VARCHAR(255),\n",
    "    status INTEGER REFERENCES member_status (status_id),\n",
    "    last_name VARCHAR(50),\n",
    "    first_name VARCHAR(50),\n",
    "    birthday DATE,\n",
    "    chapter_book_number INTEGER\n",
    ");"
   ]
  },
  {
   "cell_type": "code",
   "execution_count": 9,
   "metadata": {},
   "outputs": [
    {
     "name": "stdout",
     "output_type": "stream",
     "text": [
      "Done.\n"
     ]
    },
    {
     "data": {
      "text/plain": [
       "[]"
      ]
     },
     "execution_count": 9,
     "metadata": {},
     "output_type": "execute_result"
    }
   ],
   "source": [
    "%%sql\n",
    "TRUNCATE member CASCADE;"
   ]
  },
  {
   "cell_type": "code",
   "execution_count": 10,
   "metadata": {},
   "outputs": [
    {
     "name": "stdout",
     "output_type": "stream",
     "text": [
      "100 rows affected.\n"
     ]
    },
    {
     "data": {
      "text/plain": [
       "[]"
      ]
     },
     "execution_count": 10,
     "metadata": {},
     "output_type": "execute_result"
    }
   ],
   "source": [
    "%%sql\n",
    "INSERT INTO member VALUES\n",
    "    (1, random_string(6),NULL,1,'Carroll','Roy',current_date + (floor(random() * 350 + 1)::int), floor(random() * 700 + 100)::int),\n",
    "    (2, random_string(6),NULL,1,'Brown','Clarence',current_date + (floor(random() * 350 + 1)::int), floor(random() * 700 + 100)::int),\n",
    "    (3, random_string(6),NULL,1,'Markx','Sabrina',current_date + (floor(random() * 350 + 1)::int), floor(random() * 700 + 100)::int),\n",
    "    (4, random_string(6),NULL,1,'Jonathan','Julia',current_date + (floor(random() * 350 + 1)::int), floor(random() * 700 + 100)::int),\n",
    "    (5, random_string(6),NULL,1,'Mike','Julian',current_date + (floor(random() * 350 + 1)::int), floor(random() * 700 + 100)::int),\n",
    "    (6, random_string(6),NULL,1,'Comb','Marlon',current_date + (floor(random() * 350 + 1)::int), floor(random() * 700 + 100)::int),\n",
    "    (7, random_string(6),NULL,1,'Pierce','Evan',current_date + (floor(random() * 350 + 1)::int), floor(random() * 700 + 100)::int),\n",
    "    (8, random_string(6),NULL,1,'Wong','Valerie',current_date + (floor(random() * 350 + 1)::int), floor(random() * 700 + 100)::int),\n",
    "    (9, random_string(6),NULL,1,'Marcella','Sandy',current_date + (floor(random() * 350 + 1)::int), floor(random() * 700 + 100)::int),\n",
    "    (10, random_string(6),NULL,1,'Logan','Bessie',current_date + (floor(random() * 350 + 1)::int), floor(random() * 700 + 100)::int),\n",
    "    (11, random_string(6),NULL,1,'Elliott','Seth',current_date + (floor(random() * 350 + 1)::int), floor(random() * 700 + 100)::int),\n",
    "    (12, random_string(6),NULL,1,'Sylvester','Randy',current_date + (floor(random() * 350 + 1)::int), floor(random() * 700 + 100)::int),\n",
    "    (13, random_string(6),NULL,1,'Cunningham','Harry',current_date + (floor(random() * 350 + 1)::int), floor(random() * 700 + 100)::int),\n",
    "    (14, random_string(6),NULL,1,'Carl','Ivan',current_date + (floor(random() * 350 + 1)::int), floor(random() * 700 + 100)::int),\n",
    "    (15, random_string(6),NULL,1,'Jacob','Lorene',current_date + (floor(random() * 350 + 1)::int), floor(random() * 700 + 100)::int),\n",
    "    (16, random_string(6),NULL,1,'Larry','Willie',current_date + (floor(random() * 350 + 1)::int), floor(random() * 700 + 100)::int),\n",
    "    (17, random_string(6),NULL,1,'Chris','Leigh',current_date + (floor(random() * 350 + 1)::int), floor(random() * 700 + 100)::int),\n",
    "    (18, random_string(6),NULL,1,'Andrew','Lois',current_date + (floor(random() * 350 + 1)::int), floor(random() * 700 + 100)::int),\n",
    "    (19, random_string(6),NULL,1,'Kayla','Katrina',current_date + (floor(random() * 350 + 1)::int), floor(random() * 700 + 100)::int),\n",
    "    (20, random_string(6),NULL,1,'Meyers','Lindsey',current_date + (floor(random() * 350 + 1)::int), floor(random() * 700 + 100)::int),\n",
    "    (21, random_string(6),NULL,1,'Schammel','Joel',current_date + (floor(random() * 350 + 1)::int), floor(random() * 700 + 100)::int),\n",
    "    (22, random_string(6),NULL,1,'Bailey','Peggy',current_date + (floor(random() * 350 + 1)::int), floor(random() * 700 + 100)::int),\n",
    "    (23, random_string(6),NULL,1,'Brenden','Robin',current_date + (floor(random() * 350 + 1)::int), floor(random() * 700 + 100)::int),\n",
    "    (24, random_string(6),NULL,1,'Trochtenberg','Janie',current_date + (floor(random() * 350 + 1)::int), floor(random() * 700 + 100)::int),\n",
    "    (25, random_string(6),NULL,1,'Barmann','Frances',current_date + (floor(random() * 350 + 1)::int), floor(random() * 700 + 100)::int),\n",
    "    (26, random_string(6),NULL,1,'Pangan','Perry',current_date + (floor(random() * 350 + 1)::int), floor(random() * 700 + 100)::int),\n",
    "    (27, random_string(6),NULL,1,'Dorrow','Lowell',current_date + (floor(random() * 350 + 1)::int), floor(random() * 700 + 100)::int),\n",
    "    (28, random_string(6),NULL,1,'Ferguson','Sergio',current_date + (floor(random() * 350 + 1)::int), floor(random() * 700 + 100)::int),\n",
    "    (29, random_string(6),NULL,1,'Brown','Karla',current_date + (floor(random() * 350 + 1)::int), floor(random() * 700 + 100)::int),\n",
    "    (30, random_string(6),NULL,1,'Johnson','Ross',current_date + (floor(random() * 350 + 1)::int), floor(random() * 700 + 100)::int),\n",
    "    (31, random_string(6),NULL,1,'Klump','Cindy',current_date + (floor(random() * 350 + 1)::int), floor(random() * 700 + 100)::int),\n",
    "    (32, random_string(6),NULL,1,'Dylan','Emily',current_date + (floor(random() * 350 + 1)::int), floor(random() * 700 + 100)::int),\n",
    "    (33, random_string(6),NULL,1,'Aaron','Elisa',current_date + (floor(random() * 350 + 1)::int), floor(random() * 700 + 100)::int),\n",
    "    (34, random_string(6),NULL,1,'Marisa','Martha',current_date + (floor(random() * 350 + 1)::int), floor(random() * 700 + 100)::int),\n",
    "    (35, random_string(6),NULL,1,'Emily','Muriel',current_date + (floor(random() * 350 + 1)::int), floor(random() * 700 + 100)::int),\n",
    "    (36, random_string(6),NULL,1,'Alex','Drew',current_date + (floor(random() * 350 + 1)::int), floor(random() * 700 + 100)::int),\n",
    "    (37, random_string(6),NULL,2,'Johnson','Veronica',current_date + (floor(random() * 350 + 1)::int), floor(random() * 700 + 100)::int),\n",
    "    (38, random_string(6),NULL,3,'Ali','Henry',current_date + (floor(random() * 350 + 1)::int), floor(random() * 700 + 100)::int),\n",
    "    (39, random_string(6),NULL,1,'Smith','Bryan',current_date + (floor(random() * 350 + 1)::int), floor(random() * 700 + 100)::int),\n",
    "    (40, random_string(6),NULL,1,'Steinsfield','Clark',current_date + (floor(random() * 350 + 1)::int), floor(random() * 700 + 100)::int),\n",
    "    (41, random_string(6),NULL,1,'Gasperino','Jessica',current_date + (floor(random() * 350 + 1)::int), floor(random() * 700 + 100)::int),\n",
    "    (42, random_string(6),NULL,1,'Gandy','Brent',current_date + (floor(random() * 350 + 1)::int), floor(random() * 700 + 100)::int),\n",
    "    (43, random_string(6),NULL,1,'Hollander','Crystal',current_date + (floor(random() * 350 + 1)::int), floor(random() * 700 + 100)::int),\n",
    "    (44, random_string(6),NULL,1,'Jacobson','Rudolph',current_date + (floor(random() * 350 + 1)::int), floor(random() * 700 + 100)::int),\n",
    "    (45, random_string(6),NULL,1,'McNally','Pam',current_date + (floor(random() * 350 + 1)::int), floor(random() * 700 + 100)::int),\n",
    "    (46, random_string(6),NULL,1,'Hunter','Jessica',current_date + (floor(random() * 350 + 1)::int), floor(random() * 700 + 100)::int),\n",
    "    (47, random_string(6),NULL,1,'Harbison','Phillip',current_date + (floor(random() * 350 + 1)::int), floor(random() * 700 + 100)::int),\n",
    "    (48, random_string(6),NULL,1,'Mathew','Geoffrey',current_date + (floor(random() * 350 + 1)::int), floor(random() * 700 + 100)::int),\n",
    "    (49, random_string(6),NULL,1,'Horatio','Dan',current_date + (floor(random() * 350 + 1)::int), floor(random() * 700 + 100)::int),\n",
    "    (50, random_string(6),NULL,1,'Mallory','Alyssa',current_date + (floor(random() * 350 + 1)::int), floor(random() * 700 + 100)::int),\n",
    "    (51, random_string(6),NULL,1,'Clarence','McNally',current_date + (floor(random() * 350 + 1)::int), floor(random() * 700 + 100)::int),\n",
    "    (52, random_string(6),NULL,1,'Jessica','Johnson',current_date + (floor(random() * 350 + 1)::int), floor(random() * 700 + 100)::int),\n",
    "    (53, random_string(6),NULL,3,'Veronica','Steinsfield',current_date + (floor(random() * 350 + 1)::int), floor(random() * 700 + 100)::int),\n",
    "    (54, random_string(6),NULL,1,'Veronica','Pam',current_date + (floor(random() * 350 + 1)::int), floor(random() * 700 + 100)::int),\n",
    "    (55, random_string(6),NULL,1,'Henry','Smith',current_date + (floor(random() * 350 + 1)::int), floor(random() * 700 + 100)::int),\n",
    "    (56, random_string(6),NULL,1,'Johnson','Roy',current_date + (floor(random() * 350 + 1)::int), floor(random() * 700 + 100)::int),\n",
    "    (57, random_string(6),NULL,1,'Hollander','Bryan',current_date + (floor(random() * 350 + 1)::int), floor(random() * 700 + 100)::int),\n",
    "    (58, random_string(6),NULL,1,'Gasperino','Muriel',current_date + (floor(random() * 350 + 1)::int), floor(random() * 700 + 100)::int),\n",
    "    (59, random_string(6),NULL,1,'Brent','Gandy',current_date + (floor(random() * 350 + 1)::int), floor(random() * 700 + 100)::int),\n",
    "    (60, random_string(6),NULL,1,'Jacobson','Perry',current_date + (floor(random() * 350 + 1)::int), floor(random() * 700 + 100)::int),\n",
    "    (61, random_string(6),NULL,1,'Klump','Lowell',current_date + (floor(random() * 350 + 1)::int), floor(random() * 700 + 100)::int),\n",
    "    (62, random_string(6),NULL,1,'Clarence','Cunningham',current_date + (floor(random() * 350 + 1)::int), floor(random() * 700 + 100)::int),\n",
    "    (63, random_string(6),NULL,3,'Gross','Charlotte',current_date + (floor(random() * 350 + 1)::int), floor(random() * 700 + 100)::int),\n",
    "    (64, random_string(6),NULL,1,'Francisco','Hoffman',current_date + (floor(random() * 350 + 1)::int), floor(random() * 700 + 100)::int),\n",
    "    (65, random_string(6),NULL,1,'Douglas','Antoinette',current_date + (floor(random() * 350 + 1)::int), floor(random() * 700 + 100)::int),\n",
    "    (66, random_string(6),NULL,1,'Graves','Melinda',current_date + (floor(random() * 350 + 1)::int), floor(random() * 700 + 100)::int),\n",
    "    (67, random_string(6),NULL,1,'Armstrong','Cecelia',current_date + (floor(random() * 350 + 1)::int), floor(random() * 700 + 100)::int),\n",
    "    (68, random_string(6),NULL,1,'Mcbride','Troy',current_date + (floor(random() * 350 + 1)::int), floor(random() * 700 + 100)::int),\n",
    "    (69, random_string(6),NULL,2,'Mcgee','Bobbie',current_date + (floor(random() * 350 + 1)::int), floor(random() * 700 + 100)::int),\n",
    "    (70, random_string(6),NULL,1,'Marshall','Debbie',current_date + (floor(random() * 350 + 1)::int), floor(random() * 700 + 100)::int),\n",
    "    (71, random_string(6),NULL,1,'Cooper','Natalie',current_date + (floor(random() * 350 + 1)::int), floor(random() * 700 + 100)::int),\n",
    "    (72, random_string(6),NULL,4,'Harmon','Corey',current_date + (floor(random() * 350 + 1)::int), floor(random() * 700 + 100)::int),\n",
    "    (73, random_string(6),NULL,1,'Black','Guillermo',current_date + (floor(random() * 350 + 1)::int), floor(random() * 700 + 100)::int),\n",
    "    (74, random_string(6),NULL,1,'Brewer','Larry',current_date + (floor(random() * 350 + 1)::int), floor(random() * 700 + 100)::int),\n",
    "    (75, random_string(6),NULL,1,'Hudson','Anne',current_date + (floor(random() * 350 + 1)::int), floor(random() * 700 + 100)::int),\n",
    "    (76, random_string(6),NULL,2,'Conner','Joe',current_date + (floor(random() * 350 + 1)::int), floor(random() * 700 + 100)::int),\n",
    "    (77, random_string(6),NULL,1,'Miles','May',current_date + (floor(random() * 350 + 1)::int), floor(random() * 700 + 100)::int),\n",
    "    (78, random_string(6),NULL,1,'Hayes','Katie',current_date + (floor(random() * 350 + 1)::int), floor(random() * 700 + 100)::int),\n",
    "    (79, random_string(6),NULL,1,'Boyd','Kyle',current_date + (floor(random() * 350 + 1)::int), floor(random() * 700 + 100)::int),\n",
    "    (80, random_string(6),NULL,1,'Rodriguez','Nick',current_date + (floor(random() * 350 + 1)::int), floor(random() * 700 + 100)::int),\n",
    "    (81, random_string(6),NULL,1,'Adams','Kim',current_date + (floor(random() * 350 + 1)::int), floor(random() * 700 + 100)::int),\n",
    "    (82, random_string(6),NULL,1,'Thompson','Nakia',current_date + (floor(random() * 350 + 1)::int), floor(random() * 700 + 100)::int),\n",
    "    (83, random_string(6),NULL,1,'Hale','Courtney',current_date + (floor(random() * 350 + 1)::int), floor(random() * 700 + 100)::int),\n",
    "    (84, random_string(6),NULL,1,'Harper','Jacob',current_date + (floor(random() * 350 + 1)::int), floor(random() * 700 + 100)::int),\n",
    "    (85, random_string(6),NULL,2,'Mckenzie','Syndey',current_date + (floor(random() * 350 + 1)::int), floor(random() * 700 + 100)::int),\n",
    "    (86, random_string(6),NULL,1,'Payne','Tyler',current_date + (floor(random() * 350 + 1)::int), floor(random() * 700 + 100)::int),\n",
    "    (87, random_string(6),NULL,1,'Carlson','Elijah',current_date + (floor(random() * 350 + 1)::int), floor(random() * 700 + 100)::int),\n",
    "    (88, random_string(6),NULL,1,'Mccarthy','Leroy',current_date + (floor(random() * 350 + 1)::int), floor(random() * 700 + 100)::int),\n",
    "    (89, random_string(6),NULL,1,'Mccormick','Ronald',current_date + (floor(random() * 350 + 1)::int), floor(random() * 700 + 100)::int),\n",
    "    (90, random_string(6),NULL,4,'Hill','McKenzie',current_date + (floor(random() * 350 + 1)::int), floor(random() * 700 + 100)::int),\n",
    "    (91, random_string(6),NULL,1,'Becker','Bea',current_date + (floor(random() * 350 + 1)::int), floor(random() * 700 + 100)::int),\n",
    "    (92, random_string(6),NULL,1,'West','Jess',current_date + (floor(random() * 350 + 1)::int), floor(random() * 700 + 100)::int),\n",
    "    (93, random_string(6),NULL,1,'Garth','Mitt',current_date + (floor(random() * 350 + 1)::int), floor(random() * 700 + 100)::int),\n",
    "    (94, random_string(6),NULL,2,'Brooks','Micheal',current_date + (floor(random() * 350 + 1)::int), floor(random() * 700 + 100)::int),\n",
    "    (95, random_string(6),NULL,1,'Brown','Mitch',current_date + (floor(random() * 350 + 1)::int), floor(random() * 700 + 100)::int),\n",
    "    (96, random_string(6),NULL,1,'Marxkors','Joe',current_date + (floor(random() * 350 + 1)::int), floor(random() * 700 + 100)::int),\n",
    "    (97, random_string(6),NULL,1,'Billy','Julie',current_date + (floor(random() * 350 + 1)::int), floor(random() * 700 + 100)::int),\n",
    "    (98, random_string(6),NULL,1,'Van Hugh','Kate',current_date + (floor(random() * 350 + 1)::int), floor(random() * 700 + 100)::int),\n",
    "    (99, random_string(6),NULL,4,'Roberts','Annie',current_date + (floor(random() * 350 + 1)::int), floor(random() * 700 + 100)::int),\n",
    "    (100, random_string(6),NULL,4,'Ca','Tom',current_date + (floor(random() * 350 + 1)::int), floor(random() * 700 + 100)::int)\n",
    ";"
   ]
  },
  {
   "cell_type": "code",
   "execution_count": null,
   "metadata": {
    "collapsed": true
   },
   "outputs": [],
   "source": [
    "# %%sql\n",
    "# SELECT * FROM member LIMIT 20;"
   ]
  },
  {
   "cell_type": "markdown",
   "metadata": {},
   "source": [
    "## member_address table"
   ]
  },
  {
   "cell_type": "code",
   "execution_count": 11,
   "metadata": {},
   "outputs": [
    {
     "name": "stdout",
     "output_type": "stream",
     "text": [
      "Done.\n"
     ]
    },
    {
     "data": {
      "text/plain": [
       "[]"
      ]
     },
     "execution_count": 11,
     "metadata": {},
     "output_type": "execute_result"
    }
   ],
   "source": [
    "%%sql\n",
    "CREATE TABLE member_address (\n",
    "    student_id INTEGER REFERENCES member (student_id) ON DELETE CASCADE,\n",
    "    street_address VARCHAR(255),\n",
    "    city VARCHAR(100),\n",
    "    state VARCHAR(100),\n",
    "    zip_code VARCHAR(100)\n",
    ");"
   ]
  },
  {
   "cell_type": "code",
   "execution_count": 12,
   "metadata": {},
   "outputs": [
    {
     "name": "stdout",
     "output_type": "stream",
     "text": [
      "Done.\n"
     ]
    },
    {
     "data": {
      "text/plain": [
       "[]"
      ]
     },
     "execution_count": 12,
     "metadata": {},
     "output_type": "execute_result"
    }
   ],
   "source": [
    "%%sql\n",
    "TRUNCATE member_address CASCADE;"
   ]
  },
  {
   "cell_type": "code",
   "execution_count": 13,
   "metadata": {},
   "outputs": [
    {
     "name": "stdout",
     "output_type": "stream",
     "text": [
      "50 rows affected.\n"
     ]
    },
    {
     "data": {
      "text/plain": [
       "[]"
      ]
     },
     "execution_count": 13,
     "metadata": {},
     "output_type": "execute_result"
    }
   ],
   "source": [
    "%%sql\n",
    "INSERT INTO member_address VALUES\n",
    "    (1, (floor(random() * 2500 + 1000)::int) || ' ' || random_string(5), 'Columbia', 'MO', '65211'),\n",
    "    (2, (floor(random() * 2500 + 1000)::int) || ' ' || random_string(5), 'Columbia', 'MO', '65211'),\n",
    "    (3, (floor(random() * 2500 + 1000)::int) || ' ' || random_string(5), 'Columbia', 'MO', '65211'),\n",
    "    (4, (floor(random() * 2500 + 1000)::int) || ' ' || random_string(5), 'Columbia', 'MO', '65211'),\n",
    "    (5, (floor(random() * 2500 + 1000)::int) || ' ' || random_string(5), 'Columbia', 'MO', '65211'),\n",
    "    (6, (floor(random() * 2500 + 1000)::int) || ' ' || random_string(5), 'Columbia', 'MO', '65211'),\n",
    "    (7, (floor(random() * 2500 + 1000)::int) || ' ' || random_string(5), 'Columbia', 'MO', '65211'),\n",
    "    (8, (floor(random() * 2500 + 1000)::int) || ' ' || random_string(5), 'Columbia', 'MO', '65211'),\n",
    "    (9, (floor(random() * 2500 + 1000)::int) || ' ' || random_string(5), 'Columbia', 'MO', '65211'),\n",
    "    (10, (floor(random() * 2500 + 1000)::int) || ' ' || random_string(5), 'Columbia', 'MO', '65211'),\n",
    "    (11, (floor(random() * 2500 + 1000)::int) || ' ' || random_string(5), 'Columbia', 'MO', '65211'),\n",
    "    (12, (floor(random() * 2500 + 1000)::int) || ' ' || random_string(5), 'Columbia', 'MO', '65211'),\n",
    "    (13, (floor(random() * 2500 + 1000)::int) || ' ' || random_string(5), 'Columbia', 'MO', '65211'),\n",
    "    (14, (floor(random() * 2500 + 1000)::int) || ' ' || random_string(5), 'Columbia', 'MO', '65211'),\n",
    "    (15, (floor(random() * 2500 + 1000)::int) || ' ' || random_string(5), 'Columbia', 'MO', '65211'),\n",
    "    (16, (floor(random() * 2500 + 1000)::int) || ' ' || random_string(5), 'Columbia', 'MO', '65211'),\n",
    "    (17, (floor(random() * 2500 + 1000)::int) || ' ' || random_string(5), 'Columbia', 'MO', '65211'),\n",
    "    (18, (floor(random() * 2500 + 1000)::int) || ' ' || random_string(5), 'Columbia', 'MO', '65211'),\n",
    "    (19, (floor(random() * 2500 + 1000)::int) || ' ' || random_string(5), 'Columbia', 'MO', '65211'),\n",
    "    (20, (floor(random() * 2500 + 1000)::int) || ' ' || random_string(5), 'Columbia', 'MO', '65211'),\n",
    "    (21, (floor(random() * 2500 + 1000)::int) || ' ' || random_string(5), 'Columbia', 'MO', '65211'),\n",
    "    (22, (floor(random() * 2500 + 1000)::int) || ' ' || random_string(5), 'Columbia', 'MO', '65211'),\n",
    "    (23, (floor(random() * 2500 + 1000)::int) || ' ' || random_string(5), 'Columbia', 'MO', '65211'),\n",
    "    (24, (floor(random() * 2500 + 1000)::int) || ' ' || random_string(5), 'Columbia', 'MO', '65211'),\n",
    "    (25, (floor(random() * 2500 + 1000)::int) || ' ' || random_string(5), 'Columbia', 'MO', '65211'),\n",
    "    (26, (floor(random() * 2500 + 1000)::int) || ' ' || random_string(5), 'Columbia', 'MO', '65211'),\n",
    "    (27, (floor(random() * 2500 + 1000)::int) || ' ' || random_string(5), 'Columbia', 'MO', '65211'),\n",
    "    (28, (floor(random() * 2500 + 1000)::int) || ' ' || random_string(5), 'Columbia', 'MO', '65211'),\n",
    "    (29, (floor(random() * 2500 + 1000)::int) || ' ' || random_string(5), 'Columbia', 'MO', '65211'),\n",
    "    (30, (floor(random() * 2500 + 1000)::int) || ' ' || random_string(5), 'Columbia', 'MO', '65211'),\n",
    "    (31, (floor(random() * 2500 + 1000)::int) || ' ' || random_string(5), 'Columbia', 'MO', '65211'),\n",
    "    (32, (floor(random() * 2500 + 1000)::int) || ' ' || random_string(5), 'Columbia', 'MO', '65211'),\n",
    "    (33, (floor(random() * 2500 + 1000)::int) || ' ' || random_string(5), 'Columbia', 'MO', '65211'),\n",
    "    (34, (floor(random() * 2500 + 1000)::int) || ' ' || random_string(5), 'Columbia', 'MO', '65211'),\n",
    "    (35, (floor(random() * 2500 + 1000)::int) || ' ' || random_string(5), 'Columbia', 'MO', '65211'),\n",
    "    (36, (floor(random() * 2500 + 1000)::int) || ' ' || random_string(5), 'Columbia', 'MO', '65211'),\n",
    "    (37, (floor(random() * 2500 + 1000)::int) || ' ' || random_string(5), 'Columbia', 'MO', '65211'),\n",
    "    (38, (floor(random() * 2500 + 1000)::int) || ' ' || random_string(5), 'Columbia', 'MO', '65211'),\n",
    "    (39, (floor(random() * 2500 + 1000)::int) || ' ' || random_string(5), 'Columbia', 'MO', '65211'),\n",
    "    (40, (floor(random() * 2500 + 1000)::int) || ' ' || random_string(5), 'Columbia', 'MO', '65211'),\n",
    "    (41, (floor(random() * 2500 + 1000)::int) || ' ' || random_string(5), 'Columbia', 'MO', '65211'),\n",
    "    (42, (floor(random() * 2500 + 1000)::int) || ' ' || random_string(5), 'Columbia', 'MO', '65211'),\n",
    "    (43, (floor(random() * 2500 + 1000)::int) || ' ' || random_string(5), 'Columbia', 'MO', '65211'),\n",
    "    (44, (floor(random() * 2500 + 1000)::int) || ' ' || random_string(5), 'Columbia', 'MO', '65211'),\n",
    "    (45, (floor(random() * 2500 + 1000)::int) || ' ' || random_string(5), 'Columbia', 'MO', '65211'),\n",
    "    (46, (floor(random() * 2500 + 1000)::int) || ' ' || random_string(5), 'Columbia', 'MO', '65211'),\n",
    "    (47, (floor(random() * 2500 + 1000)::int) || ' ' || random_string(5), 'Columbia', 'MO', '65211'),\n",
    "    (48, (floor(random() * 2500 + 1000)::int) || ' ' || random_string(5), 'Columbia', 'MO', '65211'),\n",
    "    (49, (floor(random() * 2500 + 1000)::int) || ' ' || random_string(5), 'Columbia', 'MO', '65211'),\n",
    "    (50, (floor(random() * 2500 + 1000)::int) || ' ' || random_string(5), 'Columbia', 'MO', '65211')\n",
    ";"
   ]
  },
  {
   "cell_type": "markdown",
   "metadata": {},
   "source": [
    "## member_contact table"
   ]
  },
  {
   "cell_type": "code",
   "execution_count": 14,
   "metadata": {},
   "outputs": [
    {
     "name": "stdout",
     "output_type": "stream",
     "text": [
      "Done.\n"
     ]
    },
    {
     "data": {
      "text/plain": [
       "[]"
      ]
     },
     "execution_count": 14,
     "metadata": {},
     "output_type": "execute_result"
    }
   ],
   "source": [
    "%%sql\n",
    "CREATE TABLE member_contact (\n",
    "    student_id INTEGER REFERENCES member (student_id) ON DELETE CASCADE,\n",
    "    email_address VARCHAR(255),\n",
    "    phone_number VARCHAR(25)\n",
    ");"
   ]
  },
  {
   "cell_type": "code",
   "execution_count": 15,
   "metadata": {},
   "outputs": [
    {
     "name": "stdout",
     "output_type": "stream",
     "text": [
      "Done.\n"
     ]
    },
    {
     "data": {
      "text/plain": [
       "[]"
      ]
     },
     "execution_count": 15,
     "metadata": {},
     "output_type": "execute_result"
    }
   ],
   "source": [
    "%%sql\n",
    "TRUNCATE member_contact CASCADE;"
   ]
  },
  {
   "cell_type": "code",
   "execution_count": 16,
   "metadata": {},
   "outputs": [
    {
     "name": "stdout",
     "output_type": "stream",
     "text": [
      "50 rows affected.\n"
     ]
    },
    {
     "data": {
      "text/plain": [
       "[]"
      ]
     },
     "execution_count": 16,
     "metadata": {},
     "output_type": "execute_result"
    }
   ],
   "source": [
    "%%sql\n",
    "INSERT INTO member_contact VALUES\n",
    "    (1, random_string(6) || '@mail.missouri.edu'),\n",
    "    (2, random_string(6) || '@mail.missouri.edu'),\n",
    "    (3, random_string(6) || '@mail.missouri.edu'),\n",
    "    (4, random_string(6) || '@mail.missouri.edu'),\n",
    "    (5, random_string(6) || '@mail.missouri.edu'),\n",
    "    (6, random_string(6) || '@mail.missouri.edu'),\n",
    "    (7, random_string(6) || '@mail.missouri.edu'),\n",
    "    (8, random_string(6) || '@mail.missouri.edu'),\n",
    "    (9, random_string(6) || '@mail.missouri.edu'),\n",
    "    (10, random_string(6) || '@mail.missouri.edu'),\n",
    "    (11, random_string(6) || '@mail.missouri.edu'),\n",
    "    (12, random_string(6) || '@mail.missouri.edu'),\n",
    "    (13, random_string(6) || '@mail.missouri.edu'),\n",
    "    (14, random_string(6) || '@mail.missouri.edu'),\n",
    "    (15, random_string(6) || '@mail.missouri.edu'),\n",
    "    (16, random_string(6) || '@mail.missouri.edu'),\n",
    "    (17, random_string(6) || '@mail.missouri.edu'),\n",
    "    (18, random_string(6) || '@mail.missouri.edu'),\n",
    "    (19, random_string(6) || '@mail.missouri.edu'),\n",
    "    (20, random_string(6) || '@mail.missouri.edu'),\n",
    "    (21, random_string(6) || '@mail.missouri.edu'),\n",
    "    (22, random_string(6) || '@mail.missouri.edu'),\n",
    "    (23, random_string(6) || '@mail.missouri.edu'),\n",
    "    (24, random_string(6) || '@mail.missouri.edu'),\n",
    "    (25, random_string(6) || '@mail.missouri.edu'),\n",
    "    (26, random_string(6) || '@mail.missouri.edu'),\n",
    "    (27, random_string(6) || '@mail.missouri.edu'),\n",
    "    (28, random_string(6) || '@mail.missouri.edu'),\n",
    "    (29, random_string(6) || '@mail.missouri.edu'),\n",
    "    (30, random_string(6) || '@mail.missouri.edu'),\n",
    "    (31, random_string(6) || '@mail.missouri.edu'),\n",
    "    (32, random_string(6) || '@mail.missouri.edu'),\n",
    "    (33, random_string(6) || '@mail.missouri.edu'),\n",
    "    (34, random_string(6) || '@mail.missouri.edu'),\n",
    "    (35, random_string(6) || '@mail.missouri.edu'),\n",
    "    (36, random_string(6) || '@mail.missouri.edu'),\n",
    "    (37, random_string(6) || '@mail.missouri.edu'),\n",
    "    (38, random_string(6) || '@mail.missouri.edu'),\n",
    "    (39, random_string(6) || '@mail.missouri.edu'),\n",
    "    (40, random_string(6) || '@mail.missouri.edu'),\n",
    "    (41, random_string(6) || '@mail.missouri.edu'),\n",
    "    (42, random_string(6) || '@mail.missouri.edu'),\n",
    "    (43, random_string(6) || '@mail.missouri.edu'),\n",
    "    (44, random_string(6) || '@mail.missouri.edu'),\n",
    "    (45, random_string(6) || '@mail.missouri.edu'),\n",
    "    (46, random_string(6) || '@mail.missouri.edu'),\n",
    "    (47, random_string(6) || '@mail.missouri.edu'),\n",
    "    (48, random_string(6) || '@mail.missouri.edu'),\n",
    "    (49, random_string(6) || '@mail.missouri.edu'),\n",
    "    (50, random_string(6) || '@mail.missouri.edu')\n",
    ";"
   ]
  },
  {
   "cell_type": "markdown",
   "metadata": {},
   "source": [
    "## emergencyContact table"
   ]
  },
  {
   "cell_type": "code",
   "execution_count": 17,
   "metadata": {},
   "outputs": [
    {
     "name": "stdout",
     "output_type": "stream",
     "text": [
      "Done.\n"
     ]
    },
    {
     "data": {
      "text/plain": [
       "[]"
      ]
     },
     "execution_count": 17,
     "metadata": {},
     "output_type": "execute_result"
    }
   ],
   "source": [
    "%%sql \n",
    "CREATE TABLE emergencyContact (\n",
    "    student_id INTEGER REFERENCES member (student_id) ON DELETE CASCADE,\n",
    "    last_name VARCHAR(50),\n",
    "    first_name VARCHAR(50),\n",
    "    email_address VARCHAR(255),\n",
    "    phone_number VARCHAR(25),\n",
    "    backup_phone_number VARCHAR(25),\n",
    "    street_address VARCHAR(255),\n",
    "    city VARCHAR(100),\n",
    "    state VARCHAR(100),\n",
    "    zip_code VARCHAR(100),\n",
    "    primary_healthcare_provider VARCHAR(255),\n",
    "    blood_type VARCHAR(25),\n",
    "    medical_conditions VARCHAR(255),\n",
    "    medications VARCHAR(255),\n",
    "    allergies VARCHAR(255),\n",
    "    PRIMARY KEY (student_id)\n",
    ");"
   ]
  },
  {
   "cell_type": "code",
   "execution_count": 18,
   "metadata": {},
   "outputs": [
    {
     "name": "stdout",
     "output_type": "stream",
     "text": [
      "Done.\n"
     ]
    },
    {
     "data": {
      "text/plain": [
       "[]"
      ]
     },
     "execution_count": 18,
     "metadata": {},
     "output_type": "execute_result"
    }
   ],
   "source": [
    "%%sql\n",
    "TRUNCATE emergencyContact CASCADE;"
   ]
  },
  {
   "cell_type": "code",
   "execution_count": 19,
   "metadata": {},
   "outputs": [
    {
     "name": "stdout",
     "output_type": "stream",
     "text": [
      "50 rows affected.\n"
     ]
    },
    {
     "data": {
      "text/plain": [
       "[]"
      ]
     },
     "execution_count": 19,
     "metadata": {},
     "output_type": "execute_result"
    }
   ],
   "source": [
    "%%sql\n",
    "INSERT INTO emergencyContact VALUES\n",
    "    (100,random_string(8),random_string(5),random_string(6) || '@mail.missouri.edu',NULL,NULL,(floor(random() * 2500 + 1000)::int) || ' ' || random_string(5),'Columbia','MO','65211'),\n",
    "    (99,random_string(8),random_string(5),random_string(6) || '@mail.missouri.edu',NULL,NULL,(floor(random() * 2500 + 1000)::int) || ' ' || random_string(5),'Columbia','MO','65211'),\n",
    "    (98,random_string(8),random_string(5),random_string(6) || '@mail.missouri.edu',NULL,NULL,(floor(random() * 2500 + 1000)::int) || ' ' || random_string(5),'Columbia','MO','65211'),\n",
    "    (97,random_string(8),random_string(5),random_string(6) || '@mail.missouri.edu',NULL,NULL,(floor(random() * 2500 + 1000)::int) || ' ' || random_string(5),'Columbia','MO','65211'),\n",
    "    (96,random_string(8),random_string(5),random_string(6) || '@mail.missouri.edu',NULL,NULL,(floor(random() * 2500 + 1000)::int) || ' ' || random_string(5),'Columbia','MO','65211'),\n",
    "    (95,random_string(8),random_string(5),random_string(6) || '@mail.missouri.edu',NULL,NULL,(floor(random() * 2500 + 1000)::int) || ' ' || random_string(5),'Columbia','MO','65211'),\n",
    "    (94,random_string(8),random_string(5),random_string(6) || '@mail.missouri.edu',NULL,NULL,(floor(random() * 2500 + 1000)::int) || ' ' || random_string(5),'Columbia','MO','65211'),\n",
    "    (93,random_string(8),random_string(5),random_string(6) || '@mail.missouri.edu',NULL,NULL,(floor(random() * 2500 + 1000)::int) || ' ' || random_string(5),'Columbia','MO','65211'),\n",
    "    (92,random_string(8),random_string(5),random_string(6) || '@mail.missouri.edu',NULL,NULL,(floor(random() * 2500 + 1000)::int) || ' ' || random_string(5),'Columbia','MO','65211'),\n",
    "    (91,random_string(8),random_string(5),random_string(6) || '@mail.missouri.edu',NULL,NULL,(floor(random() * 2500 + 1000)::int) || ' ' || random_string(5),'Columbia','MO','65211'),\n",
    "    (90,random_string(8),random_string(5),random_string(6) || '@mail.missouri.edu',NULL,NULL,(floor(random() * 2500 + 1000)::int) || ' ' || random_string(5),'Columbia','MO','65211'),\n",
    "    (89,random_string(8),random_string(5),random_string(6) || '@mail.missouri.edu',NULL,NULL,(floor(random() * 2500 + 1000)::int) || ' ' || random_string(5),'Columbia','MO','65211'),\n",
    "    (88,random_string(8),random_string(5),random_string(6) || '@mail.missouri.edu',NULL,NULL,(floor(random() * 2500 + 1000)::int) || ' ' || random_string(5),'Columbia','MO','65211'),\n",
    "    (87,random_string(8),random_string(5),random_string(6) || '@mail.missouri.edu',NULL,NULL,(floor(random() * 2500 + 1000)::int) || ' ' || random_string(5),'Columbia','MO','65211'),\n",
    "    (86,random_string(8),random_string(5),random_string(6) || '@mail.missouri.edu',NULL,NULL,(floor(random() * 2500 + 1000)::int) || ' ' || random_string(5),'Columbia','MO','65211'),\n",
    "    (85,random_string(8),random_string(5),random_string(6) || '@mail.missouri.edu',NULL,NULL,(floor(random() * 2500 + 1000)::int) || ' ' || random_string(5),'Columbia','MO','65211'),\n",
    "    (84,random_string(8),random_string(5),random_string(6) || '@mail.missouri.edu',NULL,NULL,(floor(random() * 2500 + 1000)::int) || ' ' || random_string(5),'Columbia','MO','65211'),\n",
    "    (83,random_string(8),random_string(5),random_string(6) || '@mail.missouri.edu',NULL,NULL,(floor(random() * 2500 + 1000)::int) || ' ' || random_string(5),'Columbia','MO','65211'),\n",
    "    (82,random_string(8),random_string(5),random_string(6) || '@mail.missouri.edu',NULL,NULL,(floor(random() * 2500 + 1000)::int) || ' ' || random_string(5),'Columbia','MO','65211'),\n",
    "    (81,random_string(8),random_string(5),random_string(6) || '@mail.missouri.edu',NULL,NULL,(floor(random() * 2500 + 1000)::int) || ' ' || random_string(5),'Columbia','MO','65211'),\n",
    "    (80,random_string(8),random_string(5),random_string(6) || '@mail.missouri.edu',NULL,NULL,(floor(random() * 2500 + 1000)::int) || ' ' || random_string(5),'Columbia','MO','65211'),\n",
    "    (79,random_string(8),random_string(5),random_string(6) || '@mail.missouri.edu',NULL,NULL,(floor(random() * 2500 + 1000)::int) || ' ' || random_string(5),'Columbia','MO','65211'),\n",
    "    (78,random_string(8),random_string(5),random_string(6) || '@mail.missouri.edu',NULL,NULL,(floor(random() * 2500 + 1000)::int) || ' ' || random_string(5),'Columbia','MO','65211'),\n",
    "    (77,random_string(8),random_string(5),random_string(6) || '@mail.missouri.edu',NULL,NULL,(floor(random() * 2500 + 1000)::int) || ' ' || random_string(5),'Columbia','MO','65211'),\n",
    "    (76,random_string(8),random_string(5),random_string(6) || '@mail.missouri.edu',NULL,NULL,(floor(random() * 2500 + 1000)::int) || ' ' || random_string(5),'Columbia','MO','65211'),\n",
    "    (75,random_string(8),random_string(5),random_string(6) || '@mail.missouri.edu',NULL,NULL,(floor(random() * 2500 + 1000)::int) || ' ' || random_string(5),'Columbia','MO','65211'),\n",
    "    (74,random_string(8),random_string(5),random_string(6) || '@mail.missouri.edu',NULL,NULL,(floor(random() * 2500 + 1000)::int) || ' ' || random_string(5),'Columbia','MO','65211'),\n",
    "    (73,random_string(8),random_string(5),random_string(6) || '@mail.missouri.edu',NULL,NULL,(floor(random() * 2500 + 1000)::int) || ' ' || random_string(5),'Columbia','MO','65211'),\n",
    "    (72,random_string(8),random_string(5),random_string(6) || '@mail.missouri.edu',NULL,NULL,(floor(random() * 2500 + 1000)::int) || ' ' || random_string(5),'Columbia','MO','65211'),\n",
    "    (71,random_string(8),random_string(5),random_string(6) || '@mail.missouri.edu',NULL,NULL,(floor(random() * 2500 + 1000)::int) || ' ' || random_string(5),'Columbia','MO','65211'),\n",
    "    (70,random_string(8),random_string(5),random_string(6) || '@mail.missouri.edu',NULL,NULL,(floor(random() * 2500 + 1000)::int) || ' ' || random_string(5),'Columbia','MO','65211'),\n",
    "    (69,random_string(8),random_string(5),random_string(6) || '@mail.missouri.edu',NULL,NULL,(floor(random() * 2500 + 1000)::int) || ' ' || random_string(5),'Columbia','MO','65211'),\n",
    "    (68,random_string(8),random_string(5),random_string(6) || '@mail.missouri.edu',NULL,NULL,(floor(random() * 2500 + 1000)::int) || ' ' || random_string(5),'Columbia','MO','65211'),\n",
    "    (67,random_string(8),random_string(5),random_string(6) || '@mail.missouri.edu',NULL,NULL,(floor(random() * 2500 + 1000)::int) || ' ' || random_string(5),'Columbia','MO','65211'),\n",
    "    (66,random_string(8),random_string(5),random_string(6) || '@mail.missouri.edu',NULL,NULL,(floor(random() * 2500 + 1000)::int) || ' ' || random_string(5),'Columbia','MO','65211'),\n",
    "    (65,random_string(8),random_string(5),random_string(6) || '@mail.missouri.edu',NULL,NULL,(floor(random() * 2500 + 1000)::int) || ' ' || random_string(5),'Columbia','MO','65211'),\n",
    "    (64,random_string(8),random_string(5),random_string(6) || '@mail.missouri.edu',NULL,NULL,(floor(random() * 2500 + 1000)::int) || ' ' || random_string(5),'Columbia','MO','65211'),\n",
    "    (63,random_string(8),random_string(5),random_string(6) || '@mail.missouri.edu',NULL,NULL,(floor(random() * 2500 + 1000)::int) || ' ' || random_string(5),'Columbia','MO','65211'),\n",
    "    (62,random_string(8),random_string(5),random_string(6) || '@mail.missouri.edu',NULL,NULL,(floor(random() * 2500 + 1000)::int) || ' ' || random_string(5),'Columbia','MO','65211'),\n",
    "    (61,random_string(8),random_string(5),random_string(6) || '@mail.missouri.edu',NULL,NULL,(floor(random() * 2500 + 1000)::int) || ' ' || random_string(5),'Columbia','MO','65211'),\n",
    "    (60,random_string(8),random_string(5),random_string(6) || '@mail.missouri.edu',NULL,NULL,(floor(random() * 2500 + 1000)::int) || ' ' || random_string(5),'Columbia','MO','65211'),\n",
    "    (59,random_string(8),random_string(5),random_string(6) || '@mail.missouri.edu',NULL,NULL,(floor(random() * 2500 + 1000)::int) || ' ' || random_string(5),'Columbia','MO','65211'),\n",
    "    (58,random_string(8),random_string(5),random_string(6) || '@mail.missouri.edu',NULL,NULL,(floor(random() * 2500 + 1000)::int) || ' ' || random_string(5),'Columbia','MO','65211'),\n",
    "    (57,random_string(8),random_string(5),random_string(6) || '@mail.missouri.edu',NULL,NULL,(floor(random() * 2500 + 1000)::int) || ' ' || random_string(5),'Columbia','MO','65211'),\n",
    "    (56,random_string(8),random_string(5),random_string(6) || '@mail.missouri.edu',NULL,NULL,(floor(random() * 2500 + 1000)::int) || ' ' || random_string(5),'Columbia','MO','65211'),\n",
    "    (55,random_string(8),random_string(5),random_string(6) || '@mail.missouri.edu',NULL,NULL,(floor(random() * 2500 + 1000)::int) || ' ' || random_string(5),'Columbia','MO','65211'),\n",
    "    (54,random_string(8),random_string(5),random_string(6) || '@mail.missouri.edu',NULL,NULL,(floor(random() * 2500 + 1000)::int) || ' ' || random_string(5),'Columbia','MO','65211'),\n",
    "    (53,random_string(8),random_string(5),random_string(6) || '@mail.missouri.edu',NULL,NULL,(floor(random() * 2500 + 1000)::int) || ' ' || random_string(5),'Columbia','MO','65211'),\n",
    "    (52,random_string(8),random_string(5),random_string(6) || '@mail.missouri.edu',NULL,NULL,(floor(random() * 2500 + 1000)::int) || ' ' || random_string(5),'Columbia','MO','65211'),\n",
    "    (51,random_string(8),random_string(5),random_string(6) || '@mail.missouri.edu',NULL,NULL,(floor(random() * 2500 + 1000)::int) || ' ' || random_string(5),'Columbia','MO','65211')\n",
    ";"
   ]
  },
  {
   "cell_type": "markdown",
   "metadata": {},
   "source": [
    "## memberDues table"
   ]
  },
  {
   "cell_type": "code",
   "execution_count": 232,
   "metadata": {},
   "outputs": [
    {
     "name": "stdout",
     "output_type": "stream",
     "text": [
      "Done.\n"
     ]
    },
    {
     "data": {
      "text/plain": [
       "[]"
      ]
     },
     "execution_count": 232,
     "metadata": {},
     "output_type": "execute_result"
    }
   ],
   "source": [
    "%sql DROP TABLE IF EXISTS memberDues;"
   ]
  },
  {
   "cell_type": "code",
   "execution_count": 233,
   "metadata": {},
   "outputs": [
    {
     "name": "stdout",
     "output_type": "stream",
     "text": [
      "Done.\n"
     ]
    },
    {
     "data": {
      "text/plain": [
       "[]"
      ]
     },
     "execution_count": 233,
     "metadata": {},
     "output_type": "execute_result"
    }
   ],
   "source": [
    "%%sql \n",
    "CREATE TABLE memberDues (\n",
    "    student_id INTEGER UNIQUE REFERENCES member (student_id) ON DELETE CASCADE,\n",
    "    dues_id SERIAL UNIQUE,\n",
    "    amount_owed REAL,\n",
    "    amount_paid REAL,\n",
    "    payment_method VARCHAR(25),\n",
    "    notes VARCHAR(255),\n",
    "    PRIMARY KEY (student_id, dues_id)\n",
    ");"
   ]
  },
  {
   "cell_type": "code",
   "execution_count": 74,
   "metadata": {},
   "outputs": [
    {
     "name": "stdout",
     "output_type": "stream",
     "text": [
      "Done.\n"
     ]
    },
    {
     "data": {
      "text/plain": [
       "[]"
      ]
     },
     "execution_count": 74,
     "metadata": {},
     "output_type": "execute_result"
    }
   ],
   "source": [
    "%%sql\n",
    "TRUNCATE memberDues CASCADE;"
   ]
  },
  {
   "cell_type": "code",
   "execution_count": 234,
   "metadata": {},
   "outputs": [
    {
     "name": "stdout",
     "output_type": "stream",
     "text": [
      "54 rows affected.\n"
     ]
    },
    {
     "data": {
      "text/plain": [
       "[]"
      ]
     },
     "execution_count": 234,
     "metadata": {},
     "output_type": "execute_result"
    }
   ],
   "source": [
    "%%sql\n",
    "INSERT INTO memberDues VALUES\n",
    "    /*(floor(random() * 100 + 1)::int, 1 ,DEFAULT,125.00,round((random()*(125-1)+1)::numeric, 2)),*/\n",
    "    (100,DEFAULT,125.00,round((random()*(125-1)+1)::numeric, 2)),\n",
    "    (99,DEFAULT,125.00,round((random()*(125-1)+1)::numeric, 2)),\n",
    "    (98,DEFAULT,125.00,round((random()*(125-1)+1)::numeric, 2)),\n",
    "    (97,DEFAULT,125.00,round((random()*(125-1)+1)::numeric, 2)),\n",
    "    (96,DEFAULT,125.00,round((random()*(125-1)+1)::numeric, 2)),\n",
    "    (95,DEFAULT,125.00,round((random()*(125-1)+1)::numeric, 2)),\n",
    "    (94,DEFAULT,125.00,round((random()*(125-1)+1)::numeric, 2)),\n",
    "    (93,DEFAULT,125.00,round((random()*(125-1)+1)::numeric, 2)),\n",
    "    (92,DEFAULT,125.00,round((random()*(125-1)+1)::numeric, 2)),\n",
    "    (91,DEFAULT,125.00,round((random()*(125-1)+1)::numeric, 2)),\n",
    "    (90,DEFAULT,125.00,round((random()*(125-1)+1)::numeric, 2)),\n",
    "    (89,DEFAULT,125.00,round((random()*(125-1)+1)::numeric, 2)),\n",
    "    (88,DEFAULT,125.00,round((random()*(125-1)+1)::numeric, 2)),\n",
    "    (87,DEFAULT,125.00,round((random()*(125-1)+1)::numeric, 2)),\n",
    "    (86,DEFAULT,125.00,round((random()*(125-1)+1)::numeric, 2)),\n",
    "    (85,DEFAULT,125.00,round((random()*(125-1)+1)::numeric, 2)),\n",
    "    (84,DEFAULT,125.00,round((random()*(125-1)+1)::numeric, 2)),\n",
    "    (83,DEFAULT,125.00,round((random()*(125-1)+1)::numeric, 2)),\n",
    "    (82,DEFAULT,125.00,round((random()*(125-1)+1)::numeric, 2)),\n",
    "    (81,DEFAULT,125.00,round((random()*(125-1)+1)::numeric, 2)),\n",
    "    (80,DEFAULT,125.00,round((random()*(125-1)+1)::numeric, 2)),\n",
    "    (79,DEFAULT,125.00,round((random()*(125-1)+1)::numeric, 2)),\n",
    "    (78,DEFAULT,125.00,round((random()*(125-1)+1)::numeric, 2)),\n",
    "    (77,DEFAULT,125.00,round((random()*(125-1)+1)::numeric, 2)),\n",
    "    (76,DEFAULT,125.00,round((random()*(125-1)+1)::numeric, 2)),\n",
    "    (75,DEFAULT,125.00,round((random()*(125-1)+1)::numeric, 2)),\n",
    "    (74,DEFAULT,125.00,round((random()*(125-1)+1)::numeric, 2)),\n",
    "    (73,DEFAULT,125.00,round((random()*(125-1)+1)::numeric, 2)),\n",
    "    (72,DEFAULT,125.00,round((random()*(125-1)+1)::numeric, 2)),\n",
    "    (71,DEFAULT,125.00,round((random()*(125-1)+1)::numeric, 2)),\n",
    "    (70,DEFAULT,125.00,round((random()*(125-1)+1)::numeric, 2)),\n",
    "    (69,DEFAULT,125.00,round((random()*(125-1)+1)::numeric, 2)),\n",
    "    (68,DEFAULT,125.00,round((random()*(125-1)+1)::numeric, 2)),\n",
    "    (67,DEFAULT,125.00,round((random()*(125-1)+1)::numeric, 2)),\n",
    "    (66,DEFAULT,125.00,round((random()*(125-1)+1)::numeric, 2)),\n",
    "    (65,DEFAULT,125.00,round((random()*(125-1)+1)::numeric, 2)),\n",
    "    (64,DEFAULT,125.00,round((random()*(125-1)+1)::numeric, 2)),\n",
    "    (63,DEFAULT,125.00,round((random()*(125-1)+1)::numeric, 2)),\n",
    "    (62,DEFAULT,125.00,round((random()*(125-1)+1)::numeric, 2)),\n",
    "    (61,DEFAULT,125.00,round((random()*(125-1)+1)::numeric, 2)),\n",
    "    (60,DEFAULT,125.00,round((random()*(125-1)+1)::numeric, 2)),\n",
    "    (59,DEFAULT,125.00,round((random()*(125-1)+1)::numeric, 2)),\n",
    "    (58,DEFAULT,125.00,round((random()*(125-1)+1)::numeric, 2)),\n",
    "    (57,DEFAULT,125.00,round((random()*(125-1)+1)::numeric, 2)),\n",
    "    (56,DEFAULT,125.00,round((random()*(125-1)+1)::numeric, 2)),\n",
    "    (55,DEFAULT,125.00,round((random()*(125-1)+1)::numeric, 2)),\n",
    "    (54,DEFAULT,125.00,round((random()*(125-1)+1)::numeric, 2)),\n",
    "    (53,DEFAULT,125.00,round((random()*(125-1)+1)::numeric, 2)),\n",
    "    (52,DEFAULT,125.00,round((random()*(125-1)+1)::numeric, 2)),\n",
    "    (51,DEFAULT,125.00,round((random()*(125-1)+1)::numeric, 2)),\n",
    "    (50,DEFAULT,125.00,round((random()*(125-1)+1)::numeric, 2)),\n",
    "    (49,DEFAULT,125.00,round((random()*(125-1)+1)::numeric, 2)),\n",
    "    (48,DEFAULT,125.00,round((random()*(125-1)+1)::numeric, 2)),\n",
    "    (1,DEFAULT,125.00,round((random()*(125-1)+1)::numeric, 2))\n",
    ";"
   ]
  },
  {
   "cell_type": "code",
   "execution_count": 235,
   "metadata": {},
   "outputs": [
    {
     "name": "stdout",
     "output_type": "stream",
     "text": [
      "2 rows affected.\n"
     ]
    },
    {
     "data": {
      "text/html": [
       "<table>\n",
       "    <tr>\n",
       "        <th>student_id</th>\n",
       "        <th>dues_id</th>\n",
       "        <th>amount_owed</th>\n",
       "        <th>amount_paid</th>\n",
       "        <th>payment_method</th>\n",
       "        <th>notes</th>\n",
       "    </tr>\n",
       "    <tr>\n",
       "        <td>100</td>\n",
       "        <td>1</td>\n",
       "        <td>125.0</td>\n",
       "        <td>122.87</td>\n",
       "        <td>None</td>\n",
       "        <td>None</td>\n",
       "    </tr>\n",
       "    <tr>\n",
       "        <td>99</td>\n",
       "        <td>2</td>\n",
       "        <td>125.0</td>\n",
       "        <td>78.53</td>\n",
       "        <td>None</td>\n",
       "        <td>None</td>\n",
       "    </tr>\n",
       "</table>"
      ],
      "text/plain": [
       "[(100, 1, 125.0, 122.87, None, None), (99, 2, 125.0, 78.53, None, None)]"
      ]
     },
     "execution_count": 235,
     "metadata": {},
     "output_type": "execute_result"
    }
   ],
   "source": [
    "%%sql \n",
    "SELECT * FROM memberDues LIMIT(2);"
   ]
  },
  {
   "cell_type": "markdown",
   "metadata": {},
   "source": [
    "## dues_paymentPlan table\n",
    "* Trigger: When last_amount_paid updated -> update amount_paid in memberDues\n",
    "    * amount_paid = (OLD)amount_paid + (NEW)last_amount_paid"
   ]
  },
  {
   "cell_type": "code",
   "execution_count": 236,
   "metadata": {},
   "outputs": [
    {
     "name": "stdout",
     "output_type": "stream",
     "text": [
      "Done.\n"
     ]
    },
    {
     "data": {
      "text/plain": [
       "[]"
      ]
     },
     "execution_count": 236,
     "metadata": {},
     "output_type": "execute_result"
    }
   ],
   "source": [
    "%sql DROP TABLE IF EXISTS dues_paymentPlan;"
   ]
  },
  {
   "cell_type": "code",
   "execution_count": 237,
   "metadata": {},
   "outputs": [
    {
     "name": "stdout",
     "output_type": "stream",
     "text": [
      "Done.\n"
     ]
    },
    {
     "data": {
      "text/plain": [
       "[]"
      ]
     },
     "execution_count": 237,
     "metadata": {},
     "output_type": "execute_result"
    }
   ],
   "source": [
    "%%sql \n",
    "CREATE TABLE dues_paymentPlan (\n",
    "    dues_id INTEGER REFERENCES memberDues (dues_id) ON DELETE CASCADE,\n",
    "    start_date DATE,\n",
    "    end_date DATE,\n",
    "    last_amount_paid REAL,\n",
    "    last_payment_date DATE,\n",
    "    next_amount_due REAL,\n",
    "    next_payment_date DATE,\n",
    "    PRIMARY KEY (dues_id)\n",
    ");"
   ]
  },
  {
   "cell_type": "code",
   "execution_count": 78,
   "metadata": {},
   "outputs": [
    {
     "name": "stdout",
     "output_type": "stream",
     "text": [
      "Done.\n"
     ]
    },
    {
     "data": {
      "text/plain": [
       "[]"
      ]
     },
     "execution_count": 78,
     "metadata": {},
     "output_type": "execute_result"
    }
   ],
   "source": [
    "%%sql\n",
    "TRUNCATE dues_paymentPlan CASCADE;"
   ]
  },
  {
   "cell_type": "code",
   "execution_count": 238,
   "metadata": {},
   "outputs": [
    {
     "name": "stdout",
     "output_type": "stream",
     "text": [
      "20 rows affected.\n"
     ]
    },
    {
     "data": {
      "text/plain": [
       "[]"
      ]
     },
     "execution_count": 238,
     "metadata": {},
     "output_type": "execute_result"
    }
   ],
   "source": [
    "%%sql\n",
    "INSERT INTO dues_paymentPlan VALUES\n",
    "    (\n",
    "        1,\n",
    "        current_date + (floor(random()*20+1)::int),\n",
    "        current_date + (floor(random()*60+1)::int),\n",
    "        NULL,\n",
    "        NULL,\n",
    "        round((random()*(20-1)+1)::numeric, 2),\n",
    "        current_date + (floor(random()*10+1)::int)\n",
    "    ),\n",
    "    (2,current_date + (floor(random()*20+1)::int),current_date + (floor(random()*60+1)::int),NULL,NULL,round((random()*(20-1)+1)::numeric, 2),current_date + (floor(random()*10+1)::int)),\n",
    "    (3,current_date + (floor(random()*20+1)::int),current_date + (floor(random()*60+1)::int),NULL,NULL,round((random()*(20-1)+1)::numeric, 2),current_date + (floor(random()*10+1)::int)),\n",
    "    (4,current_date + (floor(random()*20+1)::int),current_date + (floor(random()*60+1)::int),NULL,NULL,round((random()*(20-1)+1)::numeric, 2),current_date + (floor(random()*10+1)::int)),\n",
    "    (5,current_date + (floor(random()*20+1)::int),current_date + (floor(random()*60+1)::int),NULL,NULL,round((random()*(20-1)+1)::numeric, 2),current_date + (floor(random()*10+1)::int)),\n",
    "    (6,current_date + (floor(random()*20+1)::int),current_date + (floor(random()*60+1)::int),NULL,NULL,round((random()*(20-1)+1)::numeric, 2),current_date + (floor(random()*10+1)::int)),\n",
    "    (7,current_date + (floor(random()*20+1)::int),current_date + (floor(random()*60+1)::int),NULL,NULL,round((random()*(20-1)+1)::numeric, 2),current_date + (floor(random()*10+1)::int)),\n",
    "    (8,current_date + (floor(random()*20+1)::int),current_date + (floor(random()*60+1)::int),NULL,NULL,round((random()*(20-1)+1)::numeric, 2),current_date + (floor(random()*10+1)::int)),\n",
    "    (9,current_date + (floor(random()*20+1)::int),current_date + (floor(random()*60+1)::int),NULL,NULL,round((random()*(20-1)+1)::numeric, 2),current_date + (floor(random()*10+1)::int)),\n",
    "    (10,current_date + (floor(random()*20+1)::int),current_date + (floor(random()*60+1)::int),NULL,NULL,round((random()*(20-1)+1)::numeric, 2),current_date + (floor(random()*10+1)::int)),\n",
    "    (11,current_date + (floor(random()*20+1)::int),current_date + (floor(random()*60+1)::int),NULL,NULL,round((random()*(20-1)+1)::numeric, 2),current_date + (floor(random()*10+1)::int)),\n",
    "    (12,current_date + (floor(random()*20+1)::int),current_date + (floor(random()*60+1)::int),NULL,NULL,round((random()*(20-1)+1)::numeric, 2),current_date + (floor(random()*10+1)::int)),\n",
    "    (13,current_date + (floor(random()*20+1)::int),current_date + (floor(random()*60+1)::int),NULL,NULL,round((random()*(20-1)+1)::numeric, 2),current_date + (floor(random()*10+1)::int)),\n",
    "    (14,current_date + (floor(random()*20+1)::int),current_date + (floor(random()*60+1)::int),NULL,NULL,round((random()*(20-1)+1)::numeric, 2),current_date + (floor(random()*10+1)::int)),\n",
    "    (15,current_date + (floor(random()*20+1)::int),current_date + (floor(random()*60+1)::int),NULL,NULL,round((random()*(20-1)+1)::numeric, 2),current_date + (floor(random()*10+1)::int)),\n",
    "    (16,current_date + (floor(random()*20+1)::int),current_date + (floor(random()*60+1)::int),NULL,NULL,round((random()*(20-1)+1)::numeric, 2),current_date + (floor(random()*10+1)::int)),\n",
    "    (17,current_date + (floor(random()*20+1)::int),current_date + (floor(random()*60+1)::int),NULL,NULL,round((random()*(20-1)+1)::numeric, 2),current_date + (floor(random()*10+1)::int)),\n",
    "    (18,current_date + (floor(random()*20+1)::int),current_date + (floor(random()*60+1)::int),NULL,NULL,round((random()*(20-1)+1)::numeric, 2),current_date + (floor(random()*10+1)::int)),\n",
    "    (19,current_date + (floor(random()*20+1)::int),current_date + (floor(random()*60+1)::int),NULL,NULL,round((random()*(20-1)+1)::numeric, 2),current_date + (floor(random()*10+1)::int)),\n",
    "    (20,current_date + (floor(random()*20+1)::int),current_date + (floor(random()*60+1)::int),NULL,NULL,round((random()*(20-1)+1)::numeric, 2),current_date + (floor(random()*10+1)::int))\n",
    ";"
   ]
  },
  {
   "cell_type": "code",
   "execution_count": 80,
   "metadata": {},
   "outputs": [
    {
     "name": "stdout",
     "output_type": "stream",
     "text": [
      "20 rows affected.\n"
     ]
    },
    {
     "data": {
      "text/html": [
       "<table>\n",
       "    <tr>\n",
       "        <th>dues_id</th>\n",
       "        <th>start_date</th>\n",
       "        <th>end_date</th>\n",
       "        <th>last_amount_paid</th>\n",
       "        <th>last_payment_date</th>\n",
       "        <th>next_amount_due</th>\n",
       "        <th>next_payment_date</th>\n",
       "    </tr>\n",
       "    <tr>\n",
       "        <td>1</td>\n",
       "        <td>2018-05-05</td>\n",
       "        <td>2018-05-05</td>\n",
       "        <td>None</td>\n",
       "        <td>None</td>\n",
       "        <td>13.69</td>\n",
       "        <td>2018-05-04</td>\n",
       "    </tr>\n",
       "    <tr>\n",
       "        <td>2</td>\n",
       "        <td>2018-05-07</td>\n",
       "        <td>2018-06-19</td>\n",
       "        <td>None</td>\n",
       "        <td>None</td>\n",
       "        <td>4.29</td>\n",
       "        <td>2018-05-05</td>\n",
       "    </tr>\n",
       "    <tr>\n",
       "        <td>3</td>\n",
       "        <td>2018-05-17</td>\n",
       "        <td>2018-05-08</td>\n",
       "        <td>None</td>\n",
       "        <td>None</td>\n",
       "        <td>7.68</td>\n",
       "        <td>2018-05-04</td>\n",
       "    </tr>\n",
       "    <tr>\n",
       "        <td>4</td>\n",
       "        <td>2018-05-16</td>\n",
       "        <td>2018-06-02</td>\n",
       "        <td>None</td>\n",
       "        <td>None</td>\n",
       "        <td>4.14</td>\n",
       "        <td>2018-05-05</td>\n",
       "    </tr>\n",
       "    <tr>\n",
       "        <td>5</td>\n",
       "        <td>2018-05-11</td>\n",
       "        <td>2018-06-17</td>\n",
       "        <td>None</td>\n",
       "        <td>None</td>\n",
       "        <td>19.47</td>\n",
       "        <td>2018-05-02</td>\n",
       "    </tr>\n",
       "    <tr>\n",
       "        <td>6</td>\n",
       "        <td>2018-05-02</td>\n",
       "        <td>2018-06-17</td>\n",
       "        <td>None</td>\n",
       "        <td>None</td>\n",
       "        <td>7.03</td>\n",
       "        <td>2018-05-03</td>\n",
       "    </tr>\n",
       "    <tr>\n",
       "        <td>7</td>\n",
       "        <td>2018-04-30</td>\n",
       "        <td>2018-05-29</td>\n",
       "        <td>None</td>\n",
       "        <td>None</td>\n",
       "        <td>8.43</td>\n",
       "        <td>2018-05-03</td>\n",
       "    </tr>\n",
       "    <tr>\n",
       "        <td>8</td>\n",
       "        <td>2018-05-07</td>\n",
       "        <td>2018-05-23</td>\n",
       "        <td>None</td>\n",
       "        <td>None</td>\n",
       "        <td>19.6</td>\n",
       "        <td>2018-05-06</td>\n",
       "    </tr>\n",
       "    <tr>\n",
       "        <td>9</td>\n",
       "        <td>2018-05-09</td>\n",
       "        <td>2018-06-06</td>\n",
       "        <td>None</td>\n",
       "        <td>None</td>\n",
       "        <td>7.52</td>\n",
       "        <td>2018-05-08</td>\n",
       "    </tr>\n",
       "    <tr>\n",
       "        <td>10</td>\n",
       "        <td>2018-05-09</td>\n",
       "        <td>2018-05-29</td>\n",
       "        <td>None</td>\n",
       "        <td>None</td>\n",
       "        <td>12.31</td>\n",
       "        <td>2018-05-03</td>\n",
       "    </tr>\n",
       "    <tr>\n",
       "        <td>11</td>\n",
       "        <td>2018-05-12</td>\n",
       "        <td>2018-06-24</td>\n",
       "        <td>None</td>\n",
       "        <td>None</td>\n",
       "        <td>1.55</td>\n",
       "        <td>2018-05-04</td>\n",
       "    </tr>\n",
       "    <tr>\n",
       "        <td>12</td>\n",
       "        <td>2018-05-09</td>\n",
       "        <td>2018-05-10</td>\n",
       "        <td>None</td>\n",
       "        <td>None</td>\n",
       "        <td>4.68</td>\n",
       "        <td>2018-04-30</td>\n",
       "    </tr>\n",
       "    <tr>\n",
       "        <td>13</td>\n",
       "        <td>2018-04-29</td>\n",
       "        <td>2018-05-08</td>\n",
       "        <td>None</td>\n",
       "        <td>None</td>\n",
       "        <td>10.96</td>\n",
       "        <td>2018-04-30</td>\n",
       "    </tr>\n",
       "    <tr>\n",
       "        <td>14</td>\n",
       "        <td>2018-05-18</td>\n",
       "        <td>2018-06-18</td>\n",
       "        <td>None</td>\n",
       "        <td>None</td>\n",
       "        <td>12.77</td>\n",
       "        <td>2018-04-29</td>\n",
       "    </tr>\n",
       "    <tr>\n",
       "        <td>15</td>\n",
       "        <td>2018-05-05</td>\n",
       "        <td>2018-04-29</td>\n",
       "        <td>None</td>\n",
       "        <td>None</td>\n",
       "        <td>11.23</td>\n",
       "        <td>2018-05-06</td>\n",
       "    </tr>\n",
       "    <tr>\n",
       "        <td>16</td>\n",
       "        <td>2018-05-07</td>\n",
       "        <td>2018-05-30</td>\n",
       "        <td>None</td>\n",
       "        <td>None</td>\n",
       "        <td>11.14</td>\n",
       "        <td>2018-05-08</td>\n",
       "    </tr>\n",
       "    <tr>\n",
       "        <td>17</td>\n",
       "        <td>2018-05-02</td>\n",
       "        <td>2018-06-20</td>\n",
       "        <td>None</td>\n",
       "        <td>None</td>\n",
       "        <td>17.23</td>\n",
       "        <td>2018-05-05</td>\n",
       "    </tr>\n",
       "    <tr>\n",
       "        <td>18</td>\n",
       "        <td>2018-05-06</td>\n",
       "        <td>2018-05-25</td>\n",
       "        <td>None</td>\n",
       "        <td>None</td>\n",
       "        <td>3.35</td>\n",
       "        <td>2018-04-29</td>\n",
       "    </tr>\n",
       "    <tr>\n",
       "        <td>19</td>\n",
       "        <td>2018-05-06</td>\n",
       "        <td>2018-05-08</td>\n",
       "        <td>None</td>\n",
       "        <td>None</td>\n",
       "        <td>12.83</td>\n",
       "        <td>2018-05-08</td>\n",
       "    </tr>\n",
       "    <tr>\n",
       "        <td>20</td>\n",
       "        <td>2018-05-05</td>\n",
       "        <td>2018-06-16</td>\n",
       "        <td>None</td>\n",
       "        <td>None</td>\n",
       "        <td>2.92</td>\n",
       "        <td>2018-05-02</td>\n",
       "    </tr>\n",
       "</table>"
      ],
      "text/plain": [
       "[(1, datetime.date(2018, 5, 5), datetime.date(2018, 5, 5), None, None, 13.69, datetime.date(2018, 5, 4)),\n",
       " (2, datetime.date(2018, 5, 7), datetime.date(2018, 6, 19), None, None, 4.29, datetime.date(2018, 5, 5)),\n",
       " (3, datetime.date(2018, 5, 17), datetime.date(2018, 5, 8), None, None, 7.68, datetime.date(2018, 5, 4)),\n",
       " (4, datetime.date(2018, 5, 16), datetime.date(2018, 6, 2), None, None, 4.14, datetime.date(2018, 5, 5)),\n",
       " (5, datetime.date(2018, 5, 11), datetime.date(2018, 6, 17), None, None, 19.47, datetime.date(2018, 5, 2)),\n",
       " (6, datetime.date(2018, 5, 2), datetime.date(2018, 6, 17), None, None, 7.03, datetime.date(2018, 5, 3)),\n",
       " (7, datetime.date(2018, 4, 30), datetime.date(2018, 5, 29), None, None, 8.43, datetime.date(2018, 5, 3)),\n",
       " (8, datetime.date(2018, 5, 7), datetime.date(2018, 5, 23), None, None, 19.6, datetime.date(2018, 5, 6)),\n",
       " (9, datetime.date(2018, 5, 9), datetime.date(2018, 6, 6), None, None, 7.52, datetime.date(2018, 5, 8)),\n",
       " (10, datetime.date(2018, 5, 9), datetime.date(2018, 5, 29), None, None, 12.31, datetime.date(2018, 5, 3)),\n",
       " (11, datetime.date(2018, 5, 12), datetime.date(2018, 6, 24), None, None, 1.55, datetime.date(2018, 5, 4)),\n",
       " (12, datetime.date(2018, 5, 9), datetime.date(2018, 5, 10), None, None, 4.68, datetime.date(2018, 4, 30)),\n",
       " (13, datetime.date(2018, 4, 29), datetime.date(2018, 5, 8), None, None, 10.96, datetime.date(2018, 4, 30)),\n",
       " (14, datetime.date(2018, 5, 18), datetime.date(2018, 6, 18), None, None, 12.77, datetime.date(2018, 4, 29)),\n",
       " (15, datetime.date(2018, 5, 5), datetime.date(2018, 4, 29), None, None, 11.23, datetime.date(2018, 5, 6)),\n",
       " (16, datetime.date(2018, 5, 7), datetime.date(2018, 5, 30), None, None, 11.14, datetime.date(2018, 5, 8)),\n",
       " (17, datetime.date(2018, 5, 2), datetime.date(2018, 6, 20), None, None, 17.23, datetime.date(2018, 5, 5)),\n",
       " (18, datetime.date(2018, 5, 6), datetime.date(2018, 5, 25), None, None, 3.35, datetime.date(2018, 4, 29)),\n",
       " (19, datetime.date(2018, 5, 6), datetime.date(2018, 5, 8), None, None, 12.83, datetime.date(2018, 5, 8)),\n",
       " (20, datetime.date(2018, 5, 5), datetime.date(2018, 6, 16), None, None, 2.92, datetime.date(2018, 5, 2))]"
      ]
     },
     "execution_count": 80,
     "metadata": {},
     "output_type": "execute_result"
    }
   ],
   "source": [
    "%%sql\n",
    "SELECT * FROM dues_paymentPlan;"
   ]
  },
  {
   "cell_type": "markdown",
   "metadata": {},
   "source": [
    "## family table"
   ]
  },
  {
   "cell_type": "code",
   "execution_count": 32,
   "metadata": {},
   "outputs": [
    {
     "name": "stdout",
     "output_type": "stream",
     "text": [
      "Done.\n"
     ]
    },
    {
     "data": {
      "text/plain": [
       "[]"
      ]
     },
     "execution_count": 32,
     "metadata": {},
     "output_type": "execute_result"
    }
   ],
   "source": [
    "%%sql\n",
    "CREATE TABLE family (\n",
    "    family_id SERIAL PRIMARY KEY,\n",
    "    family_name VARCHAR(255),\n",
    "    founding_date DATE\n",
    ");"
   ]
  },
  {
   "cell_type": "code",
   "execution_count": 33,
   "metadata": {},
   "outputs": [
    {
     "name": "stdout",
     "output_type": "stream",
     "text": [
      "Done.\n"
     ]
    },
    {
     "data": {
      "text/plain": [
       "[]"
      ]
     },
     "execution_count": 33,
     "metadata": {},
     "output_type": "execute_result"
    }
   ],
   "source": [
    "%%sql\n",
    "TRUNCATE family CASCADE;"
   ]
  },
  {
   "cell_type": "code",
   "execution_count": 36,
   "metadata": {},
   "outputs": [
    {
     "name": "stdout",
     "output_type": "stream",
     "text": [
      "10 rows affected.\n"
     ]
    },
    {
     "data": {
      "text/plain": [
       "[]"
      ]
     },
     "execution_count": 36,
     "metadata": {},
     "output_type": "execute_result"
    }
   ],
   "source": [
    "%%sql\n",
    "INSERT INTO family(family_name,founding_date) VALUES\n",
    "    ('Wright', '1916-02-14'),\n",
    "    ('Bell', '1916-02-14'),\n",
    "    ('Baker', '1916-02-14'),\n",
    "    ('Royals', '1916-02-14'),\n",
    "    ('Harrison Ford', '1916-02-14'),\n",
    "    ('Summer Young', '1916-02-14'),\n",
    "    ('Doyle', '1916-02-14'),\n",
    "    ('Fem', '1916-02-14'),\n",
    "    ('Gong', '1916-02-14'),\n",
    "    ('Cook', '1916-02-14')\n",
    ";"
   ]
  },
  {
   "cell_type": "markdown",
   "metadata": {},
   "source": [
    "## familyTree_roster table"
   ]
  },
  {
   "cell_type": "code",
   "execution_count": 38,
   "metadata": {},
   "outputs": [
    {
     "name": "stdout",
     "output_type": "stream",
     "text": [
      "Done.\n"
     ]
    },
    {
     "data": {
      "text/plain": [
       "[]"
      ]
     },
     "execution_count": 38,
     "metadata": {},
     "output_type": "execute_result"
    }
   ],
   "source": [
    "%%sql \n",
    "CREATE TABLE familyTree_roster (\n",
    "    student_id INTEGER UNIQUE REFERENCES member (student_id) ON DELETE CASCADE,\n",
    "    family_id INTEGER NOT NULL REFERENCES family (family_id) ON DELETE CASCADE\n",
    ");"
   ]
  },
  {
   "cell_type": "code",
   "execution_count": 39,
   "metadata": {},
   "outputs": [
    {
     "name": "stdout",
     "output_type": "stream",
     "text": [
      "Done.\n"
     ]
    },
    {
     "data": {
      "text/plain": [
       "[]"
      ]
     },
     "execution_count": 39,
     "metadata": {},
     "output_type": "execute_result"
    }
   ],
   "source": [
    "%%sql\n",
    "TRUNCATE familyTree_roster CASCADE;"
   ]
  },
  {
   "cell_type": "code",
   "execution_count": 40,
   "metadata": {},
   "outputs": [
    {
     "name": "stdout",
     "output_type": "stream",
     "text": [
      "100 rows affected.\n"
     ]
    },
    {
     "data": {
      "text/plain": [
       "[]"
      ]
     },
     "execution_count": 40,
     "metadata": {},
     "output_type": "execute_result"
    }
   ],
   "source": [
    "%%sql\n",
    "INSERT INTO familyTree_roster VALUES\n",
    "    (1, 10),\n",
    "    (2, 10),\n",
    "    (3, 10),\n",
    "    (4, 10),\n",
    "    (5, 10),\n",
    "    (6, 9),\n",
    "    (7, 9),\n",
    "    (8, 9),\n",
    "    (9, 9),\n",
    "    (10, 9),\n",
    "    (11, 8),\n",
    "    (12, 8),\n",
    "    (13, 8),\n",
    "    (14, 8),\n",
    "    (15, 8),\n",
    "    (16, 8),\n",
    "    (17, 8),\n",
    "    (18, 8),\n",
    "    (19, 8),\n",
    "    (20, 8),\n",
    "    (21, 7),\n",
    "    (22, 7),\n",
    "    (23, 7),\n",
    "    (24, 7),\n",
    "    (25, 7),\n",
    "    (26, 7),\n",
    "    (27, 7),\n",
    "    (28, 7),\n",
    "    (29, 7),\n",
    "    (30, 7),\n",
    "    (31, 7),\n",
    "    (32, 7),\n",
    "    (33, 6),\n",
    "    (34, 6),\n",
    "    (35, 6),\n",
    "    (36, 6),\n",
    "    (37, 6),\n",
    "    (38, 6),\n",
    "    (39, 6),\n",
    "    (40, 6),\n",
    "    (41, 6),\n",
    "    (42, 6),\n",
    "    (43, 6),\n",
    "    (44, 6),\n",
    "    (45, 6),\n",
    "    (46, 6),\n",
    "    (47, 6),\n",
    "    (48, 6),\n",
    "    (49, 6),\n",
    "    (50, 6),\n",
    "    (51, 6),\n",
    "    (52, 6),\n",
    "    (53, 5),\n",
    "    (54, 5),\n",
    "    (55, 5),\n",
    "    (56, 4),\n",
    "    (57, 4),\n",
    "    (58, 4),\n",
    "    (59, 4),\n",
    "    (60, 4),\n",
    "    (61, 4),\n",
    "    (62, 3),\n",
    "    (63, 3),\n",
    "    (64, 3),\n",
    "    (65, 3),\n",
    "    (66, 3),\n",
    "    (67, 3),\n",
    "    (68, 3),\n",
    "    (69, 3),\n",
    "    (70, 3),\n",
    "    (71, 2),\n",
    "    (72, 2),\n",
    "    (73, 2),\n",
    "    (74, 2),\n",
    "    (75, 2),\n",
    "    (76, 2),\n",
    "    (77, 2),\n",
    "    (78, 2),\n",
    "    (79, 2),\n",
    "    (80, 2),\n",
    "    (81, 2),\n",
    "    (82, 2),\n",
    "    (83, 2),\n",
    "    (84, 2),\n",
    "    (85, 2),\n",
    "    (86, 2),\n",
    "    (87, 2),\n",
    "    (88, 2),\n",
    "    (89, 2),\n",
    "    (90, 2),\n",
    "    (91, 1),\n",
    "    (92, 1),\n",
    "    (93, 1),\n",
    "    (94, 1),\n",
    "    (95, 1),\n",
    "    (96, 1),\n",
    "    (97, 1),\n",
    "    (98, 1),\n",
    "    (99, 1),\n",
    "    (100, 1)\n",
    ";"
   ]
  },
  {
   "cell_type": "markdown",
   "metadata": {},
   "source": [
    "## recSports table"
   ]
  },
  {
   "cell_type": "code",
   "execution_count": 41,
   "metadata": {},
   "outputs": [
    {
     "name": "stdout",
     "output_type": "stream",
     "text": [
      "Done.\n"
     ]
    },
    {
     "data": {
      "text/plain": [
       "[]"
      ]
     },
     "execution_count": 41,
     "metadata": {},
     "output_type": "execute_result"
    }
   ],
   "source": [
    "%%sql\n",
    "CREATE TABLE recSports (\n",
    "    sport_id SERIAL PRIMARY KEY,\n",
    "    sport_name VARCHAR(255) NOT NULL,\n",
    "    semester VARCHAR(50),\n",
    "    start_date DATE,\n",
    "    end_date DATE\n",
    ");"
   ]
  },
  {
   "cell_type": "code",
   "execution_count": 42,
   "metadata": {},
   "outputs": [
    {
     "name": "stdout",
     "output_type": "stream",
     "text": [
      "Done.\n"
     ]
    },
    {
     "data": {
      "text/plain": [
       "[]"
      ]
     },
     "execution_count": 42,
     "metadata": {},
     "output_type": "execute_result"
    }
   ],
   "source": [
    "%%sql\n",
    "TRUNCATE recSports CASCADE;"
   ]
  },
  {
   "cell_type": "code",
   "execution_count": 43,
   "metadata": {},
   "outputs": [
    {
     "name": "stdout",
     "output_type": "stream",
     "text": [
      "32 rows affected.\n"
     ]
    },
    {
     "data": {
      "text/plain": [
       "[]"
      ]
     },
     "execution_count": 43,
     "metadata": {},
     "output_type": "execute_result"
    }
   ],
   "source": [
    "%%sql\n",
    "INSERT INTO recSports(sport_name,semester,start_date,end_date) VALUES\n",
    "    ('CO-REC Basketball', 'Fall', '2015-10-25', '2015-12-25'),\n",
    "    ('Battleship', 'Fall', '2015-11-25', '2015-11-25'),\n",
    "    ('CO-REC Flag Football', 'Fall', '2015-10-25', '2015-12-25'),\n",
    "    ('CO-REC Indoor Volleyball', 'Fall', '2015-10-25', '2015-11-25'),\n",
    "    ('Log Rolling', 'Fall', '2015-11-26', '2015-11-26'),\n",
    "    ('CO-REC Basketball', 'Spring', '2015-2-15', '2015-3-25'),\n",
    "    ('Battleship', 'Spring', '2015-2-15', '2015-2-15'),\n",
    "    ('CO-REC Soccer', 'Spring', '2015-2-15', '2015-4-15'),\n",
    "    ('CO-REC Sand Volleyball', 'Spring', '2015-4-01', '2015-4-25'),\n",
    "    ('Log Rolling', 'Spring', '2015-2-16', '2015-2-16'),\n",
    "    ('CO-REC Basketball', 'Fall', '2016-10-25', '2016-12-25'),\n",
    "    ('Battleship', 'Fall', '2016-11-25', '2016-11-25'),\n",
    "    ('CO-REC Flag Football', 'Fall', '2016-10-25', '2016-12-25'),\n",
    "    ('CO-REC Indoor Volleyball', 'Fall', '2016-10-25', '2016-11-25'),\n",
    "    ('Log Rolling', 'Fall', '2016-11-26', '2016-11-26'),\n",
    "    ('CO-REC Basketball', 'Spring', '2016-2-15', '2016-3-25'),\n",
    "    ('Battleship', 'Spring', '2016-2-15', '2016-2-15'),\n",
    "    ('CO-REC Soccer', 'Spring', '2016-2-15', '2016-4-15'),\n",
    "    ('CO-REC Sand Volleyball', 'Spring', '2016-4-01', '2016-4-25'),\n",
    "    ('Log Rolling', 'Spring', '2016-2-16', '2016-2-16'),\n",
    "    ('CO-REC Basketball', 'Fall', '2017-10-25', '2017-12-25'),\n",
    "    ('Battleship', 'Fall', '2017-11-25', '2017-11-25'),\n",
    "    ('CO-REC Flag Football', 'Fall', '2017-10-25', '2017-12-25'),\n",
    "    ('CO-REC Indoor Volleyball', 'Fall', '2017-10-25', '2017-11-25'),\n",
    "    ('Log Rolling', 'Fall', '2017-11-26', '2017-11-26'),\n",
    "    ('CO-REC Basketball', 'Spring', '2017-2-15', '2017-3-25'),\n",
    "    ('Battleship', 'Spring', '2017-2-15', '2017-2-15'),\n",
    "    ('CO-REC Soccer', 'Spring', '2017-2-15', '2017-4-15'),\n",
    "    ('CO-REC Sand Volleyball', 'Spring', '2017-4-01', '2017-4-25'),\n",
    "    ('Log Rolling', 'Spring', '2017-2-16', '2017-2-16'),\n",
    "    ('CO-REC Basketball', 'Spring', '2018-2-15', '2018-3-25'),\n",
    "    ('CO-REC Soccer', 'Spring', '2018-2-15', '2018-4-15')\n",
    ";"
   ]
  },
  {
   "cell_type": "markdown",
   "metadata": {},
   "source": [
    "## recSports_teams table"
   ]
  },
  {
   "cell_type": "code",
   "execution_count": 45,
   "metadata": {},
   "outputs": [
    {
     "name": "stdout",
     "output_type": "stream",
     "text": [
      "Done.\n"
     ]
    },
    {
     "data": {
      "text/plain": [
       "[]"
      ]
     },
     "execution_count": 45,
     "metadata": {},
     "output_type": "execute_result"
    }
   ],
   "source": [
    "%%sql\n",
    "CREATE TABLE recSports_teams (\n",
    "    team_id SERIAL PRIMARY KEY,\n",
    "    sport_id INTEGER REFERENCES recSports (sport_id),\n",
    "    team_name VARCHAR(255),\n",
    "    day_of_week VARCHAR(50) /*Day the team plays*/\n",
    "    /*time_of_day TIME*/ /*time games are played*/\n",
    ");"
   ]
  },
  {
   "cell_type": "code",
   "execution_count": 46,
   "metadata": {},
   "outputs": [
    {
     "name": "stdout",
     "output_type": "stream",
     "text": [
      "Done.\n"
     ]
    },
    {
     "data": {
      "text/plain": [
       "[]"
      ]
     },
     "execution_count": 46,
     "metadata": {},
     "output_type": "execute_result"
    }
   ],
   "source": [
    "%%sql\n",
    "TRUNCATE recSports_teams CASCADE;"
   ]
  },
  {
   "cell_type": "code",
   "execution_count": 47,
   "metadata": {},
   "outputs": [
    {
     "name": "stdout",
     "output_type": "stream",
     "text": [
      "12 rows affected.\n"
     ]
    },
    {
     "data": {
      "text/plain": [
       "[]"
      ]
     },
     "execution_count": 47,
     "metadata": {},
     "output_type": "execute_result"
    }
   ],
   "source": [
    "%%sql\n",
    "INSERT INTO recSports_teams(sport_id,team_name,day_of_week) VALUES\n",
    "    (32, 'PSP Soccer', 'Wednesday'),\n",
    "    (31, 'PSP Basketball', 'Sunday'),\n",
    "    (29, 'PSP 1', 'Sunday'),\n",
    "    (29, 'PSP 2', 'Sunday'),\n",
    "    (29, 'PSP 3', 'Monday'),\n",
    "    (29, 'PSP 4', 'Monday'),\n",
    "    (27, 'PSP Purple', 'Thursday'),\n",
    "    (27, 'PSP Gold', 'Thursday'),\n",
    "    (27, 'PSP White', 'Thursday'),\n",
    "    (27, 'PSP 1', 'Thursday'),\n",
    "    (27, 'PSP 2', 'Thursday'),\n",
    "    (27, 'PSP 3', 'Thursday')\n",
    ";"
   ]
  },
  {
   "cell_type": "markdown",
   "metadata": {},
   "source": [
    "## team_roster table"
   ]
  },
  {
   "cell_type": "code",
   "execution_count": 49,
   "metadata": {},
   "outputs": [
    {
     "name": "stdout",
     "output_type": "stream",
     "text": [
      "Done.\n"
     ]
    },
    {
     "data": {
      "text/plain": [
       "[]"
      ]
     },
     "execution_count": 49,
     "metadata": {},
     "output_type": "execute_result"
    }
   ],
   "source": [
    "%%sql\n",
    "CREATE TABLE team_roster (\n",
    "    team_id INTEGER REFERENCES recSports_teams (team_id),\n",
    "    student_id INTEGER REFERENCES member (student_id),\n",
    "    PRIMARY KEY (team_id, student_id)\n",
    ");"
   ]
  },
  {
   "cell_type": "code",
   "execution_count": 50,
   "metadata": {},
   "outputs": [
    {
     "name": "stdout",
     "output_type": "stream",
     "text": [
      "Done.\n"
     ]
    },
    {
     "data": {
      "text/plain": [
       "[]"
      ]
     },
     "execution_count": 50,
     "metadata": {},
     "output_type": "execute_result"
    }
   ],
   "source": [
    "%%sql\n",
    "TRUNCATE team_roster CASCADE;"
   ]
  },
  {
   "cell_type": "code",
   "execution_count": 51,
   "metadata": {},
   "outputs": [
    {
     "name": "stdout",
     "output_type": "stream",
     "text": [
      "66 rows affected.\n"
     ]
    },
    {
     "data": {
      "text/plain": [
       "[]"
      ]
     },
     "execution_count": 51,
     "metadata": {},
     "output_type": "execute_result"
    }
   ],
   "source": [
    "%%sql\n",
    "INSERT INTO team_roster VALUES\n",
    "    (1,1),\n",
    "    (1,11),\n",
    "    (1,31),\n",
    "    (1,21),\n",
    "    (1,41),\n",
    "    (1,51),\n",
    "    (1,61),\n",
    "    (1,71),\n",
    "    (1,81),\n",
    "    (1,91),\n",
    "    (1,5),\n",
    "    (1,6),\n",
    "    (1,9),\n",
    "    (2,1),\n",
    "    (2,11),\n",
    "    (2,31),\n",
    "    (2,21),\n",
    "    (2,41),\n",
    "    (2,51),\n",
    "    (2,61),\n",
    "    (2,71),\n",
    "    (2,81),\n",
    "    (2,91),\n",
    "    (2,5),\n",
    "    (2,6),\n",
    "    (2,9),\n",
    "    (7, 1),\n",
    "    (7, 2),\n",
    "    (7, 3),\n",
    "    (7, 4),\n",
    "    (3, 1),\n",
    "    (3, 2),\n",
    "    (3, 3),\n",
    "    (3, 4),\n",
    "    (4, 55),\n",
    "    (4, 42),\n",
    "    (4, 43),\n",
    "    (4, 68),\n",
    "    (5, 32),\n",
    "    (5, 79),\n",
    "    (5, 80),\n",
    "    (5, 100),\n",
    "    (6, 37),\n",
    "    (6, 47),\n",
    "    (6, 67),\n",
    "    (6, 87),\n",
    "    (8, 78),\n",
    "    (8, 77),\n",
    "    (8, 76),\n",
    "    (8, 75),\n",
    "    (9, 54),\n",
    "    (9, 52),\n",
    "    (9, 65),\n",
    "    (9, 66),\n",
    "    (10, 32),\n",
    "    (10, 21),\n",
    "    (10, 20),\n",
    "    (10, 57),\n",
    "    (11, 89),\n",
    "    (11, 90),\n",
    "    (11, 91),\n",
    "    (11, 92),\n",
    "    (12, 13),\n",
    "    (12, 100),\n",
    "    (12, 81),\n",
    "    (12, 9)\n",
    ";"
   ]
  },
  {
   "cell_type": "markdown",
   "metadata": {},
   "source": [
    "## merch table"
   ]
  },
  {
   "cell_type": "code",
   "execution_count": 52,
   "metadata": {},
   "outputs": [
    {
     "name": "stdout",
     "output_type": "stream",
     "text": [
      "Done.\n"
     ]
    },
    {
     "data": {
      "text/plain": [
       "[]"
      ]
     },
     "execution_count": 52,
     "metadata": {},
     "output_type": "execute_result"
    }
   ],
   "source": [
    "%%sql\n",
    "CREATE TABLE merch (\n",
    "    merch_id SERIAL PRIMARY KEY,\n",
    "    item_name VARCHAR(100),\n",
    "    price REAL,\n",
    "    semester VARCHAR(50),\n",
    "    year INTEGER\n",
    ");"
   ]
  },
  {
   "cell_type": "code",
   "execution_count": 53,
   "metadata": {},
   "outputs": [
    {
     "name": "stdout",
     "output_type": "stream",
     "text": [
      "Done.\n"
     ]
    },
    {
     "data": {
      "text/plain": [
       "[]"
      ]
     },
     "execution_count": 53,
     "metadata": {},
     "output_type": "execute_result"
    }
   ],
   "source": [
    "%%sql\n",
    "TRUNCATE merch CASCADE;"
   ]
  },
  {
   "cell_type": "code",
   "execution_count": 54,
   "metadata": {},
   "outputs": [
    {
     "name": "stdout",
     "output_type": "stream",
     "text": [
      "15 rows affected.\n"
     ]
    },
    {
     "data": {
      "text/plain": [
       "[]"
      ]
     },
     "execution_count": 54,
     "metadata": {},
     "output_type": "execute_result"
    }
   ],
   "source": [
    "%%sql\n",
    "INSERT INTO merch(item_name,price,semester,year) VALUES\n",
    "    ('Rush T-Shirt', 5.50, 'Spring', 2016),\n",
    "    ('Comfort Hat', 11.75, 'Spring', 2016),\n",
    "    ('Owl T-Shirt', 12.50, 'Spring', 2016),\n",
    "    ('Crest T-Shirt', 17.50, 'Fall', 2016),\n",
    "    ('PSP Mug', 10.75, 'Fall', 2016),\n",
    "    ('Greek Hoodie', 12.50, 'Fall', 2016),\n",
    "    ('Greek Quarter-Zip', 17.50, 'Spring', 2017),\n",
    "    ('PSP Sticker', 2.75, 'Spring', 2017),\n",
    "    ('Ugly Sweater', 20.50, 'Spring', 2017),\n",
    "    ('Star Wars T-Shirt', 17.50, 'Fall', 2017),\n",
    "    ('PSP Sweatpants', 11.75, 'Fall', 2017),\n",
    "    ('Retro T-Shirt', 17.50, 'Spring', 2018),\n",
    "    ('PSP Hat', 11.75, 'Spring', 2018),\n",
    "    ('Greek T-Shirt', 12.50, 'Spring', 2018),\n",
    "    ('Quarter-Zip', 25.00, 'Spring', 2018)\n",
    ";"
   ]
  },
  {
   "cell_type": "markdown",
   "metadata": {},
   "source": [
    "## merch_order table"
   ]
  },
  {
   "cell_type": "code",
   "execution_count": 55,
   "metadata": {},
   "outputs": [
    {
     "name": "stdout",
     "output_type": "stream",
     "text": [
      "Done.\n"
     ]
    },
    {
     "data": {
      "text/plain": [
       "[]"
      ]
     },
     "execution_count": 55,
     "metadata": {},
     "output_type": "execute_result"
    }
   ],
   "source": [
    "%%sql\n",
    "CREATE TABLE merch_order (\n",
    "    merch_id INTEGER REFERENCES merch (merch_id) ON DELETE CASCADE,\n",
    "    student_id INTEGER REFERENCES member (student_id) ON DELETE CASCADE,\n",
    "    quantity INTEGER NOT NULL,\n",
    "    payment_due_date DATE,\n",
    "    delivery_date DATE,\n",
    "    completed BOOLEAN, /* Boolean value for checking if an order has been fully completed */\n",
    "    PRIMARY KEY (merch_id, student_id)\n",
    ");"
   ]
  },
  {
   "cell_type": "code",
   "execution_count": 56,
   "metadata": {},
   "outputs": [
    {
     "name": "stdout",
     "output_type": "stream",
     "text": [
      "Done.\n"
     ]
    },
    {
     "data": {
      "text/plain": [
       "[]"
      ]
     },
     "execution_count": 56,
     "metadata": {},
     "output_type": "execute_result"
    }
   ],
   "source": [
    "%%sql\n",
    "TRUNCATE merch_order CASCADE;"
   ]
  },
  {
   "cell_type": "code",
   "execution_count": null,
   "metadata": {
    "collapsed": true
   },
   "outputs": [],
   "source": [
    "### <= 11 completed = TRUE"
   ]
  },
  {
   "cell_type": "code",
   "execution_count": 57,
   "metadata": {},
   "outputs": [
    {
     "name": "stdout",
     "output_type": "stream",
     "text": [
      "36 rows affected.\n"
     ]
    },
    {
     "data": {
      "text/plain": [
       "[]"
      ]
     },
     "execution_count": 57,
     "metadata": {},
     "output_type": "execute_result"
    }
   ],
   "source": [
    "%%sql\n",
    "INSERT INTO merch_order VALUES\n",
    "    (15, 1, 1, current_date - 400, current_date - 390, FALSE),\n",
    "    (14, 1, 1, current_date - 400, current_date - 390, FALSE),\n",
    "    (1, 2, 1, current_date - 400, current_date - 390, TRUE),\n",
    "    (2, 3, 1, current_date - 400, current_date - 390, TRUE),\n",
    "    (2, 4, 1, current_date - 400, current_date - 390, TRUE),\n",
    "    (3, 5, 1, current_date - 400, current_date - 390, TRUE),\n",
    "    (4, 6, 1, current_date - 400, current_date - 390, TRUE),\n",
    "    (4, 7, 1, current_date - 400, current_date - 390, TRUE),\n",
    "    (4, 8, 1, current_date - 400, current_date - 390, TRUE),\n",
    "    (4, 9, 1, current_date - 400, current_date - 390, TRUE),\n",
    "    (4, 10, 1, current_date - 400, current_date - 390, TRUE),\n",
    "    (5, 11, 1, current_date - 400, current_date - 390, TRUE),\n",
    "    (5, 12, 1, current_date - 400, current_date - 390, TRUE),\n",
    "    (6, 13, 1, current_date - 400, current_date - 390, TRUE),\n",
    "    (5, 14, 1, current_date - 400, current_date - 390, TRUE),\n",
    "    (6, 15, 1, current_date - 400, current_date - 390, TRUE),\n",
    "    (6, 16, 1, current_date - 400, current_date - 390, TRUE),\n",
    "    (6, 17, 1, current_date - 400, current_date - 390, TRUE),\n",
    "    (7, 18, 1, current_date - 400, current_date - 390, TRUE),\n",
    "    (8, 19, 1, current_date - 400, current_date - 390, TRUE),\n",
    "    (8, 20, 1, current_date - 400, current_date - 390, TRUE),\n",
    "    (8, 21, 1, current_date - 400, current_date - 390, TRUE),\n",
    "    (9, 22, 1, current_date - 400, current_date - 390, TRUE),\n",
    "    (9, 23, 1, current_date - 400, current_date - 390, TRUE),\n",
    "    (9, 24, 1, current_date - 400, current_date - 390, TRUE),\n",
    "    (10, 24, 1, current_date - 400, current_date - 390, TRUE),\n",
    "    (11, 25, 1, current_date - 400, current_date - 390, TRUE),\n",
    "    (11, 26, 1, current_date - 400, current_date - 390, TRUE),\n",
    "    (10, 56, 1, current_date - 400, current_date - 390, TRUE),\n",
    "    (12, 90, 1, current_date - 400, current_date - 390, FALSE),\n",
    "    (13, 91, 1, current_date - 400, current_date - 390, FALSE),\n",
    "    (15, 92, 1, current_date - 400, current_date - 390, FALSE),\n",
    "    (1, 91, 1, current_date - 400, current_date - 390, FALSE),\n",
    "    (15, 93, 1, current_date - 400, current_date - 390, FALSE),\n",
    "    (14, 94, 1, current_date - 400, current_date - 390, FALSE),\n",
    "    (12, 95, 1, current_date - 400, current_date - 390, FALSE)\n",
    ";"
   ]
  },
  {
   "cell_type": "markdown",
   "metadata": {},
   "source": [
    "## budget table"
   ]
  },
  {
   "cell_type": "code",
   "execution_count": 58,
   "metadata": {},
   "outputs": [
    {
     "name": "stdout",
     "output_type": "stream",
     "text": [
      "Done.\n"
     ]
    },
    {
     "data": {
      "text/plain": [
       "[]"
      ]
     },
     "execution_count": 58,
     "metadata": {},
     "output_type": "execute_result"
    }
   ],
   "source": [
    "%%sql\n",
    "CREATE TABLE budget (\n",
    "    budget_item_id SERIAL PRIMARY KEY,\n",
    "    item_name VARCHAR(255) NOT NULL,\n",
    "    item_type INTEGER NOT NULL, /* 0 for expense, 1 for revenue */\n",
    "    budget_amount REAL NOT NULL,\n",
    "    semester VARCHAR(255),\n",
    "    year INTEGER /* Maybe change to date (only year though) */\n",
    ");"
   ]
  },
  {
   "cell_type": "code",
   "execution_count": 59,
   "metadata": {},
   "outputs": [
    {
     "name": "stdout",
     "output_type": "stream",
     "text": [
      "Done.\n"
     ]
    },
    {
     "data": {
      "text/plain": [
       "[]"
      ]
     },
     "execution_count": 59,
     "metadata": {},
     "output_type": "execute_result"
    }
   ],
   "source": [
    "%%sql\n",
    "TRUNCATE budget CASCADE;"
   ]
  },
  {
   "cell_type": "code",
   "execution_count": 60,
   "metadata": {},
   "outputs": [
    {
     "name": "stdout",
     "output_type": "stream",
     "text": [
      "54 rows affected.\n"
     ]
    },
    {
     "data": {
      "text/plain": [
       "[]"
      ]
     },
     "execution_count": 60,
     "metadata": {},
     "output_type": "execute_result"
    }
   ],
   "source": [
    "%%sql\n",
    "INSERT INTO budget(item_name,item_type,budget_amount,semester,year) VALUES\n",
    "    ('Nationals Check (Active Bros)', 0, 6246.00, 'Spring', 2017),\n",
    "    ('Nationals Check (Inactive Bros)', 0, 1152.00, 'Spring', 2017),\n",
    "    ('Nationals Check (Initiates)', 0, 2580.00, 'Spring', 2017),\n",
    "    ('EBOARD MISC', 0, 100.00, 'Spring', 2017),\n",
    "    ('Recruitment', 0, 1000.00, 'Spring', 2017),\n",
    "    ('Initiation', 0, 1000.00, 'Spring', 2017),\n",
    "    ('DAS', 0, 750.00, 'Spring', 2017),\n",
    "    ('Fellowship', 0, 750.00, 'Spring', 2017),\n",
    "    ('Rec Sports', 0, 1000.00, 'Spring', 2017),\n",
    "    ('Alumni', 0, 100.00, 'Spring', 2017),\n",
    "    ('Alumni Banquet', 0, 0.00, 'Spring', 2017),\n",
    "    ('Merch Credit / Rush Shirts', 0, 1000.00, 'Spring', 2017),\n",
    "    ('Active Bros @ $125/member', 1, 10875.00, 'Spring', 2017),\n",
    "    ('Inactive Bros @ $72/member', 1, 1152.00, 'Spring', 2017),\n",
    "    ('Initiates @ $225/member', 1, 3375.00, 'Spring', 2017),\n",
    "    ('Fundraising Goal', 1, 500.00, 'Spring', 2017),\n",
    "    ('Fines/Past Dues', 1, 175.00, 'Spring', 2017),\n",
    "    ('Leftover from previous semester', 1, 92.01, 'Spring', 2017),\n",
    "    ('Nationals Check (Active Bros)', 0, 6480.00, 'Fall', 2017),\n",
    "    ('Nationals Check (Inactive Bros)', 0, 720.00, 'Fall', 2017),\n",
    "    ('Nationals Check (Initiates)', 0, 3440.00, 'Fall', 2017),\n",
    "    ('EBOARD MISC', 0, 300.00, 'Fall', 2017),\n",
    "    ('Recruitment', 0, 450.00, 'Fall', 201),\n",
    "    ('Initiation', 0, 1000.00, 'Fall', 2017),\n",
    "    ('DAS', 0, 750.00, 'Fall', 2017),\n",
    "    ('Fellowship', 0, 750.00, 'Fall', 2017),\n",
    "    ('Rec Sports', 0, 1000.00, 'Fall', 2017),\n",
    "    ('Alumni', 0, 500.00, 'Fall', 2017),\n",
    "    ('Formal', 0, 1750.00, 'Fall', 2017),\n",
    "    ('Merch Credit / Rush Shirts', 0, 0.00, 'Fall', 2017),\n",
    "    ('Active Bros @ $125/member', 1, 11250.00, 'Fall', 2017),\n",
    "    ('Inactive Bros @ $72/member', 1, 720.00, 'Fall', 2017),\n",
    "    ('Initiates @ $225/member', 1, 4500.00, 'Fall', 2017),\n",
    "    ('Fundraising Goal', 1, 300.00, 'Fall', 2017),\n",
    "    ('Fines/Past Dues', 1, 0.00, 'Fall', 2017),\n",
    "    ('Leftover from previous semester', 1, 500.43, 'Fall', 2017),\n",
    "    \n",
    "    ('Nationals Check (Active Bros)', 0, 6246.00, 'Spring', 2018),\n",
    "    ('Nationals Check (Inactive Bros)', 0, 1152.00, 'Spring', 2018),\n",
    "    ('Nationals Check (Initiates)', 0, 2580.00, 'Spring', 2018),\n",
    "    ('EBOARD MISC', 0, 100.00, 'Spring', 2018),\n",
    "    ('Recruitment', 0, 700.00, 'Spring', 2018),\n",
    "    ('Initiation', 0, 1000.00, 'Spring', 2018),\n",
    "    ('DAS', 0, 750.00, 'Spring', 2018),\n",
    "    ('Fellowship', 0, 750.00, 'Spring', 2018),\n",
    "    ('Rec Sports', 0, 800.00, 'Spring', 2018),\n",
    "    ('Alumni', 0, 1300.00, 'Spring', 2018),\n",
    "    ('Alumni Banquet', 0, 0.00, 'Spring', 2018),\n",
    "    ('Merch Credit / Rush Shirts', 0, 0.00, 'Spring', 2018),\n",
    "    ('Active Bros @ $125/member', 1, 10875.00, 'Spring', 2018),\n",
    "    ('Inactive Bros @ $72/member', 1, 1152.00, 'Spring', 2018),\n",
    "    ('Initiates @ $225/member', 1, 3375.00, 'Spring', 2018),\n",
    "    ('Fundraising Goal', 1, 200.00, 'Spring', 2018),\n",
    "    ('Fines/Past Dues', 1, 250.00, 'Spring', 2018),\n",
    "    ('Leftover from previous semester', 1, 975.97, 'Spring', 2018)\n",
    ";"
   ]
  },
  {
   "cell_type": "markdown",
   "metadata": {},
   "source": [
    "## chairPosition table"
   ]
  },
  {
   "cell_type": "code",
   "execution_count": 61,
   "metadata": {},
   "outputs": [
    {
     "name": "stdout",
     "output_type": "stream",
     "text": [
      "Done.\n"
     ]
    },
    {
     "data": {
      "text/plain": [
       "[]"
      ]
     },
     "execution_count": 61,
     "metadata": {},
     "output_type": "execute_result"
    }
   ],
   "source": [
    "%%sql\n",
    "CREATE TABLE chairPosition (\n",
    "    position_id INTEGER PRIMARY KEY,\n",
    "    student_id INTEGER REFERENCES member (student_id) ON DELETE CASCADE,\n",
    "    /* ADD CHAIR POSITION FIELD LIKE \"position INTEGER\" 0 for active&no position / 4 for president / and so on */\n",
    "    position_name VARCHAR(255) NOT NULL,\n",
    "    position_type VARCHAR(255), /* EBOARD or EBEC */\n",
    "    description VARCHAR(255)\n",
    ");"
   ]
  },
  {
   "cell_type": "code",
   "execution_count": 62,
   "metadata": {},
   "outputs": [
    {
     "name": "stdout",
     "output_type": "stream",
     "text": [
      "Done.\n"
     ]
    },
    {
     "data": {
      "text/plain": [
       "[]"
      ]
     },
     "execution_count": 62,
     "metadata": {},
     "output_type": "execute_result"
    }
   ],
   "source": [
    "%%sql\n",
    "TRUNCATE chairPosition CASCADE;"
   ]
  },
  {
   "cell_type": "code",
   "execution_count": 63,
   "metadata": {},
   "outputs": [
    {
     "name": "stdout",
     "output_type": "stream",
     "text": [
      "22 rows affected.\n"
     ]
    },
    {
     "data": {
      "text/plain": [
       "[]"
      ]
     },
     "execution_count": 63,
     "metadata": {},
     "output_type": "execute_result"
    }
   ],
   "source": [
    "%%sql\n",
    "INSERT INTO chairPosition VALUES\n",
    "    (1, 1, 'President', 'EBOARD'),\n",
    "    (2, 2, 'Vice President', 'EBOARD'),\n",
    "    (3, 3, 'Recording Secretary', 'EBOARD'),\n",
    "    (4, 4, 'Corresponding Secretary', 'EBOARD'),\n",
    "    (5, 5, 'Treasurer', 'EBOARD'),\n",
    "    (6, 6, 'Recruitment Chair', 'EBOARD'),\n",
    "    (7, 7, 'Initiate Advisor', 'EBOARD'),\n",
    "    (8, 8, 'Historian', 'EBOARD'),\n",
    "    (9, 9, 'Parlimentarian', 'EBOARD'),\n",
    "    (10, 10, 'Bro At Large', 'EBOARD'),\n",
    "    (11, 11, 'Fundraising Chair', 'EBEC'),\n",
    "    (12, 12, 'Alumni Chair', 'EBEC'),\n",
    "    (13, 13, 'Philanthropy Chair', 'EBEC'),\n",
    "    (14, 14, 'Service Chair', 'EBEC'),\n",
    "    (15, 15, 'DAS Chair', 'EBEC'),\n",
    "    (16, 16, 'Fellowship Chair', 'EBEC'),\n",
    "    (17, 17, 'Risk Management Chair', 'EBEC'),\n",
    "    (18, 18, 'Rec Sports Chair (1)', 'EBEC'),\n",
    "    (19, 19, 'Rec Sports Chair (2)', 'EBEC'),\n",
    "    (20, 20, 'PR Chair (1)', 'EBEC'),\n",
    "    (21, 21, 'PR Chair (2)', 'EBEC'),\n",
    "    (22, 22, 'Campus Liason', 'EBEC')\n",
    ";"
   ]
  },
  {
   "cell_type": "markdown",
   "metadata": {},
   "source": [
    "## archive_chairPosition table"
   ]
  },
  {
   "cell_type": "code",
   "execution_count": 3,
   "metadata": {},
   "outputs": [
    {
     "name": "stdout",
     "output_type": "stream",
     "text": [
      "Done.\n"
     ]
    },
    {
     "data": {
      "text/plain": [
       "[]"
      ]
     },
     "execution_count": 3,
     "metadata": {},
     "output_type": "execute_result"
    }
   ],
   "source": [
    "%%sql\n",
    "CREATE TABLE archive_chairPosition (\n",
    "    archive_id SERIAL PRIMARY KEY,\n",
    "    position_id INTEGER, /*FOREIGN KEY REFERENCE */\n",
    "    student_id INTEGER REFERENCES member (student_id) ON DELETE CASCADE,\n",
    "    year INTEGER\n",
    ");"
   ]
  },
  {
   "cell_type": "markdown",
   "metadata": {},
   "source": [
    "## budget_register table\n",
    "* Add NOTES field to ERD"
   ]
  },
  {
   "cell_type": "code",
   "execution_count": 64,
   "metadata": {},
   "outputs": [
    {
     "name": "stdout",
     "output_type": "stream",
     "text": [
      "Done.\n"
     ]
    },
    {
     "data": {
      "text/plain": [
       "[]"
      ]
     },
     "execution_count": 64,
     "metadata": {},
     "output_type": "execute_result"
    }
   ],
   "source": [
    "%%sql\n",
    "CREATE TABLE budget_register (\n",
    "    register_id SERIAL PRIMARY KEY,\n",
    "    budget_item_id INTEGER REFERENCES budget (budget_item_id) NOT NULL,\n",
    "    chairposition INTEGER REFERENCES chairPosition (position_id),\n",
    "    transaction_type INTEGER NOT NULL, /* 0 for expense, 1 for revenue */\n",
    "    transaction_amount REAL NOT NULL,\n",
    "    transaction_date DATE NOT NULL,\n",
    "    method VARCHAR(255), /* Method of transaction such as Cash, Card, Check */\n",
    "    notes VARCHAR(255) /* Could use this for description of transaction */\n",
    ");"
   ]
  },
  {
   "cell_type": "code",
   "execution_count": 65,
   "metadata": {},
   "outputs": [
    {
     "name": "stdout",
     "output_type": "stream",
     "text": [
      "Done.\n"
     ]
    },
    {
     "data": {
      "text/plain": [
       "[]"
      ]
     },
     "execution_count": 65,
     "metadata": {},
     "output_type": "execute_result"
    }
   ],
   "source": [
    "%%sql\n",
    "TRUNCATE budget_register CASCADE;"
   ]
  },
  {
   "cell_type": "code",
   "execution_count": 66,
   "metadata": {},
   "outputs": [
    {
     "name": "stdout",
     "output_type": "stream",
     "text": [
      "23 rows affected.\n"
     ]
    },
    {
     "data": {
      "text/plain": [
       "[]"
      ]
     },
     "execution_count": 66,
     "metadata": {},
     "output_type": "execute_result"
    }
   ],
   "source": [
    "%%sql\n",
    "INSERT INTO budget_register(budget_item_id,chairposition,transaction_type,transaction_amount,transaction_date,method,notes) VALUES\n",
    "    (45, 18, 0, 35.00, '2018-1-31', 'Cash','log rolling'),\n",
    "    (41, 6, 0, 21.76, '2018-2-09', 'Venmo','dessert social'),\n",
    "    (45, 18, 0, 149.00, '2018-2-13', 'Card','basketball'),\n",
    "    (41, 6, 0, 80.09, '2018-2-13', 'Venmo','dessert social'),\n",
    "    (41, 6, 0, 20.51, '2018-2-13', 'Card','dessert social'),\n",
    "    (41, 6, 0, 14.77, '2018-2-13', 'Venmo','dessert social'),\n",
    "    (45, 18, 0, 149.00, '2018-2-15', 'Card','soccer'),\n",
    "    (43, 15, 0, 84.00, '2018-2-17', 'Cash','vag mono tickets'),\n",
    "    (41, 6, 0, 15.77, '2018-2-19', 'Cash','tripod games'),\n",
    "    (41, 6, 0, 35.00, '2018-2-16', 'Check','dinner with bros'),\n",
    "    (42, 7, 0, 71.74, '2018-2-19', 'Check','pins'),\n",
    "    (41, 6, 0, 35.00, '2018-2-20', 'Cash','dinner with bros'),\n",
    "    (41, 6, 0, 22.98, '2018-2-26', 'Cash','printing bid papers'),\n",
    "    (45, 18, 0, 88.00, '2018-2-26', 'Cash','soccer equipment'),\n",
    "    (41, 6, 0, 40.96, '2018-2-27', 'Venmo','dinner with bros'),\n",
    "    (42, 7, 0, 351.75, '2018-3-11', 'Card','tshirts'),\n",
    "    (42, 7, 0, 13.64, '2018-3-11', 'Cash','initiate snacks'),\n",
    "    (45, 18, 0, 99.00, '2018-3-15', 'Card','sand volleyball'),\n",
    "    (44, 16, 0, 52.50, '2018-3-18', 'Cash','skating'),\n",
    "    (42, 7, 0, 31.94, '2018-3-18', 'Cash','initiate snacks'),\n",
    "    (44, 16, 0, 42.53, '2018-3-19', 'Cash','midterm mind break'),\n",
    "    (43, 15, 0, 41.59, '2018-4-02', 'Cash','cultural cooking'),\n",
    "    (43, 15, 0, 167.18, '2018-4-08', 'Cash','ted talks')\n",
    ";"
   ]
  },
  {
   "cell_type": "markdown",
   "metadata": {},
   "source": [
    "## point_type table"
   ]
  },
  {
   "cell_type": "code",
   "execution_count": 67,
   "metadata": {},
   "outputs": [
    {
     "name": "stdout",
     "output_type": "stream",
     "text": [
      "Done.\n"
     ]
    },
    {
     "data": {
      "text/plain": [
       "[]"
      ]
     },
     "execution_count": 67,
     "metadata": {},
     "output_type": "execute_result"
    }
   ],
   "source": [
    "%%sql \n",
    "CREATE TABLE point_type (\n",
    "    type_id INTEGER PRIMARY KEY,\n",
    "    name VARCHAR(255)\n",
    ");"
   ]
  },
  {
   "cell_type": "code",
   "execution_count": 68,
   "metadata": {},
   "outputs": [
    {
     "name": "stdout",
     "output_type": "stream",
     "text": [
      "Done.\n"
     ]
    },
    {
     "data": {
      "text/plain": [
       "[]"
      ]
     },
     "execution_count": 68,
     "metadata": {},
     "output_type": "execute_result"
    }
   ],
   "source": [
    "%%sql\n",
    "TRUNCATE point_type CASCADE;"
   ]
  },
  {
   "cell_type": "code",
   "execution_count": 69,
   "metadata": {},
   "outputs": [
    {
     "name": "stdout",
     "output_type": "stream",
     "text": [
      "5 rows affected.\n"
     ]
    },
    {
     "data": {
      "text/plain": [
       "[]"
      ]
     },
     "execution_count": 69,
     "metadata": {},
     "output_type": "execute_result"
    }
   ],
   "source": [
    "%%sql\n",
    "INSERT INTO point_type VALUES\n",
    "    (1, 'DAS'),\n",
    "    (2, 'Fellowship'),\n",
    "    (3, 'Service'),\n",
    "    (4, 'Fundraising'),\n",
    "    (5, 'Campus Liason')\n",
    "    /* ADD types for voting and other requirements */\n",
    ";"
   ]
  },
  {
   "cell_type": "markdown",
   "metadata": {},
   "source": [
    "## events table\n",
    "* Trigger: When point_type is updated event_attendance should be updated\n",
    "    * events.point_type = event_attendance.point_type\n",
    "    * or memberPoint_associative"
   ]
  },
  {
   "cell_type": "code",
   "execution_count": 70,
   "metadata": {},
   "outputs": [
    {
     "name": "stdout",
     "output_type": "stream",
     "text": [
      "Done.\n"
     ]
    },
    {
     "data": {
      "text/plain": [
       "[]"
      ]
     },
     "execution_count": 70,
     "metadata": {},
     "output_type": "execute_result"
    }
   ],
   "source": [
    "%%sql\n",
    "CREATE TABLE events (\n",
    "    event_id SERIAL PRIMARY KEY,\n",
    "    position_id INTEGER REFERENCES chairPosition (position_id),\n",
    "    point_type INTEGER NOT NULL REFERENCES point_type (type_id),\n",
    "    num_of_points INTEGER NOT NULL, /* Default should be 1 but can sometimes be 2 or more */\n",
    "    title VARCHAR(255), /* Name of the event */\n",
    "    event_date DATE,\n",
    "    semester VARCHAR(255)\n",
    ");"
   ]
  },
  {
   "cell_type": "code",
   "execution_count": 71,
   "metadata": {},
   "outputs": [
    {
     "name": "stdout",
     "output_type": "stream",
     "text": [
      "Done.\n"
     ]
    },
    {
     "data": {
      "text/plain": [
       "[]"
      ]
     },
     "execution_count": 71,
     "metadata": {},
     "output_type": "execute_result"
    }
   ],
   "source": [
    "%%sql\n",
    "TRUNCATE events CASCADE;"
   ]
  },
  {
   "cell_type": "code",
   "execution_count": 72,
   "metadata": {},
   "outputs": [
    {
     "name": "stdout",
     "output_type": "stream",
     "text": [
      "20 rows affected.\n"
     ]
    },
    {
     "data": {
      "text/plain": [
       "[]"
      ]
     },
     "execution_count": 72,
     "metadata": {},
     "output_type": "execute_result"
    }
   ],
   "source": [
    "%%sql\n",
    "INSERT INTO events(position_id,point_type,num_of_points,title,event_date,semester) VALUES\n",
    "    /* DAS Events */\n",
    "    \n",
    "    (15,1,1,'Ted Talks',current_date - 30,'Spring'),\n",
    "    (15,1,1,'Cultural Potluck',current_date - 29,'Spring'),\n",
    "    (15,1,1,'Vagina Monologues',current_date - 28,'Spring'),\n",
    "    (15,1,1,'Documentary Night',current_date - 27,'Spring'),\n",
    "    (15,1,1,'Cultural Center Tour',current_date - 26,'Spring'),\n",
    "    \n",
    "    /* Fellowship Events */\n",
    "    \n",
    "    (16,2,1,'Video Game Night',current_date - 27,'Spring'),\n",
    "    (16,2,1,'Board Game Night',current_date - 26,'Spring'),\n",
    "    (16,2,1,'Games on the Quad',current_date - 25,'Spring'),\n",
    "    (16,2,1,'Capture the Flag',current_date - 24,'Spring'),\n",
    "    (16,2,1,'Movie Night',current_date - 23,'Spring'),\n",
    "    (16,2,1,'Morning Cartoons',current_date - 22,'Spring'),\n",
    "    \n",
    "    /* Service Events */\n",
    "    \n",
    "    (14,3,1,'Trash Cleanup',current_date - 21,'Spring'),\n",
    "    (14,3,1,'Food Bank',current_date - 20,'Spring'),\n",
    "    (14,3,1,'Clean up COMO',current_date - 10,'Spring'),\n",
    "    \n",
    "    /* Fundraising Events */\n",
    "    \n",
    "    (11,4,1,'Football Cleanup',current_date - 9,'Spring'),\n",
    "    (11,4,1,'Shakespeares Profit Share',current_date - 8,'Spring'),\n",
    "    (11,4,1,'Smoothie King Profit Share',current_date - 7,'Spring'),\n",
    "    \n",
    "    /* Campus Liason Events */\n",
    "    \n",
    "    (22,5,1,'Its On Us',current_date - 6,'Spring'),\n",
    "    (22,5,1,'Special Speaker',current_date - 5,'Spring'),\n",
    "    (22,5,1,'True/False',current_date - 4,'Spring')\n",
    "    \n",
    ";"
   ]
  },
  {
   "cell_type": "markdown",
   "metadata": {},
   "source": [
    "## event_attendance table"
   ]
  },
  {
   "cell_type": "code",
   "execution_count": 73,
   "metadata": {},
   "outputs": [
    {
     "name": "stdout",
     "output_type": "stream",
     "text": [
      "Done.\n"
     ]
    },
    {
     "data": {
      "text/plain": [
       "[]"
      ]
     },
     "execution_count": 73,
     "metadata": {},
     "output_type": "execute_result"
    }
   ],
   "source": [
    "%%sql\n",
    "CREATE TABLE event_attendance (\n",
    "    event_id INTEGER REFERENCES events (event_id),\n",
    "    student_id INTEGER REFERENCES member (student_id),\n",
    "    point_type INTEGER REFERENCES point_type (type_id),\n",
    "    PRIMARY KEY (event_id, student_id)\n",
    ");"
   ]
  },
  {
   "cell_type": "code",
   "execution_count": 74,
   "metadata": {},
   "outputs": [
    {
     "name": "stdout",
     "output_type": "stream",
     "text": [
      "Done.\n"
     ]
    },
    {
     "data": {
      "text/plain": [
       "[]"
      ]
     },
     "execution_count": 74,
     "metadata": {},
     "output_type": "execute_result"
    }
   ],
   "source": [
    "%%sql\n",
    "TRUNCATE event_attendance CASCADE;"
   ]
  },
  {
   "cell_type": "code",
   "execution_count": 75,
   "metadata": {},
   "outputs": [
    {
     "name": "stdout",
     "output_type": "stream",
     "text": [
      "75 rows affected.\n"
     ]
    },
    {
     "data": {
      "text/plain": [
       "[]"
      ]
     },
     "execution_count": 75,
     "metadata": {},
     "output_type": "execute_result"
    }
   ],
   "source": [
    "%%sql\n",
    "INSERT INTO event_attendance VALUES\n",
    "/* DAS Events */\n",
    "    (1,1,1),\n",
    "    (2,2,1),\n",
    "    (3,3,1),\n",
    "    (4,4,1),\n",
    "    (5,5,1),\n",
    "    (1,6,1),\n",
    "    (2,1,1),\n",
    "    (3,7,1),\n",
    "    (4,90,1),\n",
    "    (5,91,1),\n",
    "    (1,54,1),\n",
    "    (2,56,1),\n",
    "    (3,57,1),\n",
    "    (4,23,1),\n",
    "    (5,24,1),\n",
    "/* Fellowship Events */\n",
    "    (6,1,2),\n",
    "    (7,45,2),\n",
    "    (8,46,2),\n",
    "    (9,47,2),\n",
    "    (10,82,2),\n",
    "    (11,81,2),\n",
    "    (6,80,2),\n",
    "    (7,90,2),\n",
    "    (8,99,2),\n",
    "    (9,100,2),\n",
    "    (10,12,2),\n",
    "    (11,1,2),\n",
    "    (6,22,2),\n",
    "    (7,23,2),\n",
    "    (8,24,2),\n",
    "/* Service Events */\n",
    "    (12,1,3),\n",
    "    (13,37,3),\n",
    "    (14,38,3),\n",
    "    (12,39,3),\n",
    "    (13,40,3),\n",
    "    (14,41,3),\n",
    "    (12,42,3),\n",
    "    (13,43,3),\n",
    "    (14,44,3),\n",
    "    (12,45,3),\n",
    "    (13,46,3),\n",
    "    (14,1,3),\n",
    "    (12,47,3),\n",
    "    (13,48,3),\n",
    "    (14,60,3),\n",
    "/* Fundraising Events */\n",
    "    (15,1,4),\n",
    "    (16,53,4),\n",
    "    (17,54,4),\n",
    "    (15,56,4),\n",
    "    (16,77,4),\n",
    "    (17,76,4),\n",
    "    (15,75,4),\n",
    "    (16,74,4),\n",
    "    (17,55,4),\n",
    "    (15,73,4),\n",
    "    (16,72,4),\n",
    "    (17,71,4),\n",
    "    (15,88,4),\n",
    "    (16,87,4),\n",
    "    (17,86,4),\n",
    "/* Campus Liason Events */\n",
    "    (18,1,5),\n",
    "    (19,98,5),\n",
    "    (20,1,5),\n",
    "    (18,97,5),\n",
    "    (19,96,5),\n",
    "    (20,95,5),\n",
    "    (18,94,5),\n",
    "    (19,93,5),\n",
    "    (20,92,5),\n",
    "    (18,91,5),\n",
    "    (19,12,5),\n",
    "    (20,13,5),\n",
    "    (18,14,5),\n",
    "    (19,15,5),\n",
    "    (20,16,5)\n",
    ";"
   ]
  },
  {
   "cell_type": "markdown",
   "metadata": {},
   "source": [
    "## memberPoints_assoc table **** (Delete Possibly)"
   ]
  },
  {
   "cell_type": "code",
   "execution_count": 71,
   "metadata": {},
   "outputs": [
    {
     "name": "stdout",
     "output_type": "stream",
     "text": [
      "Done.\n"
     ]
    },
    {
     "data": {
      "text/plain": [
       "[]"
      ]
     },
     "execution_count": 71,
     "metadata": {},
     "output_type": "execute_result"
    }
   ],
   "source": [
    "%%sql\n",
    "CREATE TABLE memberPoints_assoc (\n",
    "    student_id INTEGER REFERENCES member (student_id),\n",
    "    point_type INTEGER REFERENCES point_type (type_id),\n",
    "    PRIMARY KEY (student_id, point_type)\n",
    ");"
   ]
  },
  {
   "cell_type": "code",
   "execution_count": 72,
   "metadata": {},
   "outputs": [
    {
     "name": "stdout",
     "output_type": "stream",
     "text": [
      "Done.\n"
     ]
    },
    {
     "data": {
      "text/plain": [
       "[]"
      ]
     },
     "execution_count": 72,
     "metadata": {},
     "output_type": "execute_result"
    }
   ],
   "source": [
    "%%sql\n",
    "TRUNCATE memberPoints_assoc CASCADE;"
   ]
  },
  {
   "cell_type": "code",
   "execution_count": 73,
   "metadata": {
    "collapsed": true
   },
   "outputs": [
    {
     "ename": "IntegrityError",
     "evalue": "(psycopg2.IntegrityError) duplicate key value violates unique constraint \"member_status_pkey\"\nDETAIL:  Key (status_id)=(1) already exists.\n [SQL: \"INSERT INTO member_status VALUES\\n    (1, 'Active'),\\n    (2, 'Locally Inactive'),\\n    (3, 'Nationally Inactive'),\\n    (4, 'Alumni')\\n;\"]",
     "output_type": "error",
     "traceback": [
      "\u001b[0;31m---------------------------------------------------------------------------\u001b[0m",
      "\u001b[0;31mIntegrityError\u001b[0m                            Traceback (most recent call last)",
      "\u001b[0;32m/usr/lib64/python3.4/site-packages/sqlalchemy/engine/base.py\u001b[0m in \u001b[0;36m_execute_context\u001b[0;34m(self, dialect, constructor, statement, parameters, *args)\u001b[0m\n\u001b[1;32m   1181\u001b[0m                         \u001b[0mparameters\u001b[0m\u001b[0;34m,\u001b[0m\u001b[0;34m\u001b[0m\u001b[0m\n\u001b[0;32m-> 1182\u001b[0;31m                         context)\n\u001b[0m\u001b[1;32m   1183\u001b[0m         \u001b[0;32mexcept\u001b[0m \u001b[0mBaseException\u001b[0m \u001b[0;32mas\u001b[0m \u001b[0me\u001b[0m\u001b[0;34m:\u001b[0m\u001b[0;34m\u001b[0m\u001b[0m\n",
      "\u001b[0;32m/usr/lib64/python3.4/site-packages/sqlalchemy/engine/default.py\u001b[0m in \u001b[0;36mdo_execute\u001b[0;34m(self, cursor, statement, parameters, context)\u001b[0m\n\u001b[1;32m    469\u001b[0m     \u001b[0;32mdef\u001b[0m \u001b[0mdo_execute\u001b[0m\u001b[0;34m(\u001b[0m\u001b[0mself\u001b[0m\u001b[0;34m,\u001b[0m \u001b[0mcursor\u001b[0m\u001b[0;34m,\u001b[0m \u001b[0mstatement\u001b[0m\u001b[0;34m,\u001b[0m \u001b[0mparameters\u001b[0m\u001b[0;34m,\u001b[0m \u001b[0mcontext\u001b[0m\u001b[0;34m=\u001b[0m\u001b[0;32mNone\u001b[0m\u001b[0;34m)\u001b[0m\u001b[0;34m:\u001b[0m\u001b[0;34m\u001b[0m\u001b[0m\n\u001b[0;32m--> 470\u001b[0;31m         \u001b[0mcursor\u001b[0m\u001b[0;34m.\u001b[0m\u001b[0mexecute\u001b[0m\u001b[0;34m(\u001b[0m\u001b[0mstatement\u001b[0m\u001b[0;34m,\u001b[0m \u001b[0mparameters\u001b[0m\u001b[0;34m)\u001b[0m\u001b[0;34m\u001b[0m\u001b[0m\n\u001b[0m\u001b[1;32m    471\u001b[0m \u001b[0;34m\u001b[0m\u001b[0m\n",
      "\u001b[0;31mIntegrityError\u001b[0m: duplicate key value violates unique constraint \"member_status_pkey\"\nDETAIL:  Key (status_id)=(1) already exists.\n",
      "\nThe above exception was the direct cause of the following exception:\n",
      "\u001b[0;31mIntegrityError\u001b[0m                            Traceback (most recent call last)",
      "\u001b[0;32m<ipython-input-73-1f16b6801cb4>\u001b[0m in \u001b[0;36m<module>\u001b[0;34m()\u001b[0m\n\u001b[0;32m----> 1\u001b[0;31m \u001b[0mget_ipython\u001b[0m\u001b[0;34m(\u001b[0m\u001b[0;34m)\u001b[0m\u001b[0;34m.\u001b[0m\u001b[0mrun_cell_magic\u001b[0m\u001b[0;34m(\u001b[0m\u001b[0;34m'sql'\u001b[0m\u001b[0;34m,\u001b[0m \u001b[0;34m''\u001b[0m\u001b[0;34m,\u001b[0m \u001b[0;34m\"INSERT INTO member_status VALUES\\n    (1, 'Active'),\\n    (2, 'Locally Inactive'),\\n    (3, 'Nationally Inactive'),\\n    (4, 'Alumni')\\n;\"\u001b[0m\u001b[0;34m)\u001b[0m\u001b[0;34m\u001b[0m\u001b[0m\n\u001b[0m",
      "\u001b[0;32m/usr/lib/python3.4/site-packages/IPython/core/interactiveshell.py\u001b[0m in \u001b[0;36mrun_cell_magic\u001b[0;34m(self, magic_name, line, cell)\u001b[0m\n\u001b[1;32m   2129\u001b[0m             \u001b[0mmagic_arg_s\u001b[0m \u001b[0;34m=\u001b[0m \u001b[0mself\u001b[0m\u001b[0;34m.\u001b[0m\u001b[0mvar_expand\u001b[0m\u001b[0;34m(\u001b[0m\u001b[0mline\u001b[0m\u001b[0;34m,\u001b[0m \u001b[0mstack_depth\u001b[0m\u001b[0;34m)\u001b[0m\u001b[0;34m\u001b[0m\u001b[0m\n\u001b[1;32m   2130\u001b[0m             \u001b[0;32mwith\u001b[0m \u001b[0mself\u001b[0m\u001b[0;34m.\u001b[0m\u001b[0mbuiltin_trap\u001b[0m\u001b[0;34m:\u001b[0m\u001b[0;34m\u001b[0m\u001b[0m\n\u001b[0;32m-> 2131\u001b[0;31m                 \u001b[0mresult\u001b[0m \u001b[0;34m=\u001b[0m \u001b[0mfn\u001b[0m\u001b[0;34m(\u001b[0m\u001b[0mmagic_arg_s\u001b[0m\u001b[0;34m,\u001b[0m \u001b[0mcell\u001b[0m\u001b[0;34m)\u001b[0m\u001b[0;34m\u001b[0m\u001b[0m\n\u001b[0m\u001b[1;32m   2132\u001b[0m             \u001b[0;32mreturn\u001b[0m \u001b[0mresult\u001b[0m\u001b[0;34m\u001b[0m\u001b[0m\n\u001b[1;32m   2133\u001b[0m \u001b[0;34m\u001b[0m\u001b[0m\n",
      "\u001b[0;32m<decorator-gen-126>\u001b[0m in \u001b[0;36mexecute\u001b[0;34m(self, line, cell, local_ns)\u001b[0m\n",
      "\u001b[0;32m/usr/lib/python3.4/site-packages/IPython/core/magic.py\u001b[0m in \u001b[0;36m<lambda>\u001b[0;34m(f, *a, **k)\u001b[0m\n\u001b[1;32m    185\u001b[0m     \u001b[0;31m# but it's overkill for just that one bit of state.\u001b[0m\u001b[0;34m\u001b[0m\u001b[0;34m\u001b[0m\u001b[0m\n\u001b[1;32m    186\u001b[0m     \u001b[0;32mdef\u001b[0m \u001b[0mmagic_deco\u001b[0m\u001b[0;34m(\u001b[0m\u001b[0marg\u001b[0m\u001b[0;34m)\u001b[0m\u001b[0;34m:\u001b[0m\u001b[0;34m\u001b[0m\u001b[0m\n\u001b[0;32m--> 187\u001b[0;31m         \u001b[0mcall\u001b[0m \u001b[0;34m=\u001b[0m \u001b[0;32mlambda\u001b[0m \u001b[0mf\u001b[0m\u001b[0;34m,\u001b[0m \u001b[0;34m*\u001b[0m\u001b[0ma\u001b[0m\u001b[0;34m,\u001b[0m \u001b[0;34m**\u001b[0m\u001b[0mk\u001b[0m\u001b[0;34m:\u001b[0m \u001b[0mf\u001b[0m\u001b[0;34m(\u001b[0m\u001b[0;34m*\u001b[0m\u001b[0ma\u001b[0m\u001b[0;34m,\u001b[0m \u001b[0;34m**\u001b[0m\u001b[0mk\u001b[0m\u001b[0;34m)\u001b[0m\u001b[0;34m\u001b[0m\u001b[0m\n\u001b[0m\u001b[1;32m    188\u001b[0m \u001b[0;34m\u001b[0m\u001b[0m\n\u001b[1;32m    189\u001b[0m         \u001b[0;32mif\u001b[0m \u001b[0mcallable\u001b[0m\u001b[0;34m(\u001b[0m\u001b[0marg\u001b[0m\u001b[0;34m)\u001b[0m\u001b[0;34m:\u001b[0m\u001b[0;34m\u001b[0m\u001b[0m\n",
      "\u001b[0;32m<decorator-gen-125>\u001b[0m in \u001b[0;36mexecute\u001b[0;34m(self, line, cell, local_ns)\u001b[0m\n",
      "\u001b[0;32m/usr/lib/python3.4/site-packages/IPython/core/magic.py\u001b[0m in \u001b[0;36m<lambda>\u001b[0;34m(f, *a, **k)\u001b[0m\n\u001b[1;32m    185\u001b[0m     \u001b[0;31m# but it's overkill for just that one bit of state.\u001b[0m\u001b[0;34m\u001b[0m\u001b[0;34m\u001b[0m\u001b[0m\n\u001b[1;32m    186\u001b[0m     \u001b[0;32mdef\u001b[0m \u001b[0mmagic_deco\u001b[0m\u001b[0;34m(\u001b[0m\u001b[0marg\u001b[0m\u001b[0;34m)\u001b[0m\u001b[0;34m:\u001b[0m\u001b[0;34m\u001b[0m\u001b[0m\n\u001b[0;32m--> 187\u001b[0;31m         \u001b[0mcall\u001b[0m \u001b[0;34m=\u001b[0m \u001b[0;32mlambda\u001b[0m \u001b[0mf\u001b[0m\u001b[0;34m,\u001b[0m \u001b[0;34m*\u001b[0m\u001b[0ma\u001b[0m\u001b[0;34m,\u001b[0m \u001b[0;34m**\u001b[0m\u001b[0mk\u001b[0m\u001b[0;34m:\u001b[0m \u001b[0mf\u001b[0m\u001b[0;34m(\u001b[0m\u001b[0;34m*\u001b[0m\u001b[0ma\u001b[0m\u001b[0;34m,\u001b[0m \u001b[0;34m**\u001b[0m\u001b[0mk\u001b[0m\u001b[0;34m)\u001b[0m\u001b[0;34m\u001b[0m\u001b[0m\n\u001b[0m\u001b[1;32m    188\u001b[0m \u001b[0;34m\u001b[0m\u001b[0m\n\u001b[1;32m    189\u001b[0m         \u001b[0;32mif\u001b[0m \u001b[0mcallable\u001b[0m\u001b[0;34m(\u001b[0m\u001b[0marg\u001b[0m\u001b[0;34m)\u001b[0m\u001b[0;34m:\u001b[0m\u001b[0;34m\u001b[0m\u001b[0m\n",
      "\u001b[0;32m/usr/lib/python3.4/site-packages/sql/magic.py\u001b[0m in \u001b[0;36mexecute\u001b[0;34m(self, line, cell, local_ns)\u001b[0m\n\u001b[1;32m     85\u001b[0m \u001b[0;34m\u001b[0m\u001b[0m\n\u001b[1;32m     86\u001b[0m         \u001b[0;32mtry\u001b[0m\u001b[0;34m:\u001b[0m\u001b[0;34m\u001b[0m\u001b[0m\n\u001b[0;32m---> 87\u001b[0;31m             \u001b[0mresult\u001b[0m \u001b[0;34m=\u001b[0m \u001b[0msql\u001b[0m\u001b[0;34m.\u001b[0m\u001b[0mrun\u001b[0m\u001b[0;34m.\u001b[0m\u001b[0mrun\u001b[0m\u001b[0;34m(\u001b[0m\u001b[0mconn\u001b[0m\u001b[0;34m,\u001b[0m \u001b[0mparsed\u001b[0m\u001b[0;34m[\u001b[0m\u001b[0;34m'sql'\u001b[0m\u001b[0;34m]\u001b[0m\u001b[0;34m,\u001b[0m \u001b[0mself\u001b[0m\u001b[0;34m,\u001b[0m \u001b[0muser_ns\u001b[0m\u001b[0;34m)\u001b[0m\u001b[0;34m\u001b[0m\u001b[0m\n\u001b[0m\u001b[1;32m     88\u001b[0m \u001b[0;34m\u001b[0m\u001b[0m\n\u001b[1;32m     89\u001b[0m             \u001b[0;32mif\u001b[0m \u001b[0mresult\u001b[0m \u001b[0;32mand\u001b[0m \u001b[0;34m~\u001b[0m\u001b[0misinstance\u001b[0m\u001b[0;34m(\u001b[0m\u001b[0mresult\u001b[0m\u001b[0;34m,\u001b[0m \u001b[0mstr\u001b[0m\u001b[0;34m)\u001b[0m \u001b[0;32mand\u001b[0m \u001b[0mself\u001b[0m\u001b[0;34m.\u001b[0m\u001b[0mcolumn_local_vars\u001b[0m\u001b[0;34m:\u001b[0m\u001b[0;34m\u001b[0m\u001b[0m\n",
      "\u001b[0;32m/usr/lib/python3.4/site-packages/sql/run.py\u001b[0m in \u001b[0;36mrun\u001b[0;34m(conn, sql, config, user_namespace)\u001b[0m\n\u001b[1;32m    274\u001b[0m                 \u001b[0;32mraise\u001b[0m \u001b[0mException\u001b[0m\u001b[0;34m(\u001b[0m\u001b[0;34m\"ipython_sql does not support transactions\"\u001b[0m\u001b[0;34m)\u001b[0m\u001b[0;34m\u001b[0m\u001b[0m\n\u001b[1;32m    275\u001b[0m             \u001b[0mtxt\u001b[0m \u001b[0;34m=\u001b[0m \u001b[0msqlalchemy\u001b[0m\u001b[0;34m.\u001b[0m\u001b[0msql\u001b[0m\u001b[0;34m.\u001b[0m\u001b[0mtext\u001b[0m\u001b[0;34m(\u001b[0m\u001b[0mstatement\u001b[0m\u001b[0;34m)\u001b[0m\u001b[0;34m\u001b[0m\u001b[0m\n\u001b[0;32m--> 276\u001b[0;31m             \u001b[0mresult\u001b[0m \u001b[0;34m=\u001b[0m \u001b[0mconn\u001b[0m\u001b[0;34m.\u001b[0m\u001b[0msession\u001b[0m\u001b[0;34m.\u001b[0m\u001b[0mexecute\u001b[0m\u001b[0;34m(\u001b[0m\u001b[0mtxt\u001b[0m\u001b[0;34m,\u001b[0m \u001b[0muser_namespace\u001b[0m\u001b[0;34m)\u001b[0m\u001b[0;34m\u001b[0m\u001b[0m\n\u001b[0m\u001b[1;32m    277\u001b[0m             \u001b[0;32mtry\u001b[0m\u001b[0;34m:\u001b[0m\u001b[0;34m\u001b[0m\u001b[0m\n\u001b[1;32m    278\u001b[0m                 \u001b[0;31m# mssql has autocommit\u001b[0m\u001b[0;34m\u001b[0m\u001b[0;34m\u001b[0m\u001b[0m\n",
      "\u001b[0;32m/usr/lib64/python3.4/site-packages/sqlalchemy/engine/base.py\u001b[0m in \u001b[0;36mexecute\u001b[0;34m(self, object, *multiparams, **params)\u001b[0m\n\u001b[1;32m    943\u001b[0m             \u001b[0;32mraise\u001b[0m \u001b[0mexc\u001b[0m\u001b[0;34m.\u001b[0m\u001b[0mObjectNotExecutableError\u001b[0m\u001b[0;34m(\u001b[0m\u001b[0mobject\u001b[0m\u001b[0;34m)\u001b[0m\u001b[0;34m\u001b[0m\u001b[0m\n\u001b[1;32m    944\u001b[0m         \u001b[0;32melse\u001b[0m\u001b[0;34m:\u001b[0m\u001b[0;34m\u001b[0m\u001b[0m\n\u001b[0;32m--> 945\u001b[0;31m             \u001b[0;32mreturn\u001b[0m \u001b[0mmeth\u001b[0m\u001b[0;34m(\u001b[0m\u001b[0mself\u001b[0m\u001b[0;34m,\u001b[0m \u001b[0mmultiparams\u001b[0m\u001b[0;34m,\u001b[0m \u001b[0mparams\u001b[0m\u001b[0;34m)\u001b[0m\u001b[0;34m\u001b[0m\u001b[0m\n\u001b[0m\u001b[1;32m    946\u001b[0m \u001b[0;34m\u001b[0m\u001b[0m\n\u001b[1;32m    947\u001b[0m     \u001b[0;32mdef\u001b[0m \u001b[0m_execute_function\u001b[0m\u001b[0;34m(\u001b[0m\u001b[0mself\u001b[0m\u001b[0;34m,\u001b[0m \u001b[0mfunc\u001b[0m\u001b[0;34m,\u001b[0m \u001b[0mmultiparams\u001b[0m\u001b[0;34m,\u001b[0m \u001b[0mparams\u001b[0m\u001b[0;34m)\u001b[0m\u001b[0;34m:\u001b[0m\u001b[0;34m\u001b[0m\u001b[0m\n",
      "\u001b[0;32m/usr/lib64/python3.4/site-packages/sqlalchemy/sql/elements.py\u001b[0m in \u001b[0;36m_execute_on_connection\u001b[0;34m(self, connection, multiparams, params)\u001b[0m\n\u001b[1;32m    261\u001b[0m     \u001b[0;32mdef\u001b[0m \u001b[0m_execute_on_connection\u001b[0m\u001b[0;34m(\u001b[0m\u001b[0mself\u001b[0m\u001b[0;34m,\u001b[0m \u001b[0mconnection\u001b[0m\u001b[0;34m,\u001b[0m \u001b[0mmultiparams\u001b[0m\u001b[0;34m,\u001b[0m \u001b[0mparams\u001b[0m\u001b[0;34m)\u001b[0m\u001b[0;34m:\u001b[0m\u001b[0;34m\u001b[0m\u001b[0m\n\u001b[1;32m    262\u001b[0m         \u001b[0;32mif\u001b[0m \u001b[0mself\u001b[0m\u001b[0;34m.\u001b[0m\u001b[0msupports_execution\u001b[0m\u001b[0;34m:\u001b[0m\u001b[0;34m\u001b[0m\u001b[0m\n\u001b[0;32m--> 263\u001b[0;31m             \u001b[0;32mreturn\u001b[0m \u001b[0mconnection\u001b[0m\u001b[0;34m.\u001b[0m\u001b[0m_execute_clauseelement\u001b[0m\u001b[0;34m(\u001b[0m\u001b[0mself\u001b[0m\u001b[0;34m,\u001b[0m \u001b[0mmultiparams\u001b[0m\u001b[0;34m,\u001b[0m \u001b[0mparams\u001b[0m\u001b[0;34m)\u001b[0m\u001b[0;34m\u001b[0m\u001b[0m\n\u001b[0m\u001b[1;32m    264\u001b[0m         \u001b[0;32melse\u001b[0m\u001b[0;34m:\u001b[0m\u001b[0;34m\u001b[0m\u001b[0m\n\u001b[1;32m    265\u001b[0m             \u001b[0;32mraise\u001b[0m \u001b[0mexc\u001b[0m\u001b[0;34m.\u001b[0m\u001b[0mObjectNotExecutableError\u001b[0m\u001b[0;34m(\u001b[0m\u001b[0mself\u001b[0m\u001b[0;34m)\u001b[0m\u001b[0;34m\u001b[0m\u001b[0m\n",
      "\u001b[0;32m/usr/lib64/python3.4/site-packages/sqlalchemy/engine/base.py\u001b[0m in \u001b[0;36m_execute_clauseelement\u001b[0;34m(self, elem, multiparams, params)\u001b[0m\n\u001b[1;32m   1051\u001b[0m             \u001b[0mcompiled_sql\u001b[0m\u001b[0;34m,\u001b[0m\u001b[0;34m\u001b[0m\u001b[0m\n\u001b[1;32m   1052\u001b[0m             \u001b[0mdistilled_params\u001b[0m\u001b[0;34m,\u001b[0m\u001b[0;34m\u001b[0m\u001b[0m\n\u001b[0;32m-> 1053\u001b[0;31m             \u001b[0mcompiled_sql\u001b[0m\u001b[0;34m,\u001b[0m \u001b[0mdistilled_params\u001b[0m\u001b[0;34m\u001b[0m\u001b[0m\n\u001b[0m\u001b[1;32m   1054\u001b[0m         )\n\u001b[1;32m   1055\u001b[0m         \u001b[0;32mif\u001b[0m \u001b[0mself\u001b[0m\u001b[0;34m.\u001b[0m\u001b[0m_has_events\u001b[0m \u001b[0;32mor\u001b[0m \u001b[0mself\u001b[0m\u001b[0;34m.\u001b[0m\u001b[0mengine\u001b[0m\u001b[0;34m.\u001b[0m\u001b[0m_has_events\u001b[0m\u001b[0;34m:\u001b[0m\u001b[0;34m\u001b[0m\u001b[0m\n",
      "\u001b[0;32m/usr/lib64/python3.4/site-packages/sqlalchemy/engine/base.py\u001b[0m in \u001b[0;36m_execute_context\u001b[0;34m(self, dialect, constructor, statement, parameters, *args)\u001b[0m\n\u001b[1;32m   1187\u001b[0m                 \u001b[0mparameters\u001b[0m\u001b[0;34m,\u001b[0m\u001b[0;34m\u001b[0m\u001b[0m\n\u001b[1;32m   1188\u001b[0m                 \u001b[0mcursor\u001b[0m\u001b[0;34m,\u001b[0m\u001b[0;34m\u001b[0m\u001b[0m\n\u001b[0;32m-> 1189\u001b[0;31m                 context)\n\u001b[0m\u001b[1;32m   1190\u001b[0m \u001b[0;34m\u001b[0m\u001b[0m\n\u001b[1;32m   1191\u001b[0m         \u001b[0;32mif\u001b[0m \u001b[0mself\u001b[0m\u001b[0;34m.\u001b[0m\u001b[0m_has_events\u001b[0m \u001b[0;32mor\u001b[0m \u001b[0mself\u001b[0m\u001b[0;34m.\u001b[0m\u001b[0mengine\u001b[0m\u001b[0;34m.\u001b[0m\u001b[0m_has_events\u001b[0m\u001b[0;34m:\u001b[0m\u001b[0;34m\u001b[0m\u001b[0m\n",
      "\u001b[0;32m/usr/lib64/python3.4/site-packages/sqlalchemy/engine/base.py\u001b[0m in \u001b[0;36m_handle_dbapi_exception\u001b[0;34m(self, e, statement, parameters, cursor, context)\u001b[0m\n\u001b[1;32m   1400\u001b[0m                 util.raise_from_cause(\n\u001b[1;32m   1401\u001b[0m                     \u001b[0msqlalchemy_exception\u001b[0m\u001b[0;34m,\u001b[0m\u001b[0;34m\u001b[0m\u001b[0m\n\u001b[0;32m-> 1402\u001b[0;31m                     \u001b[0mexc_info\u001b[0m\u001b[0;34m\u001b[0m\u001b[0m\n\u001b[0m\u001b[1;32m   1403\u001b[0m                 )\n\u001b[1;32m   1404\u001b[0m             \u001b[0;32melse\u001b[0m\u001b[0;34m:\u001b[0m\u001b[0;34m\u001b[0m\u001b[0m\n",
      "\u001b[0;32m/usr/lib64/python3.4/site-packages/sqlalchemy/util/compat.py\u001b[0m in \u001b[0;36mraise_from_cause\u001b[0;34m(exception, exc_info)\u001b[0m\n\u001b[1;32m    201\u001b[0m     \u001b[0mexc_type\u001b[0m\u001b[0;34m,\u001b[0m \u001b[0mexc_value\u001b[0m\u001b[0;34m,\u001b[0m \u001b[0mexc_tb\u001b[0m \u001b[0;34m=\u001b[0m \u001b[0mexc_info\u001b[0m\u001b[0;34m\u001b[0m\u001b[0m\n\u001b[1;32m    202\u001b[0m     \u001b[0mcause\u001b[0m \u001b[0;34m=\u001b[0m \u001b[0mexc_value\u001b[0m \u001b[0;32mif\u001b[0m \u001b[0mexc_value\u001b[0m \u001b[0;32mis\u001b[0m \u001b[0;32mnot\u001b[0m \u001b[0mexception\u001b[0m \u001b[0;32melse\u001b[0m \u001b[0;32mNone\u001b[0m\u001b[0;34m\u001b[0m\u001b[0m\n\u001b[0;32m--> 203\u001b[0;31m     \u001b[0mreraise\u001b[0m\u001b[0;34m(\u001b[0m\u001b[0mtype\u001b[0m\u001b[0;34m(\u001b[0m\u001b[0mexception\u001b[0m\u001b[0;34m)\u001b[0m\u001b[0;34m,\u001b[0m \u001b[0mexception\u001b[0m\u001b[0;34m,\u001b[0m \u001b[0mtb\u001b[0m\u001b[0;34m=\u001b[0m\u001b[0mexc_tb\u001b[0m\u001b[0;34m,\u001b[0m \u001b[0mcause\u001b[0m\u001b[0;34m=\u001b[0m\u001b[0mcause\u001b[0m\u001b[0;34m)\u001b[0m\u001b[0;34m\u001b[0m\u001b[0m\n\u001b[0m\u001b[1;32m    204\u001b[0m \u001b[0;34m\u001b[0m\u001b[0m\n\u001b[1;32m    205\u001b[0m \u001b[0;32mif\u001b[0m \u001b[0mpy3k\u001b[0m\u001b[0;34m:\u001b[0m\u001b[0;34m\u001b[0m\u001b[0m\n",
      "\u001b[0;32m/usr/lib64/python3.4/site-packages/sqlalchemy/util/compat.py\u001b[0m in \u001b[0;36mreraise\u001b[0;34m(tp, value, tb, cause)\u001b[0m\n\u001b[1;32m    184\u001b[0m             \u001b[0mvalue\u001b[0m\u001b[0;34m.\u001b[0m\u001b[0m__cause__\u001b[0m \u001b[0;34m=\u001b[0m \u001b[0mcause\u001b[0m\u001b[0;34m\u001b[0m\u001b[0m\n\u001b[1;32m    185\u001b[0m         \u001b[0;32mif\u001b[0m \u001b[0mvalue\u001b[0m\u001b[0;34m.\u001b[0m\u001b[0m__traceback__\u001b[0m \u001b[0;32mis\u001b[0m \u001b[0;32mnot\u001b[0m \u001b[0mtb\u001b[0m\u001b[0;34m:\u001b[0m\u001b[0;34m\u001b[0m\u001b[0m\n\u001b[0;32m--> 186\u001b[0;31m             \u001b[0;32mraise\u001b[0m \u001b[0mvalue\u001b[0m\u001b[0;34m.\u001b[0m\u001b[0mwith_traceback\u001b[0m\u001b[0;34m(\u001b[0m\u001b[0mtb\u001b[0m\u001b[0;34m)\u001b[0m\u001b[0;34m\u001b[0m\u001b[0m\n\u001b[0m\u001b[1;32m    187\u001b[0m         \u001b[0;32mraise\u001b[0m \u001b[0mvalue\u001b[0m\u001b[0;34m\u001b[0m\u001b[0m\n\u001b[1;32m    188\u001b[0m \u001b[0;34m\u001b[0m\u001b[0m\n",
      "\u001b[0;32m/usr/lib64/python3.4/site-packages/sqlalchemy/engine/base.py\u001b[0m in \u001b[0;36m_execute_context\u001b[0;34m(self, dialect, constructor, statement, parameters, *args)\u001b[0m\n\u001b[1;32m   1180\u001b[0m                         \u001b[0mstatement\u001b[0m\u001b[0;34m,\u001b[0m\u001b[0;34m\u001b[0m\u001b[0m\n\u001b[1;32m   1181\u001b[0m                         \u001b[0mparameters\u001b[0m\u001b[0;34m,\u001b[0m\u001b[0;34m\u001b[0m\u001b[0m\n\u001b[0;32m-> 1182\u001b[0;31m                         context)\n\u001b[0m\u001b[1;32m   1183\u001b[0m         \u001b[0;32mexcept\u001b[0m \u001b[0mBaseException\u001b[0m \u001b[0;32mas\u001b[0m \u001b[0me\u001b[0m\u001b[0;34m:\u001b[0m\u001b[0;34m\u001b[0m\u001b[0m\n\u001b[1;32m   1184\u001b[0m             self._handle_dbapi_exception(\n",
      "\u001b[0;32m/usr/lib64/python3.4/site-packages/sqlalchemy/engine/default.py\u001b[0m in \u001b[0;36mdo_execute\u001b[0;34m(self, cursor, statement, parameters, context)\u001b[0m\n\u001b[1;32m    468\u001b[0m \u001b[0;34m\u001b[0m\u001b[0m\n\u001b[1;32m    469\u001b[0m     \u001b[0;32mdef\u001b[0m \u001b[0mdo_execute\u001b[0m\u001b[0;34m(\u001b[0m\u001b[0mself\u001b[0m\u001b[0;34m,\u001b[0m \u001b[0mcursor\u001b[0m\u001b[0;34m,\u001b[0m \u001b[0mstatement\u001b[0m\u001b[0;34m,\u001b[0m \u001b[0mparameters\u001b[0m\u001b[0;34m,\u001b[0m \u001b[0mcontext\u001b[0m\u001b[0;34m=\u001b[0m\u001b[0;32mNone\u001b[0m\u001b[0;34m)\u001b[0m\u001b[0;34m:\u001b[0m\u001b[0;34m\u001b[0m\u001b[0m\n\u001b[0;32m--> 470\u001b[0;31m         \u001b[0mcursor\u001b[0m\u001b[0;34m.\u001b[0m\u001b[0mexecute\u001b[0m\u001b[0;34m(\u001b[0m\u001b[0mstatement\u001b[0m\u001b[0;34m,\u001b[0m \u001b[0mparameters\u001b[0m\u001b[0;34m)\u001b[0m\u001b[0;34m\u001b[0m\u001b[0m\n\u001b[0m\u001b[1;32m    471\u001b[0m \u001b[0;34m\u001b[0m\u001b[0m\n\u001b[1;32m    472\u001b[0m     \u001b[0;32mdef\u001b[0m \u001b[0mdo_execute_no_params\u001b[0m\u001b[0;34m(\u001b[0m\u001b[0mself\u001b[0m\u001b[0;34m,\u001b[0m \u001b[0mcursor\u001b[0m\u001b[0;34m,\u001b[0m \u001b[0mstatement\u001b[0m\u001b[0;34m,\u001b[0m \u001b[0mcontext\u001b[0m\u001b[0;34m=\u001b[0m\u001b[0;32mNone\u001b[0m\u001b[0;34m)\u001b[0m\u001b[0;34m:\u001b[0m\u001b[0;34m\u001b[0m\u001b[0m\n",
      "\u001b[0;31mIntegrityError\u001b[0m: (psycopg2.IntegrityError) duplicate key value violates unique constraint \"member_status_pkey\"\nDETAIL:  Key (status_id)=(1) already exists.\n [SQL: \"INSERT INTO member_status VALUES\\n    (1, 'Active'),\\n    (2, 'Locally Inactive'),\\n    (3, 'Nationally Inactive'),\\n    (4, 'Alumni')\\n;\"]"
     ]
    }
   ],
   "source": [
    "%%sql\n",
    "INSERT INTO member_status VALUES\n",
    "    (1, 'Active'),\n",
    "    (2, 'Locally Inactive'),\n",
    "    (3, 'Nationally Inactive'),\n",
    "    (4, 'Alumni')\n",
    ";"
   ]
  },
  {
   "cell_type": "markdown",
   "metadata": {},
   "source": [
    "## potential_roster table"
   ]
  },
  {
   "cell_type": "code",
   "execution_count": 76,
   "metadata": {},
   "outputs": [
    {
     "name": "stdout",
     "output_type": "stream",
     "text": [
      "Done.\n"
     ]
    },
    {
     "data": {
      "text/plain": [
       "[]"
      ]
     },
     "execution_count": 76,
     "metadata": {},
     "output_type": "execute_result"
    }
   ],
   "source": [
    "%%sql\n",
    "CREATE TABLE potential_roster (   \n",
    "    student_id INTEGER PRIMARY KEY,\n",
    "    pawprint VARCHAR(25),\n",
    "    last_name VARCHAR(50),\n",
    "    first_name VARCHAR(50),\n",
    "    email_address VARCHAR(255),\n",
    "    phone_number VARCHAR(25)\n",
    ");"
   ]
  },
  {
   "cell_type": "code",
   "execution_count": 77,
   "metadata": {},
   "outputs": [
    {
     "name": "stdout",
     "output_type": "stream",
     "text": [
      "Done.\n"
     ]
    },
    {
     "data": {
      "text/plain": [
       "[]"
      ]
     },
     "execution_count": 77,
     "metadata": {},
     "output_type": "execute_result"
    }
   ],
   "source": [
    "%%sql\n",
    "TRUNCATE potential_roster CASCADE;"
   ]
  },
  {
   "cell_type": "code",
   "execution_count": 78,
   "metadata": {},
   "outputs": [
    {
     "name": "stdout",
     "output_type": "stream",
     "text": [
      "51 rows affected.\n"
     ]
    },
    {
     "data": {
      "text/plain": [
       "[]"
      ]
     },
     "execution_count": 78,
     "metadata": {},
     "output_type": "execute_result"
    }
   ],
   "source": [
    "%%sql\n",
    "INSERT INTO potential_roster VALUES\n",
    "    (1, random_string(6),'Carroll','Roy',random_string(8) || '@yahoo.com'),\n",
    "    (2, random_string(6),'Mallory','Alyssa',random_string(8) || '@yahoo.com'),\n",
    "    (3, random_string(6),'Clarence','McNally',random_string(8) || '@yahoo.com'),\n",
    "    (4, random_string(6),'Jessica','Johnson',random_string(8) || '@yahoo.com'),\n",
    "    (5, random_string(6),'Veronica','Steinsfield',random_string(8) || '@yahoo.com'),\n",
    "    (6, random_string(6),'Veronica','Pam',random_string(8) || '@yahoo.com'),\n",
    "    (7, random_string(6),'Henry','Smith',random_string(8) || '@yahoo.com'),\n",
    "    (8, random_string(6),'Johnson','Roy',random_string(8) || '@yahoo.com'),\n",
    "    (9, random_string(6),'Hollander','Bryan',random_string(8) || '@yahoo.com'),\n",
    "    (10, random_string(6),'Gasperino','Muriel',random_string(8) || '@yahoo.com'),\n",
    "    (11, random_string(6),'Brent','Gandy',random_string(8) || '@yahoo.com'),\n",
    "    (12, random_string(6),'Jacobson','Perry',random_string(8) || '@yahoo.com'),\n",
    "    (13, random_string(6),'Klump','Lowell',random_string(8) || '@yahoo.com'),\n",
    "    (14, random_string(6),'Clarence','Cunningham',random_string(8) || '@yahoo.com'),\n",
    "    (15, random_string(6),'Gross','Charlotte',random_string(8) || '@yahoo.com'),\n",
    "    (16, random_string(6),'Francisco','Hoffman',random_string(8) || '@yahoo.com'),\n",
    "    (17, random_string(6),'Douglas','Antoinette',random_string(8) || '@yahoo.com'),\n",
    "    (18, random_string(6),'Graves','Melinda',random_string(8) || '@yahoo.com'),\n",
    "    (19, random_string(6),'Armstrong','Cecelia',random_string(8) || '@yahoo.com'),\n",
    "    (20, random_string(6),'Mcbride','Troy',random_string(8) || '@yahoo.com'),\n",
    "    (21, random_string(6),'Mcgee','Bobbie',random_string(8) || '@yahoo.com'),\n",
    "    (22, random_string(6),'Marshall','Debbie',random_string(8) || '@yahoo.com'),\n",
    "    (23, random_string(6),'Cooper','Natalie',random_string(8) || '@yahoo.com'),\n",
    "    (24, random_string(6),'Harmon','Corey',random_string(8) || '@yahoo.com'),\n",
    "    (25, random_string(6),'Black','Guillermo',random_string(8) || '@yahoo.com'),\n",
    "    (26, random_string(6),'Brewer','Larry',random_string(8) || '@yahoo.com'),\n",
    "    (27, random_string(6),'Hudson','Anne',random_string(8) || '@yahoo.com'),\n",
    "    (28, random_string(6),'Conner','Joe',random_string(8) || '@yahoo.com'),\n",
    "    (29, random_string(6),'Miles','May',random_string(8) || '@yahoo.com'),\n",
    "    (30, random_string(6),'Hayes','Katie',random_string(8) || '@yahoo.com'),\n",
    "    (31, random_string(6),'Boyd','Kyle',random_string(8) || '@yahoo.com'),\n",
    "    (32, random_string(6),'Rodriguez','Nick',random_string(8) || '@yahoo.com'),\n",
    "    (33, random_string(6),'Adams','Kim',random_string(8) || '@yahoo.com'),\n",
    "    (34, random_string(6),'Thompson','Nakia',random_string(8) || '@yahoo.com'),\n",
    "    (35, random_string(6),'Hale','Courtney',random_string(8) || '@yahoo.com'),\n",
    "    (36, random_string(6),'Harper','Jacob',random_string(8) || '@yahoo.com'),\n",
    "    (37, random_string(6),'Mckenzie','Syndey',random_string(8) || '@yahoo.com'),\n",
    "    (38, random_string(6),'Payne','Tyler',random_string(8) || '@yahoo.com'),\n",
    "    (39, random_string(6),'Carlson','Elijah',random_string(8) || '@yahoo.com'),\n",
    "    (40, random_string(6),'Mccarthy','Leroy',random_string(8) || '@yahoo.com'),\n",
    "    (41, random_string(6),'Mccormick','Ronald',random_string(8) || '@yahoo.com'),\n",
    "    (42, random_string(6),'Hill','McKenzie',random_string(8) || '@yahoo.com'),\n",
    "    (43, random_string(6),'Becker','Bea',random_string(8) || '@yahoo.com'),\n",
    "    (44, random_string(6),'West','Jess',random_string(8) || '@yahoo.com'),\n",
    "    (45, random_string(6),'Garth','Mitt',random_string(8) || '@yahoo.com'),\n",
    "    (46, random_string(6),'Brooks','Micheal',random_string(8) || '@yahoo.com'),\n",
    "    (47, random_string(6),'Brown','Mitch',random_string(8) || '@yahoo.com'),\n",
    "    (48, random_string(6),'Marxkors','Joe',random_string(8) || '@yahoo.com'),\n",
    "    (49, random_string(6),'Billy','Julie',random_string(8) || '@yahoo.com'),\n",
    "    (50, random_string(6),'Van Hugh','Kate',random_string(8) || '@yahoo.com'),\n",
    "    (51, random_string(6),'Roberts','Annie',random_string(8) || '@yahoo.com')\n",
    ";"
   ]
  },
  {
   "cell_type": "markdown",
   "metadata": {},
   "source": [
    "## votingResults table"
   ]
  },
  {
   "cell_type": "code",
   "execution_count": 79,
   "metadata": {},
   "outputs": [
    {
     "name": "stdout",
     "output_type": "stream",
     "text": [
      "Done.\n"
     ]
    },
    {
     "data": {
      "text/plain": [
       "[]"
      ]
     },
     "execution_count": 79,
     "metadata": {},
     "output_type": "execute_result"
    }
   ],
   "source": [
    "%%sql\n",
    "CREATE TABLE votingResults (\n",
    "    roundNum INTEGER,\n",
    "    student_id INTEGER REFERENCES potential_roster (student_id) ON DELETE CASCADE,\n",
    "    yes INTEGER,\n",
    "    no INTEGER,\n",
    "    abstain INTEGER,\n",
    "    PRIMARY KEY (student_id, roundNum)\n",
    ");"
   ]
  },
  {
   "cell_type": "code",
   "execution_count": 80,
   "metadata": {},
   "outputs": [
    {
     "name": "stdout",
     "output_type": "stream",
     "text": [
      "Done.\n"
     ]
    },
    {
     "data": {
      "text/plain": [
       "[]"
      ]
     },
     "execution_count": 80,
     "metadata": {},
     "output_type": "execute_result"
    }
   ],
   "source": [
    "%%sql\n",
    "TRUNCATE votingResults CASCADE;"
   ]
  },
  {
   "cell_type": "code",
   "execution_count": 81,
   "metadata": {},
   "outputs": [
    {
     "name": "stdout",
     "output_type": "stream",
     "text": [
      "114 rows affected.\n"
     ]
    },
    {
     "data": {
      "text/plain": [
       "[]"
      ]
     },
     "execution_count": 81,
     "metadata": {},
     "output_type": "execute_result"
    }
   ],
   "source": [
    "%%sql\n",
    "INSERT INTO votingResults VALUES\n",
    "    (1, 1,(floor(random()*50+1)::int),(floor(random()*50+1)::int),(floor(random()*50+1)::int)),\n",
    "    (1, 2,(floor(random()*50+1)::int),(floor(random()*50+1)::int),(floor(random()*50+1)::int)),\n",
    "    (1, 3,(floor(random()*50+1)::int),(floor(random()*50+1)::int),(floor(random()*50+1)::int)),\n",
    "    (1, 4,(floor(random()*50+1)::int),(floor(random()*50+1)::int),(floor(random()*50+1)::int)),\n",
    "    (1, 5,(floor(random()*50+1)::int),(floor(random()*50+1)::int),(floor(random()*50+1)::int)),\n",
    "    (1, 6,(floor(random()*50+1)::int),(floor(random()*50+1)::int),(floor(random()*50+1)::int)),\n",
    "    (1, 7,(floor(random()*50+1)::int),(floor(random()*50+1)::int),(floor(random()*50+1)::int)),\n",
    "    (1, 8,(floor(random()*50+1)::int),(floor(random()*50+1)::int),(floor(random()*50+1)::int)),\n",
    "    (1, 9,(floor(random()*50+1)::int),(floor(random()*50+1)::int),(floor(random()*50+1)::int)),\n",
    "    (1, 10,(floor(random()*50+1)::int),(floor(random()*50+1)::int),(floor(random()*50+1)::int)),\n",
    "    (1, 11,(floor(random()*50+1)::int),(floor(random()*50+1)::int),(floor(random()*50+1)::int)),\n",
    "    (1, 12,(floor(random()*50+1)::int),(floor(random()*50+1)::int),(floor(random()*50+1)::int)),\n",
    "    (1, 13,(floor(random()*50+1)::int),(floor(random()*50+1)::int),(floor(random()*50+1)::int)),\n",
    "    (1, 14,(floor(random()*50+1)::int),(floor(random()*50+1)::int),(floor(random()*50+1)::int)),\n",
    "    (1, 15,(floor(random()*50+1)::int),(floor(random()*50+1)::int),(floor(random()*50+1)::int)),\n",
    "    (1, 16,(floor(random()*50+1)::int),(floor(random()*50+1)::int),(floor(random()*50+1)::int)),\n",
    "    (1, 17,(floor(random()*50+1)::int),(floor(random()*50+1)::int),(floor(random()*50+1)::int)),\n",
    "    (1, 18,(floor(random()*50+1)::int),(floor(random()*50+1)::int),(floor(random()*50+1)::int)),\n",
    "    (1, 19,(floor(random()*50+1)::int),(floor(random()*50+1)::int),(floor(random()*50+1)::int)),\n",
    "    (1, 20,(floor(random()*50+1)::int),(floor(random()*50+1)::int),(floor(random()*50+1)::int)),\n",
    "    (1, 21,(floor(random()*50+1)::int),(floor(random()*50+1)::int),(floor(random()*50+1)::int)),\n",
    "    (1, 22,(floor(random()*50+1)::int),(floor(random()*50+1)::int),(floor(random()*50+1)::int)),\n",
    "    (1, 23,(floor(random()*50+1)::int),(floor(random()*50+1)::int),(floor(random()*50+1)::int)),\n",
    "    (1, 24,(floor(random()*50+1)::int),(floor(random()*50+1)::int),(floor(random()*50+1)::int)),\n",
    "    (1, 25,(floor(random()*50+1)::int),(floor(random()*50+1)::int),(floor(random()*50+1)::int)),\n",
    "    (1, 26,(floor(random()*50+1)::int),(floor(random()*50+1)::int),(floor(random()*50+1)::int)),\n",
    "    (1, 27,(floor(random()*50+1)::int),(floor(random()*50+1)::int),(floor(random()*50+1)::int)),\n",
    "    (1, 28,(floor(random()*50+1)::int),(floor(random()*50+1)::int),(floor(random()*50+1)::int)),\n",
    "    (1, 29,(floor(random()*50+1)::int),(floor(random()*50+1)::int),(floor(random()*50+1)::int)),\n",
    "    (1, 30,(floor(random()*50+1)::int),(floor(random()*50+1)::int),(floor(random()*50+1)::int)),\n",
    "    (1, 31,(floor(random()*50+1)::int),(floor(random()*50+1)::int),(floor(random()*50+1)::int)),\n",
    "    (1, 32,(floor(random()*50+1)::int),(floor(random()*50+1)::int),(floor(random()*50+1)::int)),\n",
    "    (1, 33,(floor(random()*50+1)::int),(floor(random()*50+1)::int),(floor(random()*50+1)::int)),\n",
    "    (1, 34,(floor(random()*50+1)::int),(floor(random()*50+1)::int),(floor(random()*50+1)::int)),\n",
    "    (1, 35,(floor(random()*50+1)::int),(floor(random()*50+1)::int),(floor(random()*50+1)::int)),\n",
    "    (1, 36,(floor(random()*50+1)::int),(floor(random()*50+1)::int),(floor(random()*50+1)::int)),\n",
    "    (1, 37,(floor(random()*50+1)::int),(floor(random()*50+1)::int),(floor(random()*50+1)::int)),\n",
    "    (1, 38,(floor(random()*50+1)::int),(floor(random()*50+1)::int),(floor(random()*50+1)::int)),\n",
    "    (1, 39,(floor(random()*50+1)::int),(floor(random()*50+1)::int),(floor(random()*50+1)::int)),\n",
    "    (1, 40,(floor(random()*50+1)::int),(floor(random()*50+1)::int),(floor(random()*50+1)::int)),\n",
    "    (1, 41,(floor(random()*50+1)::int),(floor(random()*50+1)::int),(floor(random()*50+1)::int)),\n",
    "    (1, 42,(floor(random()*50+1)::int),(floor(random()*50+1)::int),(floor(random()*50+1)::int)),\n",
    "    (1, 43,(floor(random()*50+1)::int),(floor(random()*50+1)::int),(floor(random()*50+1)::int)),\n",
    "    (1, 44,(floor(random()*50+1)::int),(floor(random()*50+1)::int),(floor(random()*50+1)::int)),\n",
    "    (1, 45,(floor(random()*50+1)::int),(floor(random()*50+1)::int),(floor(random()*50+1)::int)),\n",
    "    (1, 46,(floor(random()*50+1)::int),(floor(random()*50+1)::int),(floor(random()*50+1)::int)),\n",
    "    (1, 47,(floor(random()*50+1)::int),(floor(random()*50+1)::int),(floor(random()*50+1)::int)),\n",
    "    (1, 48,(floor(random()*50+1)::int),(floor(random()*50+1)::int),(floor(random()*50+1)::int)),\n",
    "    (1, 49,(floor(random()*50+1)::int),(floor(random()*50+1)::int),(floor(random()*50+1)::int)),\n",
    "    (1, 50,(floor(random()*50+1)::int),(floor(random()*50+1)::int),(floor(random()*50+1)::int)),\n",
    "    (1, 51,(floor(random()*50+1)::int),(floor(random()*50+1)::int),(floor(random()*50+1)::int)),\n",
    "    (2, 1,(floor(random()*50+1)::int),(floor(random()*50+1)::int),(floor(random()*50+1)::int)),\n",
    "    (2, 2,(floor(random()*50+1)::int),(floor(random()*50+1)::int),(floor(random()*50+1)::int)),\n",
    "    (2, 3,(floor(random()*50+1)::int),(floor(random()*50+1)::int),(floor(random()*50+1)::int)),\n",
    "    (2, 4,(floor(random()*50+1)::int),(floor(random()*50+1)::int),(floor(random()*50+1)::int)),\n",
    "    (2, 5,(floor(random()*50+1)::int),(floor(random()*50+1)::int),(floor(random()*50+1)::int)),\n",
    "    (2, 6,(floor(random()*50+1)::int),(floor(random()*50+1)::int),(floor(random()*50+1)::int)),\n",
    "    (2, 7,(floor(random()*50+1)::int),(floor(random()*50+1)::int),(floor(random()*50+1)::int)),\n",
    "    (2, 8,(floor(random()*50+1)::int),(floor(random()*50+1)::int),(floor(random()*50+1)::int)),\n",
    "    (2, 9,(floor(random()*50+1)::int),(floor(random()*50+1)::int),(floor(random()*50+1)::int)),\n",
    "    (2, 10,(floor(random()*50+1)::int),(floor(random()*50+1)::int),(floor(random()*50+1)::int)),\n",
    "    (2, 11,(floor(random()*50+1)::int),(floor(random()*50+1)::int),(floor(random()*50+1)::int)),\n",
    "    (2, 12,(floor(random()*50+1)::int),(floor(random()*50+1)::int),(floor(random()*50+1)::int)),\n",
    "    (2, 13,(floor(random()*50+1)::int),(floor(random()*50+1)::int),(floor(random()*50+1)::int)),\n",
    "    (2, 14,(floor(random()*50+1)::int),(floor(random()*50+1)::int),(floor(random()*50+1)::int)),\n",
    "    (2, 15,(floor(random()*50+1)::int),(floor(random()*50+1)::int),(floor(random()*50+1)::int)),\n",
    "    (2, 16,(floor(random()*50+1)::int),(floor(random()*50+1)::int),(floor(random()*50+1)::int)),\n",
    "    (2, 17,(floor(random()*50+1)::int),(floor(random()*50+1)::int),(floor(random()*50+1)::int)),\n",
    "    (2, 18,(floor(random()*50+1)::int),(floor(random()*50+1)::int),(floor(random()*50+1)::int)),\n",
    "    (2, 19,(floor(random()*50+1)::int),(floor(random()*50+1)::int),(floor(random()*50+1)::int)),\n",
    "    (2, 20,(floor(random()*50+1)::int),(floor(random()*50+1)::int),(floor(random()*50+1)::int)),\n",
    "    (2, 21,(floor(random()*50+1)::int),(floor(random()*50+1)::int),(floor(random()*50+1)::int)),\n",
    "    (2, 22,(floor(random()*50+1)::int),(floor(random()*50+1)::int),(floor(random()*50+1)::int)),\n",
    "    (2, 23,(floor(random()*50+1)::int),(floor(random()*50+1)::int),(floor(random()*50+1)::int)),\n",
    "    (2, 24,(floor(random()*50+1)::int),(floor(random()*50+1)::int),(floor(random()*50+1)::int)),\n",
    "    (2, 25,(floor(random()*50+1)::int),(floor(random()*50+1)::int),(floor(random()*50+1)::int)),\n",
    "    (2, 26,(floor(random()*50+1)::int),(floor(random()*50+1)::int),(floor(random()*50+1)::int)),\n",
    "    (2, 27,(floor(random()*50+1)::int),(floor(random()*50+1)::int),(floor(random()*50+1)::int)),\n",
    "    (2, 28,(floor(random()*50+1)::int),(floor(random()*50+1)::int),(floor(random()*50+1)::int)),\n",
    "    (2, 29,(floor(random()*50+1)::int),(floor(random()*50+1)::int),(floor(random()*50+1)::int)),\n",
    "    (2, 30,(floor(random()*50+1)::int),(floor(random()*50+1)::int),(floor(random()*50+1)::int)),\n",
    "    (2, 31,(floor(random()*50+1)::int),(floor(random()*50+1)::int),(floor(random()*50+1)::int)),\n",
    "    (2, 32,(floor(random()*50+1)::int),(floor(random()*50+1)::int),(floor(random()*50+1)::int)),\n",
    "    (2, 33,(floor(random()*50+1)::int),(floor(random()*50+1)::int),(floor(random()*50+1)::int)),\n",
    "    (2, 34,(floor(random()*50+1)::int),(floor(random()*50+1)::int),(floor(random()*50+1)::int)),\n",
    "    (2, 35,(floor(random()*50+1)::int),(floor(random()*50+1)::int),(floor(random()*50+1)::int)),\n",
    "    (2, 36,(floor(random()*50+1)::int),(floor(random()*50+1)::int),(floor(random()*50+1)::int)),\n",
    "    (2, 37,(floor(random()*50+1)::int),(floor(random()*50+1)::int),(floor(random()*50+1)::int)),\n",
    "    (2, 38,(floor(random()*50+1)::int),(floor(random()*50+1)::int),(floor(random()*50+1)::int)),\n",
    "    (3, 1,(floor(random()*50+1)::int),(floor(random()*50+1)::int),(floor(random()*50+1)::int)),\n",
    "    (3, 2,(floor(random()*50+1)::int),(floor(random()*50+1)::int),(floor(random()*50+1)::int)),\n",
    "    (3, 3,(floor(random()*50+1)::int),(floor(random()*50+1)::int),(floor(random()*50+1)::int)),\n",
    "    (3, 4,(floor(random()*50+1)::int),(floor(random()*50+1)::int),(floor(random()*50+1)::int)),\n",
    "    (3, 5,(floor(random()*50+1)::int),(floor(random()*50+1)::int),(floor(random()*50+1)::int)),\n",
    "    (3, 6,(floor(random()*50+1)::int),(floor(random()*50+1)::int),(floor(random()*50+1)::int)),\n",
    "    (3, 7,(floor(random()*50+1)::int),(floor(random()*50+1)::int),(floor(random()*50+1)::int)),\n",
    "    (3, 8,(floor(random()*50+1)::int),(floor(random()*50+1)::int),(floor(random()*50+1)::int)),\n",
    "    (3, 9,(floor(random()*50+1)::int),(floor(random()*50+1)::int),(floor(random()*50+1)::int)),\n",
    "    (3, 10,(floor(random()*50+1)::int),(floor(random()*50+1)::int),(floor(random()*50+1)::int)),\n",
    "    (3, 11,(floor(random()*50+1)::int),(floor(random()*50+1)::int),(floor(random()*50+1)::int)),\n",
    "    (3, 12,(floor(random()*50+1)::int),(floor(random()*50+1)::int),(floor(random()*50+1)::int)),\n",
    "    (3, 13,(floor(random()*50+1)::int),(floor(random()*50+1)::int),(floor(random()*50+1)::int)),\n",
    "    (3, 14,(floor(random()*50+1)::int),(floor(random()*50+1)::int),(floor(random()*50+1)::int)),\n",
    "    (3, 15,(floor(random()*50+1)::int),(floor(random()*50+1)::int),(floor(random()*50+1)::int)),\n",
    "    (3, 16,(floor(random()*50+1)::int),(floor(random()*50+1)::int),(floor(random()*50+1)::int)),\n",
    "    (3, 17,(floor(random()*50+1)::int),(floor(random()*50+1)::int),(floor(random()*50+1)::int)),\n",
    "    (3, 18,(floor(random()*50+1)::int),(floor(random()*50+1)::int),(floor(random()*50+1)::int)),\n",
    "    (3, 19,(floor(random()*50+1)::int),(floor(random()*50+1)::int),(floor(random()*50+1)::int)),\n",
    "    (3, 20,(floor(random()*50+1)::int),(floor(random()*50+1)::int),(floor(random()*50+1)::int)),\n",
    "    (3, 21,(floor(random()*50+1)::int),(floor(random()*50+1)::int),(floor(random()*50+1)::int)),\n",
    "    (3, 22,(floor(random()*50+1)::int),(floor(random()*50+1)::int),(floor(random()*50+1)::int)),\n",
    "    (3, 23,(floor(random()*50+1)::int),(floor(random()*50+1)::int),(floor(random()*50+1)::int)),\n",
    "    (3, 24,(floor(random()*50+1)::int),(floor(random()*50+1)::int),(floor(random()*50+1)::int)),\n",
    "    (3, 25,(floor(random()*50+1)::int),(floor(random()*50+1)::int),(floor(random()*50+1)::int))\n",
    ";"
   ]
  },
  {
   "cell_type": "markdown",
   "metadata": {},
   "source": [
    "## classes table"
   ]
  },
  {
   "cell_type": "code",
   "execution_count": 82,
   "metadata": {},
   "outputs": [
    {
     "name": "stdout",
     "output_type": "stream",
     "text": [
      "Done.\n"
     ]
    },
    {
     "data": {
      "text/plain": [
       "[]"
      ]
     },
     "execution_count": 82,
     "metadata": {},
     "output_type": "execute_result"
    }
   ],
   "source": [
    "%%sql\n",
    "CREATE TABLE classes (\n",
    "    class_id SERIAL PRIMARY KEY,\n",
    "    class_name VARCHAR(255),\n",
    "    semester VARCHAR(50),\n",
    "    year INTEGER\n",
    ");"
   ]
  },
  {
   "cell_type": "code",
   "execution_count": 83,
   "metadata": {},
   "outputs": [
    {
     "name": "stdout",
     "output_type": "stream",
     "text": [
      "Done.\n"
     ]
    },
    {
     "data": {
      "text/plain": [
       "[]"
      ]
     },
     "execution_count": 83,
     "metadata": {},
     "output_type": "execute_result"
    }
   ],
   "source": [
    "%%sql\n",
    "TRUNCATE classes CASCADE;"
   ]
  },
  {
   "cell_type": "code",
   "execution_count": 84,
   "metadata": {},
   "outputs": [
    {
     "name": "stdout",
     "output_type": "stream",
     "text": [
      "7 rows affected.\n"
     ]
    },
    {
     "data": {
      "text/plain": [
       "[]"
      ]
     },
     "execution_count": 84,
     "metadata": {},
     "output_type": "execute_result"
    }
   ],
   "source": [
    "%%sql\n",
    "INSERT INTO classes(class_name,semester,year) VALUES\n",
    "    ('Alpha Epsilon', 'SPRING', 2015),\n",
    "    ('Alpha Zeta', 'FALL', 2015),\n",
    "    ('Alpha Eta', 'SPRING', 2016),\n",
    "    ('Alpha Theta', 'FALL', 2016),\n",
    "    ('Alpha Iota', 'SPRING', 2017),\n",
    "    ('Alpha Kappa', 'FALL', 2017),\n",
    "    ('Alpha Lambda', 'SPRING', 2018)\n",
    ";"
   ]
  },
  {
   "cell_type": "markdown",
   "metadata": {},
   "source": [
    "## class_roster table"
   ]
  },
  {
   "cell_type": "code",
   "execution_count": 85,
   "metadata": {},
   "outputs": [
    {
     "name": "stdout",
     "output_type": "stream",
     "text": [
      "Done.\n"
     ]
    },
    {
     "data": {
      "text/plain": [
       "[]"
      ]
     },
     "execution_count": 85,
     "metadata": {},
     "output_type": "execute_result"
    }
   ],
   "source": [
    "%%sql \n",
    "CREATE TABLE class_roster (\n",
    "    student_id INTEGER UNIQUE REFERENCES member (student_id) ON DELETE CASCADE,\n",
    "    class_id INTEGER NOT NULL REFERENCES classes (class_id) ON DELETE CASCADE\n",
    ");"
   ]
  },
  {
   "cell_type": "code",
   "execution_count": 86,
   "metadata": {},
   "outputs": [
    {
     "name": "stdout",
     "output_type": "stream",
     "text": [
      "Done.\n"
     ]
    },
    {
     "data": {
      "text/plain": [
       "[]"
      ]
     },
     "execution_count": 86,
     "metadata": {},
     "output_type": "execute_result"
    }
   ],
   "source": [
    "%%sql\n",
    "TRUNCATE class_roster CASCADE;"
   ]
  },
  {
   "cell_type": "code",
   "execution_count": 87,
   "metadata": {},
   "outputs": [
    {
     "name": "stdout",
     "output_type": "stream",
     "text": [
      "100 rows affected.\n"
     ]
    },
    {
     "data": {
      "text/plain": [
       "[]"
      ]
     },
     "execution_count": 87,
     "metadata": {},
     "output_type": "execute_result"
    }
   ],
   "source": [
    "%%sql\n",
    "INSERT INTO class_roster VALUES\n",
    "    (1, 1),\n",
    "    (2, 1),\n",
    "    (3, 1),\n",
    "    (4, 1),\n",
    "    (5, 1),\n",
    "    (6, 1),\n",
    "    (7, 1),\n",
    "    (8, 1),\n",
    "    (9, 1),\n",
    "    (10, 1),\n",
    "    (11, 1),\n",
    "    (12, 1),\n",
    "    (13, 1),\n",
    "    (14, 1),\n",
    "    (15, 1),\n",
    "    (16, 1),\n",
    "    (17, 1),\n",
    "    (18, 1),\n",
    "    (19, 1),\n",
    "    (20, 1),\n",
    "    (21, 2),\n",
    "    (22, 2),\n",
    "    (23, 2),\n",
    "    (24, 2),\n",
    "    (25, 2),\n",
    "    (26, 2),\n",
    "    (27, 2),\n",
    "    (28, 2),\n",
    "    (29, 2),\n",
    "    (30, 2),\n",
    "    (31, 3),\n",
    "    (32, 3),\n",
    "    (33, 3),\n",
    "    (34, 3),\n",
    "    (35, 3),\n",
    "    (36, 3),\n",
    "    (37, 3),\n",
    "    (38, 3),\n",
    "    (39, 3),\n",
    "    (40, 3),\n",
    "    (41, 4),\n",
    "    (42, 4),\n",
    "    (43, 4),\n",
    "    (44, 4),\n",
    "    (45, 4),\n",
    "    (46, 4),\n",
    "    (47, 4),\n",
    "    (48, 4),\n",
    "    (49, 4),\n",
    "    (50, 4),\n",
    "    (51, 4),\n",
    "    (52, 5),\n",
    "    (53, 5),\n",
    "    (54, 5),\n",
    "    (55, 5),\n",
    "    (56, 5),\n",
    "    (57, 5),\n",
    "    (58, 5),\n",
    "    (59, 5),\n",
    "    (60, 5),\n",
    "    (61, 5),\n",
    "    (62, 5),\n",
    "    (63, 6),\n",
    "    (64, 6),\n",
    "    (65, 6),\n",
    "    (66, 6),\n",
    "    (67, 6),\n",
    "    (68, 6),\n",
    "    (69, 6),\n",
    "    (70, 6),\n",
    "    (71, 6),\n",
    "    (72, 6),\n",
    "    (73, 6),\n",
    "    (74, 6),\n",
    "    (75, 6),\n",
    "    (76, 6),\n",
    "    (77, 6),\n",
    "    (78, 6),\n",
    "    (79, 6),\n",
    "    (80, 7),\n",
    "    (81, 7),\n",
    "    (82, 7),\n",
    "    (83, 7),\n",
    "    (84, 7),\n",
    "    (85, 7),\n",
    "    (86, 7),\n",
    "    (87, 7),\n",
    "    (88, 7),\n",
    "    (89, 7),\n",
    "    (90, 7),\n",
    "    (91, 7),\n",
    "    (92, 7),\n",
    "    (93, 7),\n",
    "    (94, 7),\n",
    "    (95, 7),\n",
    "    (96, 7),\n",
    "    (97, 7),\n",
    "    (98, 7),\n",
    "    (99, 7),\n",
    "    (100, 7)\n",
    ";"
   ]
  },
  {
   "cell_type": "markdown",
   "metadata": {},
   "source": [
    "# TRIGGERS / VIEWS"
   ]
  },
  {
   "cell_type": "markdown",
   "metadata": {},
   "source": [
    "## Triggers"
   ]
  },
  {
   "cell_type": "markdown",
   "metadata": {
    "collapsed": true
   },
   "source": [
    "## dues_paymentPlan table\n",
    "* Trigger: When last_amount_paid updated -> update amount_paid in memberDues\n",
    "    * amount_paid = (OLD)amount_paid + (NEW)last_amount_paid"
   ]
  },
  {
   "cell_type": "code",
   "execution_count": 239,
   "metadata": {},
   "outputs": [
    {
     "name": "stdout",
     "output_type": "stream",
     "text": [
      "Done.\n",
      "Done.\n"
     ]
    },
    {
     "data": {
      "text/plain": [
       "[]"
      ]
     },
     "execution_count": 239,
     "metadata": {},
     "output_type": "execute_result"
    }
   ],
   "source": [
    "%%sql\n",
    "DROP TRIGGER IF EXISTS dues_paymentPlan_payment ON dues_paymentPlan;\n",
    "DROP FUNCTION IF EXISTS payment_made();"
   ]
  },
  {
   "cell_type": "code",
   "execution_count": 193,
   "metadata": {},
   "outputs": [
    {
     "name": "stdout",
     "output_type": "stream",
     "text": [
      "Done.\n"
     ]
    },
    {
     "data": {
      "text/plain": [
       "[]"
      ]
     },
     "execution_count": 193,
     "metadata": {},
     "output_type": "execute_result"
    }
   ],
   "source": [
    "# %%sql\n",
    "# CREATE OR REPLACE FUNCTION payment_made()\n",
    "#  RETURNS trigger AS\n",
    "# $$\n",
    "# BEGIN\n",
    "#     /* Default Behavior when a payment is made */\n",
    "#     IF NEW.last_amount_paid IS NOT NULL AND (OLD.last_payment_date = NEW.last_payment_date OR NEW.last_payment_date IS NULL)\n",
    "#     THEN\n",
    "#         UPDATE memberDues\n",
    "#         SET amount_paid = amount_paid + NEW.last_amount_paid\n",
    "#         WHERE memberDues.dues_id = OLD.dues_id;\n",
    "\n",
    "#         UPDATE dues_paymentPlan\n",
    "#         SET last_payment_date = current_date\n",
    "#         WHERE dues_paymentPlan.dues_id = OLD.dues_id;\n",
    "    \n",
    "#     END IF;\n",
    "    \n",
    "    \n",
    "#     /* Case when a payment is made and last_payment_date is supplied */\n",
    "#     IF NEW.last_amount_paid IS NOT NULL AND NEW.last_payment_date IS NOT NULL\n",
    "#     THEN\n",
    "#         UPDATE memberDues\n",
    "#         SET amount_paid = amount_paid + NEW.last_amount_paid\n",
    "#         WHERE memberDues.dues_id = OLD.dues_id;\n",
    "        \n",
    "#     END IF;\n",
    "    \n",
    "#     RETURN NEW;\n",
    "# END;\n",
    "# $$\n",
    "# LANGUAGE plpgsql;"
   ]
  },
  {
   "cell_type": "code",
   "execution_count": 240,
   "metadata": {},
   "outputs": [
    {
     "name": "stdout",
     "output_type": "stream",
     "text": [
      "Done.\n"
     ]
    },
    {
     "data": {
      "text/plain": [
       "[]"
      ]
     },
     "execution_count": 240,
     "metadata": {},
     "output_type": "execute_result"
    }
   ],
   "source": [
    "%%sql\n",
    "CREATE OR REPLACE FUNCTION payment_made()\n",
    " RETURNS trigger AS\n",
    "$$\n",
    "BEGIN\n",
    "    IF NEW.last_amount_paid IS NOT NULL\n",
    "    THEN\n",
    "        UPDATE memberDues\n",
    "        SET amount_paid = amount_paid + NEW.last_amount_paid\n",
    "        WHERE memberDues.dues_id = OLD.dues_id;\n",
    "    \n",
    "    END IF;\n",
    "    \n",
    "    IF OLD.last_payment_date = NEW.last_payment_date OR NEW.last_payment_date IS NULL\n",
    "    THEN\n",
    "        UPDATE dues_paymentPlan\n",
    "        SET last_payment_date = current_date\n",
    "        WHERE dues_paymentPlan.dues_id = OLD.dues_id;\n",
    "        \n",
    "    END IF;\n",
    "    \n",
    "    RETURN NEW;\n",
    "END;\n",
    "$$\n",
    "LANGUAGE plpgsql;"
   ]
  },
  {
   "cell_type": "code",
   "execution_count": 241,
   "metadata": {},
   "outputs": [
    {
     "name": "stdout",
     "output_type": "stream",
     "text": [
      "Done.\n"
     ]
    },
    {
     "data": {
      "text/plain": [
       "[]"
      ]
     },
     "execution_count": 241,
     "metadata": {},
     "output_type": "execute_result"
    }
   ],
   "source": [
    "%%sql\n",
    "CREATE TRIGGER dues_paymentPlan_payment\n",
    "  AFTER UPDATE OF last_amount_paid\n",
    "  ON dues_paymentPlan\n",
    "  FOR EACH ROW\n",
    "  EXECUTE PROCEDURE payment_made();"
   ]
  },
  {
   "cell_type": "markdown",
   "metadata": {},
   "source": [
    "### Testing"
   ]
  },
  {
   "cell_type": "code",
   "execution_count": 273,
   "metadata": {
    "scrolled": true
   },
   "outputs": [
    {
     "name": "stdout",
     "output_type": "stream",
     "text": [
      "1 rows affected.\n"
     ]
    },
    {
     "data": {
      "text/html": [
       "<table>\n",
       "    <tr>\n",
       "        <th>student_id</th>\n",
       "        <th>dues_id</th>\n",
       "        <th>amount_owed</th>\n",
       "        <th>amount_paid</th>\n",
       "        <th>payment_method</th>\n",
       "        <th>notes</th>\n",
       "    </tr>\n",
       "    <tr>\n",
       "        <td>98</td>\n",
       "        <td>3</td>\n",
       "        <td>125.0</td>\n",
       "        <td>68.99</td>\n",
       "        <td>None</td>\n",
       "        <td>None</td>\n",
       "    </tr>\n",
       "</table>"
      ],
      "text/plain": [
       "[(98, 3, 125.0, 68.99, None, None)]"
      ]
     },
     "execution_count": 273,
     "metadata": {},
     "output_type": "execute_result"
    }
   ],
   "source": [
    "%%sql\n",
    "SELECT * FROM memberDues WHERE dues_id = 3;"
   ]
  },
  {
   "cell_type": "code",
   "execution_count": 266,
   "metadata": {},
   "outputs": [
    {
     "name": "stdout",
     "output_type": "stream",
     "text": [
      "1 rows affected.\n"
     ]
    },
    {
     "data": {
      "text/html": [
       "<table>\n",
       "    <tr>\n",
       "        <th>dues_id</th>\n",
       "        <th>start_date</th>\n",
       "        <th>end_date</th>\n",
       "        <th>last_amount_paid</th>\n",
       "        <th>last_payment_date</th>\n",
       "        <th>next_amount_due</th>\n",
       "        <th>next_payment_date</th>\n",
       "    </tr>\n",
       "    <tr>\n",
       "        <td>3</td>\n",
       "        <td>2018-05-11</td>\n",
       "        <td>2018-06-04</td>\n",
       "        <td>None</td>\n",
       "        <td>None</td>\n",
       "        <td>1.83</td>\n",
       "        <td>2018-05-04</td>\n",
       "    </tr>\n",
       "</table>"
      ],
      "text/plain": [
       "[(3, datetime.date(2018, 5, 11), datetime.date(2018, 6, 4), None, None, 1.83, datetime.date(2018, 5, 4))]"
      ]
     },
     "execution_count": 266,
     "metadata": {},
     "output_type": "execute_result"
    }
   ],
   "source": [
    "%%sql\n",
    "SELECT * FROM dues_paymentPlan WHERE dues_id = 3;"
   ]
  },
  {
   "cell_type": "code",
   "execution_count": 270,
   "metadata": {},
   "outputs": [
    {
     "name": "stdout",
     "output_type": "stream",
     "text": [
      "1 rows affected.\n"
     ]
    },
    {
     "data": {
      "text/plain": [
       "[]"
      ]
     },
     "execution_count": 270,
     "metadata": {},
     "output_type": "execute_result"
    }
   ],
   "source": [
    "%%sql\n",
    "UPDATE dues_paymentPlan\n",
    "SET last_amount_paid = 2\n",
    "WHERE dues_id = 2;"
   ]
  },
  {
   "cell_type": "code",
   "execution_count": 272,
   "metadata": {},
   "outputs": [
    {
     "name": "stdout",
     "output_type": "stream",
     "text": [
      "1 rows affected.\n"
     ]
    },
    {
     "data": {
      "text/plain": [
       "[]"
      ]
     },
     "execution_count": 272,
     "metadata": {},
     "output_type": "execute_result"
    }
   ],
   "source": [
    "%%sql\n",
    "UPDATE dues_paymentPlan\n",
    "SET last_amount_paid = 4 , last_payment_date = current_date - 9\n",
    "WHERE dues_id = 2;"
   ]
  },
  {
   "cell_type": "code",
   "execution_count": 107,
   "metadata": {
    "collapsed": true
   },
   "outputs": [],
   "source": [
    "# %%sql\n",
    "# SELECT * FROM dues_paymentPlan;"
   ]
  },
  {
   "cell_type": "markdown",
   "metadata": {
    "collapsed": true
   },
   "source": [
    "## events table\n",
    "* Trigger: When point_type is updated event_attendance should be updated\n",
    "    * events.point_type = event_attendance.point_type\n",
    "    * or memberPoint_associative"
   ]
  },
  {
   "cell_type": "code",
   "execution_count": 101,
   "metadata": {},
   "outputs": [
    {
     "name": "stdout",
     "output_type": "stream",
     "text": [
      "Done.\n",
      "Done.\n"
     ]
    },
    {
     "data": {
      "text/plain": [
       "[]"
      ]
     },
     "execution_count": 101,
     "metadata": {},
     "output_type": "execute_result"
    }
   ],
   "source": [
    "%%sql\n",
    "DROP TRIGGER IF EXISTS event_point_type_update ON events;\n",
    "DROP FUNCTION IF EXISTS event_type_update();"
   ]
  },
  {
   "cell_type": "code",
   "execution_count": 102,
   "metadata": {},
   "outputs": [
    {
     "name": "stdout",
     "output_type": "stream",
     "text": [
      "Done.\n"
     ]
    },
    {
     "data": {
      "text/plain": [
       "[]"
      ]
     },
     "execution_count": 102,
     "metadata": {},
     "output_type": "execute_result"
    }
   ],
   "source": [
    "%%sql\n",
    "CREATE OR REPLACE FUNCTION event_type_update()\n",
    " RETURNS trigger AS\n",
    "$$\n",
    "BEGIN\n",
    "    UPDATE event_attendance\n",
    "    SET point_type = NEW.point_type\n",
    "    WHERE event_id = OLD.event_id;\n",
    "    \n",
    "    RETURN NEW;\n",
    "END;\n",
    "$$\n",
    "LANGUAGE plpgsql;"
   ]
  },
  {
   "cell_type": "code",
   "execution_count": 103,
   "metadata": {},
   "outputs": [
    {
     "name": "stdout",
     "output_type": "stream",
     "text": [
      "Done.\n"
     ]
    },
    {
     "data": {
      "text/plain": [
       "[]"
      ]
     },
     "execution_count": 103,
     "metadata": {},
     "output_type": "execute_result"
    }
   ],
   "source": [
    "%%sql\n",
    "CREATE TRIGGER event_point_type_update\n",
    "  AFTER UPDATE OF point_type\n",
    "  ON events\n",
    "  FOR EACH ROW\n",
    "  EXECUTE PROCEDURE event_type_update();"
   ]
  },
  {
   "cell_type": "markdown",
   "metadata": {},
   "source": [
    "### Testing"
   ]
  },
  {
   "cell_type": "code",
   "execution_count": 104,
   "metadata": {},
   "outputs": [
    {
     "name": "stdout",
     "output_type": "stream",
     "text": [
      "1 rows affected.\n"
     ]
    },
    {
     "data": {
      "text/plain": [
       "[]"
      ]
     },
     "execution_count": 104,
     "metadata": {},
     "output_type": "execute_result"
    }
   ],
   "source": [
    "%%sql\n",
    "UPDATE events\n",
    "SET point_type = 3\n",
    "WHERE event_id = 1;"
   ]
  },
  {
   "cell_type": "code",
   "execution_count": 105,
   "metadata": {},
   "outputs": [
    {
     "name": "stdout",
     "output_type": "stream",
     "text": [
      "20 rows affected.\n"
     ]
    },
    {
     "data": {
      "text/html": [
       "<table>\n",
       "    <tr>\n",
       "        <th>event_id</th>\n",
       "        <th>position_id</th>\n",
       "        <th>point_type</th>\n",
       "        <th>num_of_points</th>\n",
       "        <th>title</th>\n",
       "        <th>event_date</th>\n",
       "        <th>semester</th>\n",
       "    </tr>\n",
       "    <tr>\n",
       "        <td>2</td>\n",
       "        <td>15</td>\n",
       "        <td>1</td>\n",
       "        <td>1</td>\n",
       "        <td>Cultural Potluck</td>\n",
       "        <td>2018-03-29</td>\n",
       "        <td>Spring</td>\n",
       "    </tr>\n",
       "    <tr>\n",
       "        <td>3</td>\n",
       "        <td>15</td>\n",
       "        <td>1</td>\n",
       "        <td>1</td>\n",
       "        <td>Vagina Monologues</td>\n",
       "        <td>2018-03-30</td>\n",
       "        <td>Spring</td>\n",
       "    </tr>\n",
       "    <tr>\n",
       "        <td>4</td>\n",
       "        <td>15</td>\n",
       "        <td>1</td>\n",
       "        <td>1</td>\n",
       "        <td>Documentary Night</td>\n",
       "        <td>2018-03-31</td>\n",
       "        <td>Spring</td>\n",
       "    </tr>\n",
       "    <tr>\n",
       "        <td>5</td>\n",
       "        <td>15</td>\n",
       "        <td>1</td>\n",
       "        <td>1</td>\n",
       "        <td>Cultural Center Tour</td>\n",
       "        <td>2018-04-01</td>\n",
       "        <td>Spring</td>\n",
       "    </tr>\n",
       "    <tr>\n",
       "        <td>6</td>\n",
       "        <td>16</td>\n",
       "        <td>2</td>\n",
       "        <td>1</td>\n",
       "        <td>Video Game Night</td>\n",
       "        <td>2018-03-31</td>\n",
       "        <td>Spring</td>\n",
       "    </tr>\n",
       "    <tr>\n",
       "        <td>7</td>\n",
       "        <td>16</td>\n",
       "        <td>2</td>\n",
       "        <td>1</td>\n",
       "        <td>Board Game Night</td>\n",
       "        <td>2018-04-01</td>\n",
       "        <td>Spring</td>\n",
       "    </tr>\n",
       "    <tr>\n",
       "        <td>8</td>\n",
       "        <td>16</td>\n",
       "        <td>2</td>\n",
       "        <td>1</td>\n",
       "        <td>Games on the Quad</td>\n",
       "        <td>2018-04-02</td>\n",
       "        <td>Spring</td>\n",
       "    </tr>\n",
       "    <tr>\n",
       "        <td>9</td>\n",
       "        <td>16</td>\n",
       "        <td>2</td>\n",
       "        <td>1</td>\n",
       "        <td>Capture the Flag</td>\n",
       "        <td>2018-04-03</td>\n",
       "        <td>Spring</td>\n",
       "    </tr>\n",
       "    <tr>\n",
       "        <td>10</td>\n",
       "        <td>16</td>\n",
       "        <td>2</td>\n",
       "        <td>1</td>\n",
       "        <td>Movie Night</td>\n",
       "        <td>2018-04-04</td>\n",
       "        <td>Spring</td>\n",
       "    </tr>\n",
       "    <tr>\n",
       "        <td>11</td>\n",
       "        <td>16</td>\n",
       "        <td>2</td>\n",
       "        <td>1</td>\n",
       "        <td>Morning Cartoons</td>\n",
       "        <td>2018-04-05</td>\n",
       "        <td>Spring</td>\n",
       "    </tr>\n",
       "    <tr>\n",
       "        <td>12</td>\n",
       "        <td>14</td>\n",
       "        <td>3</td>\n",
       "        <td>1</td>\n",
       "        <td>Trash Cleanup</td>\n",
       "        <td>2018-04-06</td>\n",
       "        <td>Spring</td>\n",
       "    </tr>\n",
       "    <tr>\n",
       "        <td>13</td>\n",
       "        <td>14</td>\n",
       "        <td>3</td>\n",
       "        <td>1</td>\n",
       "        <td>Food Bank</td>\n",
       "        <td>2018-04-07</td>\n",
       "        <td>Spring</td>\n",
       "    </tr>\n",
       "    <tr>\n",
       "        <td>14</td>\n",
       "        <td>14</td>\n",
       "        <td>3</td>\n",
       "        <td>1</td>\n",
       "        <td>Clean up COMO</td>\n",
       "        <td>2018-04-17</td>\n",
       "        <td>Spring</td>\n",
       "    </tr>\n",
       "    <tr>\n",
       "        <td>15</td>\n",
       "        <td>11</td>\n",
       "        <td>4</td>\n",
       "        <td>1</td>\n",
       "        <td>Football Cleanup</td>\n",
       "        <td>2018-04-18</td>\n",
       "        <td>Spring</td>\n",
       "    </tr>\n",
       "    <tr>\n",
       "        <td>16</td>\n",
       "        <td>11</td>\n",
       "        <td>4</td>\n",
       "        <td>1</td>\n",
       "        <td>Shakespeares Profit Share</td>\n",
       "        <td>2018-04-19</td>\n",
       "        <td>Spring</td>\n",
       "    </tr>\n",
       "    <tr>\n",
       "        <td>17</td>\n",
       "        <td>11</td>\n",
       "        <td>4</td>\n",
       "        <td>1</td>\n",
       "        <td>Smoothie King Profit Share</td>\n",
       "        <td>2018-04-20</td>\n",
       "        <td>Spring</td>\n",
       "    </tr>\n",
       "    <tr>\n",
       "        <td>18</td>\n",
       "        <td>22</td>\n",
       "        <td>5</td>\n",
       "        <td>1</td>\n",
       "        <td>Its On Us</td>\n",
       "        <td>2018-04-21</td>\n",
       "        <td>Spring</td>\n",
       "    </tr>\n",
       "    <tr>\n",
       "        <td>19</td>\n",
       "        <td>22</td>\n",
       "        <td>5</td>\n",
       "        <td>1</td>\n",
       "        <td>Special Speaker</td>\n",
       "        <td>2018-04-22</td>\n",
       "        <td>Spring</td>\n",
       "    </tr>\n",
       "    <tr>\n",
       "        <td>20</td>\n",
       "        <td>22</td>\n",
       "        <td>5</td>\n",
       "        <td>1</td>\n",
       "        <td>True/False</td>\n",
       "        <td>2018-04-23</td>\n",
       "        <td>Spring</td>\n",
       "    </tr>\n",
       "    <tr>\n",
       "        <td>1</td>\n",
       "        <td>15</td>\n",
       "        <td>3</td>\n",
       "        <td>1</td>\n",
       "        <td>Ted Talks</td>\n",
       "        <td>2018-03-28</td>\n",
       "        <td>Spring</td>\n",
       "    </tr>\n",
       "</table>"
      ],
      "text/plain": [
       "[(2, 15, 1, 1, 'Cultural Potluck', datetime.date(2018, 3, 29), 'Spring'),\n",
       " (3, 15, 1, 1, 'Vagina Monologues', datetime.date(2018, 3, 30), 'Spring'),\n",
       " (4, 15, 1, 1, 'Documentary Night', datetime.date(2018, 3, 31), 'Spring'),\n",
       " (5, 15, 1, 1, 'Cultural Center Tour', datetime.date(2018, 4, 1), 'Spring'),\n",
       " (6, 16, 2, 1, 'Video Game Night', datetime.date(2018, 3, 31), 'Spring'),\n",
       " (7, 16, 2, 1, 'Board Game Night', datetime.date(2018, 4, 1), 'Spring'),\n",
       " (8, 16, 2, 1, 'Games on the Quad', datetime.date(2018, 4, 2), 'Spring'),\n",
       " (9, 16, 2, 1, 'Capture the Flag', datetime.date(2018, 4, 3), 'Spring'),\n",
       " (10, 16, 2, 1, 'Movie Night', datetime.date(2018, 4, 4), 'Spring'),\n",
       " (11, 16, 2, 1, 'Morning Cartoons', datetime.date(2018, 4, 5), 'Spring'),\n",
       " (12, 14, 3, 1, 'Trash Cleanup', datetime.date(2018, 4, 6), 'Spring'),\n",
       " (13, 14, 3, 1, 'Food Bank', datetime.date(2018, 4, 7), 'Spring'),\n",
       " (14, 14, 3, 1, 'Clean up COMO', datetime.date(2018, 4, 17), 'Spring'),\n",
       " (15, 11, 4, 1, 'Football Cleanup', datetime.date(2018, 4, 18), 'Spring'),\n",
       " (16, 11, 4, 1, 'Shakespeares Profit Share', datetime.date(2018, 4, 19), 'Spring'),\n",
       " (17, 11, 4, 1, 'Smoothie King Profit Share', datetime.date(2018, 4, 20), 'Spring'),\n",
       " (18, 22, 5, 1, 'Its On Us', datetime.date(2018, 4, 21), 'Spring'),\n",
       " (19, 22, 5, 1, 'Special Speaker', datetime.date(2018, 4, 22), 'Spring'),\n",
       " (20, 22, 5, 1, 'True/False', datetime.date(2018, 4, 23), 'Spring'),\n",
       " (1, 15, 3, 1, 'Ted Talks', datetime.date(2018, 3, 28), 'Spring')]"
      ]
     },
     "execution_count": 105,
     "metadata": {},
     "output_type": "execute_result"
    }
   ],
   "source": [
    "%%sql\n",
    "SELECT * FROM events;"
   ]
  },
  {
   "cell_type": "code",
   "execution_count": 106,
   "metadata": {},
   "outputs": [
    {
     "name": "stdout",
     "output_type": "stream",
     "text": [
      "75 rows affected.\n"
     ]
    },
    {
     "data": {
      "text/html": [
       "<table>\n",
       "    <tr>\n",
       "        <th>event_id</th>\n",
       "        <th>student_id</th>\n",
       "        <th>point_type</th>\n",
       "    </tr>\n",
       "    <tr>\n",
       "        <td>2</td>\n",
       "        <td>2</td>\n",
       "        <td>1</td>\n",
       "    </tr>\n",
       "    <tr>\n",
       "        <td>3</td>\n",
       "        <td>3</td>\n",
       "        <td>1</td>\n",
       "    </tr>\n",
       "    <tr>\n",
       "        <td>4</td>\n",
       "        <td>4</td>\n",
       "        <td>1</td>\n",
       "    </tr>\n",
       "    <tr>\n",
       "        <td>5</td>\n",
       "        <td>5</td>\n",
       "        <td>1</td>\n",
       "    </tr>\n",
       "    <tr>\n",
       "        <td>2</td>\n",
       "        <td>1</td>\n",
       "        <td>1</td>\n",
       "    </tr>\n",
       "    <tr>\n",
       "        <td>3</td>\n",
       "        <td>7</td>\n",
       "        <td>1</td>\n",
       "    </tr>\n",
       "    <tr>\n",
       "        <td>4</td>\n",
       "        <td>90</td>\n",
       "        <td>1</td>\n",
       "    </tr>\n",
       "    <tr>\n",
       "        <td>5</td>\n",
       "        <td>91</td>\n",
       "        <td>1</td>\n",
       "    </tr>\n",
       "    <tr>\n",
       "        <td>2</td>\n",
       "        <td>56</td>\n",
       "        <td>1</td>\n",
       "    </tr>\n",
       "    <tr>\n",
       "        <td>3</td>\n",
       "        <td>57</td>\n",
       "        <td>1</td>\n",
       "    </tr>\n",
       "    <tr>\n",
       "        <td>4</td>\n",
       "        <td>23</td>\n",
       "        <td>1</td>\n",
       "    </tr>\n",
       "    <tr>\n",
       "        <td>5</td>\n",
       "        <td>24</td>\n",
       "        <td>1</td>\n",
       "    </tr>\n",
       "    <tr>\n",
       "        <td>6</td>\n",
       "        <td>1</td>\n",
       "        <td>2</td>\n",
       "    </tr>\n",
       "    <tr>\n",
       "        <td>7</td>\n",
       "        <td>45</td>\n",
       "        <td>2</td>\n",
       "    </tr>\n",
       "    <tr>\n",
       "        <td>8</td>\n",
       "        <td>46</td>\n",
       "        <td>2</td>\n",
       "    </tr>\n",
       "    <tr>\n",
       "        <td>9</td>\n",
       "        <td>47</td>\n",
       "        <td>2</td>\n",
       "    </tr>\n",
       "    <tr>\n",
       "        <td>10</td>\n",
       "        <td>82</td>\n",
       "        <td>2</td>\n",
       "    </tr>\n",
       "    <tr>\n",
       "        <td>11</td>\n",
       "        <td>81</td>\n",
       "        <td>2</td>\n",
       "    </tr>\n",
       "    <tr>\n",
       "        <td>6</td>\n",
       "        <td>80</td>\n",
       "        <td>2</td>\n",
       "    </tr>\n",
       "    <tr>\n",
       "        <td>7</td>\n",
       "        <td>90</td>\n",
       "        <td>2</td>\n",
       "    </tr>\n",
       "    <tr>\n",
       "        <td>8</td>\n",
       "        <td>99</td>\n",
       "        <td>2</td>\n",
       "    </tr>\n",
       "    <tr>\n",
       "        <td>9</td>\n",
       "        <td>100</td>\n",
       "        <td>2</td>\n",
       "    </tr>\n",
       "    <tr>\n",
       "        <td>10</td>\n",
       "        <td>12</td>\n",
       "        <td>2</td>\n",
       "    </tr>\n",
       "    <tr>\n",
       "        <td>11</td>\n",
       "        <td>1</td>\n",
       "        <td>2</td>\n",
       "    </tr>\n",
       "    <tr>\n",
       "        <td>6</td>\n",
       "        <td>22</td>\n",
       "        <td>2</td>\n",
       "    </tr>\n",
       "    <tr>\n",
       "        <td>7</td>\n",
       "        <td>23</td>\n",
       "        <td>2</td>\n",
       "    </tr>\n",
       "    <tr>\n",
       "        <td>8</td>\n",
       "        <td>24</td>\n",
       "        <td>2</td>\n",
       "    </tr>\n",
       "    <tr>\n",
       "        <td>12</td>\n",
       "        <td>1</td>\n",
       "        <td>3</td>\n",
       "    </tr>\n",
       "    <tr>\n",
       "        <td>13</td>\n",
       "        <td>37</td>\n",
       "        <td>3</td>\n",
       "    </tr>\n",
       "    <tr>\n",
       "        <td>14</td>\n",
       "        <td>38</td>\n",
       "        <td>3</td>\n",
       "    </tr>\n",
       "    <tr>\n",
       "        <td>12</td>\n",
       "        <td>39</td>\n",
       "        <td>3</td>\n",
       "    </tr>\n",
       "    <tr>\n",
       "        <td>13</td>\n",
       "        <td>40</td>\n",
       "        <td>3</td>\n",
       "    </tr>\n",
       "    <tr>\n",
       "        <td>14</td>\n",
       "        <td>41</td>\n",
       "        <td>3</td>\n",
       "    </tr>\n",
       "    <tr>\n",
       "        <td>12</td>\n",
       "        <td>42</td>\n",
       "        <td>3</td>\n",
       "    </tr>\n",
       "    <tr>\n",
       "        <td>13</td>\n",
       "        <td>43</td>\n",
       "        <td>3</td>\n",
       "    </tr>\n",
       "    <tr>\n",
       "        <td>14</td>\n",
       "        <td>44</td>\n",
       "        <td>3</td>\n",
       "    </tr>\n",
       "    <tr>\n",
       "        <td>12</td>\n",
       "        <td>45</td>\n",
       "        <td>3</td>\n",
       "    </tr>\n",
       "    <tr>\n",
       "        <td>13</td>\n",
       "        <td>46</td>\n",
       "        <td>3</td>\n",
       "    </tr>\n",
       "    <tr>\n",
       "        <td>14</td>\n",
       "        <td>1</td>\n",
       "        <td>3</td>\n",
       "    </tr>\n",
       "    <tr>\n",
       "        <td>12</td>\n",
       "        <td>47</td>\n",
       "        <td>3</td>\n",
       "    </tr>\n",
       "    <tr>\n",
       "        <td>13</td>\n",
       "        <td>48</td>\n",
       "        <td>3</td>\n",
       "    </tr>\n",
       "    <tr>\n",
       "        <td>14</td>\n",
       "        <td>60</td>\n",
       "        <td>3</td>\n",
       "    </tr>\n",
       "    <tr>\n",
       "        <td>15</td>\n",
       "        <td>1</td>\n",
       "        <td>4</td>\n",
       "    </tr>\n",
       "    <tr>\n",
       "        <td>16</td>\n",
       "        <td>53</td>\n",
       "        <td>4</td>\n",
       "    </tr>\n",
       "    <tr>\n",
       "        <td>17</td>\n",
       "        <td>54</td>\n",
       "        <td>4</td>\n",
       "    </tr>\n",
       "    <tr>\n",
       "        <td>15</td>\n",
       "        <td>56</td>\n",
       "        <td>4</td>\n",
       "    </tr>\n",
       "    <tr>\n",
       "        <td>16</td>\n",
       "        <td>77</td>\n",
       "        <td>4</td>\n",
       "    </tr>\n",
       "    <tr>\n",
       "        <td>17</td>\n",
       "        <td>76</td>\n",
       "        <td>4</td>\n",
       "    </tr>\n",
       "    <tr>\n",
       "        <td>15</td>\n",
       "        <td>75</td>\n",
       "        <td>4</td>\n",
       "    </tr>\n",
       "    <tr>\n",
       "        <td>16</td>\n",
       "        <td>74</td>\n",
       "        <td>4</td>\n",
       "    </tr>\n",
       "    <tr>\n",
       "        <td>17</td>\n",
       "        <td>55</td>\n",
       "        <td>4</td>\n",
       "    </tr>\n",
       "    <tr>\n",
       "        <td>15</td>\n",
       "        <td>73</td>\n",
       "        <td>4</td>\n",
       "    </tr>\n",
       "    <tr>\n",
       "        <td>16</td>\n",
       "        <td>72</td>\n",
       "        <td>4</td>\n",
       "    </tr>\n",
       "    <tr>\n",
       "        <td>17</td>\n",
       "        <td>71</td>\n",
       "        <td>4</td>\n",
       "    </tr>\n",
       "    <tr>\n",
       "        <td>15</td>\n",
       "        <td>88</td>\n",
       "        <td>4</td>\n",
       "    </tr>\n",
       "    <tr>\n",
       "        <td>16</td>\n",
       "        <td>87</td>\n",
       "        <td>4</td>\n",
       "    </tr>\n",
       "    <tr>\n",
       "        <td>17</td>\n",
       "        <td>86</td>\n",
       "        <td>4</td>\n",
       "    </tr>\n",
       "    <tr>\n",
       "        <td>18</td>\n",
       "        <td>1</td>\n",
       "        <td>5</td>\n",
       "    </tr>\n",
       "    <tr>\n",
       "        <td>19</td>\n",
       "        <td>98</td>\n",
       "        <td>5</td>\n",
       "    </tr>\n",
       "    <tr>\n",
       "        <td>20</td>\n",
       "        <td>1</td>\n",
       "        <td>5</td>\n",
       "    </tr>\n",
       "    <tr>\n",
       "        <td>18</td>\n",
       "        <td>97</td>\n",
       "        <td>5</td>\n",
       "    </tr>\n",
       "    <tr>\n",
       "        <td>19</td>\n",
       "        <td>96</td>\n",
       "        <td>5</td>\n",
       "    </tr>\n",
       "    <tr>\n",
       "        <td>20</td>\n",
       "        <td>95</td>\n",
       "        <td>5</td>\n",
       "    </tr>\n",
       "    <tr>\n",
       "        <td>18</td>\n",
       "        <td>94</td>\n",
       "        <td>5</td>\n",
       "    </tr>\n",
       "    <tr>\n",
       "        <td>19</td>\n",
       "        <td>93</td>\n",
       "        <td>5</td>\n",
       "    </tr>\n",
       "    <tr>\n",
       "        <td>20</td>\n",
       "        <td>92</td>\n",
       "        <td>5</td>\n",
       "    </tr>\n",
       "    <tr>\n",
       "        <td>18</td>\n",
       "        <td>91</td>\n",
       "        <td>5</td>\n",
       "    </tr>\n",
       "    <tr>\n",
       "        <td>19</td>\n",
       "        <td>12</td>\n",
       "        <td>5</td>\n",
       "    </tr>\n",
       "    <tr>\n",
       "        <td>20</td>\n",
       "        <td>13</td>\n",
       "        <td>5</td>\n",
       "    </tr>\n",
       "    <tr>\n",
       "        <td>18</td>\n",
       "        <td>14</td>\n",
       "        <td>5</td>\n",
       "    </tr>\n",
       "    <tr>\n",
       "        <td>19</td>\n",
       "        <td>15</td>\n",
       "        <td>5</td>\n",
       "    </tr>\n",
       "    <tr>\n",
       "        <td>20</td>\n",
       "        <td>16</td>\n",
       "        <td>5</td>\n",
       "    </tr>\n",
       "    <tr>\n",
       "        <td>1</td>\n",
       "        <td>1</td>\n",
       "        <td>3</td>\n",
       "    </tr>\n",
       "    <tr>\n",
       "        <td>1</td>\n",
       "        <td>6</td>\n",
       "        <td>3</td>\n",
       "    </tr>\n",
       "    <tr>\n",
       "        <td>1</td>\n",
       "        <td>54</td>\n",
       "        <td>3</td>\n",
       "    </tr>\n",
       "</table>"
      ],
      "text/plain": [
       "[(2, 2, 1),\n",
       " (3, 3, 1),\n",
       " (4, 4, 1),\n",
       " (5, 5, 1),\n",
       " (2, 1, 1),\n",
       " (3, 7, 1),\n",
       " (4, 90, 1),\n",
       " (5, 91, 1),\n",
       " (2, 56, 1),\n",
       " (3, 57, 1),\n",
       " (4, 23, 1),\n",
       " (5, 24, 1),\n",
       " (6, 1, 2),\n",
       " (7, 45, 2),\n",
       " (8, 46, 2),\n",
       " (9, 47, 2),\n",
       " (10, 82, 2),\n",
       " (11, 81, 2),\n",
       " (6, 80, 2),\n",
       " (7, 90, 2),\n",
       " (8, 99, 2),\n",
       " (9, 100, 2),\n",
       " (10, 12, 2),\n",
       " (11, 1, 2),\n",
       " (6, 22, 2),\n",
       " (7, 23, 2),\n",
       " (8, 24, 2),\n",
       " (12, 1, 3),\n",
       " (13, 37, 3),\n",
       " (14, 38, 3),\n",
       " (12, 39, 3),\n",
       " (13, 40, 3),\n",
       " (14, 41, 3),\n",
       " (12, 42, 3),\n",
       " (13, 43, 3),\n",
       " (14, 44, 3),\n",
       " (12, 45, 3),\n",
       " (13, 46, 3),\n",
       " (14, 1, 3),\n",
       " (12, 47, 3),\n",
       " (13, 48, 3),\n",
       " (14, 60, 3),\n",
       " (15, 1, 4),\n",
       " (16, 53, 4),\n",
       " (17, 54, 4),\n",
       " (15, 56, 4),\n",
       " (16, 77, 4),\n",
       " (17, 76, 4),\n",
       " (15, 75, 4),\n",
       " (16, 74, 4),\n",
       " (17, 55, 4),\n",
       " (15, 73, 4),\n",
       " (16, 72, 4),\n",
       " (17, 71, 4),\n",
       " (15, 88, 4),\n",
       " (16, 87, 4),\n",
       " (17, 86, 4),\n",
       " (18, 1, 5),\n",
       " (19, 98, 5),\n",
       " (20, 1, 5),\n",
       " (18, 97, 5),\n",
       " (19, 96, 5),\n",
       " (20, 95, 5),\n",
       " (18, 94, 5),\n",
       " (19, 93, 5),\n",
       " (20, 92, 5),\n",
       " (18, 91, 5),\n",
       " (19, 12, 5),\n",
       " (20, 13, 5),\n",
       " (18, 14, 5),\n",
       " (19, 15, 5),\n",
       " (20, 16, 5),\n",
       " (1, 1, 3),\n",
       " (1, 6, 3),\n",
       " (1, 54, 3)]"
      ]
     },
     "execution_count": 106,
     "metadata": {},
     "output_type": "execute_result"
    }
   ],
   "source": [
    "%%sql\n",
    "SELECT * FROM event_attendance;"
   ]
  },
  {
   "cell_type": "markdown",
   "metadata": {
    "collapsed": true
   },
   "source": [
    "## chairPosition Update on student ID\n",
    "* create new archive chairPosition Table\n",
    "* when student_id is updated create new entry in archive table and then update student_id"
   ]
  },
  {
   "cell_type": "code",
   "execution_count": 254,
   "metadata": {},
   "outputs": [
    {
     "name": "stdout",
     "output_type": "stream",
     "text": [
      "Done.\n",
      "Done.\n"
     ]
    },
    {
     "data": {
      "text/plain": [
       "[]"
      ]
     },
     "execution_count": 254,
     "metadata": {},
     "output_type": "execute_result"
    }
   ],
   "source": [
    "%%sql\n",
    "DROP TRIGGER IF EXISTS archive_chairPosition ON chairPosition;\n",
    "DROP FUNCTION IF EXISTS position_archive();"
   ]
  },
  {
   "cell_type": "code",
   "execution_count": 255,
   "metadata": {},
   "outputs": [
    {
     "name": "stdout",
     "output_type": "stream",
     "text": [
      "Done.\n"
     ]
    },
    {
     "data": {
      "text/plain": [
       "[]"
      ]
     },
     "execution_count": 255,
     "metadata": {},
     "output_type": "execute_result"
    }
   ],
   "source": [
    "%%sql\n",
    "CREATE OR REPLACE FUNCTION position_archive()\n",
    " RETURNS trigger AS\n",
    "$$\n",
    "BEGIN\n",
    "    INSERT INTO archive_chairPosition(position_id,student_id,year) VALUES\n",
    "        (\n",
    "            OLD.position_id,\n",
    "            OLD.student_id,\n",
    "            date_part('year',current_date)\n",
    "        );\n",
    "    \n",
    "    RETURN NEW;\n",
    "END;\n",
    "$$\n",
    "LANGUAGE plpgsql;"
   ]
  },
  {
   "cell_type": "code",
   "execution_count": 256,
   "metadata": {},
   "outputs": [
    {
     "name": "stdout",
     "output_type": "stream",
     "text": [
      "Done.\n"
     ]
    },
    {
     "data": {
      "text/plain": [
       "[]"
      ]
     },
     "execution_count": 256,
     "metadata": {},
     "output_type": "execute_result"
    }
   ],
   "source": [
    "%%sql\n",
    "CREATE TRIGGER archive_chairPosition\n",
    "  AFTER UPDATE OF student_id\n",
    "  ON chairPosition\n",
    "  FOR EACH ROW\n",
    "  EXECUTE PROCEDURE position_archive();"
   ]
  },
  {
   "cell_type": "markdown",
   "metadata": {},
   "source": [
    "### Testing"
   ]
  },
  {
   "cell_type": "code",
   "execution_count": 35,
   "metadata": {},
   "outputs": [
    {
     "name": "stdout",
     "output_type": "stream",
     "text": [
      "2 rows affected.\n"
     ]
    },
    {
     "data": {
      "text/html": [
       "<table>\n",
       "    <tr>\n",
       "        <th>archive_id</th>\n",
       "        <th>position_id</th>\n",
       "        <th>student_id</th>\n",
       "        <th>year</th>\n",
       "    </tr>\n",
       "    <tr>\n",
       "        <td>623</td>\n",
       "        <td>22</td>\n",
       "        <td>22</td>\n",
       "        <td>2018</td>\n",
       "    </tr>\n",
       "    <tr>\n",
       "        <td>624</td>\n",
       "        <td>1</td>\n",
       "        <td>1</td>\n",
       "        <td>2018</td>\n",
       "    </tr>\n",
       "</table>"
      ],
      "text/plain": [
       "[(623, 22, 22, 2018), (624, 1, 1, 2018)]"
      ]
     },
     "execution_count": 35,
     "metadata": {},
     "output_type": "execute_result"
    }
   ],
   "source": [
    "%sql SELECT * FROM archive_chairPosition;"
   ]
  },
  {
   "cell_type": "code",
   "execution_count": 36,
   "metadata": {},
   "outputs": [
    {
     "name": "stdout",
     "output_type": "stream",
     "text": [
      "22 rows affected.\n"
     ]
    },
    {
     "data": {
      "text/html": [
       "<table>\n",
       "    <tr>\n",
       "        <th>position_id</th>\n",
       "        <th>student_id</th>\n",
       "        <th>position_name</th>\n",
       "        <th>position_type</th>\n",
       "        <th>description</th>\n",
       "    </tr>\n",
       "    <tr>\n",
       "        <td>2</td>\n",
       "        <td>2</td>\n",
       "        <td>Vice President</td>\n",
       "        <td>EBOARD</td>\n",
       "        <td>None</td>\n",
       "    </tr>\n",
       "    <tr>\n",
       "        <td>3</td>\n",
       "        <td>3</td>\n",
       "        <td>Recording Secretary</td>\n",
       "        <td>EBOARD</td>\n",
       "        <td>None</td>\n",
       "    </tr>\n",
       "    <tr>\n",
       "        <td>4</td>\n",
       "        <td>4</td>\n",
       "        <td>Corresponding Secretary</td>\n",
       "        <td>EBOARD</td>\n",
       "        <td>None</td>\n",
       "    </tr>\n",
       "    <tr>\n",
       "        <td>5</td>\n",
       "        <td>5</td>\n",
       "        <td>Treasurer</td>\n",
       "        <td>EBOARD</td>\n",
       "        <td>None</td>\n",
       "    </tr>\n",
       "    <tr>\n",
       "        <td>6</td>\n",
       "        <td>6</td>\n",
       "        <td>Recruitment Chair</td>\n",
       "        <td>EBOARD</td>\n",
       "        <td>None</td>\n",
       "    </tr>\n",
       "    <tr>\n",
       "        <td>7</td>\n",
       "        <td>7</td>\n",
       "        <td>Initiate Advisor</td>\n",
       "        <td>EBOARD</td>\n",
       "        <td>None</td>\n",
       "    </tr>\n",
       "    <tr>\n",
       "        <td>8</td>\n",
       "        <td>8</td>\n",
       "        <td>Historian</td>\n",
       "        <td>EBOARD</td>\n",
       "        <td>None</td>\n",
       "    </tr>\n",
       "    <tr>\n",
       "        <td>9</td>\n",
       "        <td>9</td>\n",
       "        <td>Parlimentarian</td>\n",
       "        <td>EBOARD</td>\n",
       "        <td>None</td>\n",
       "    </tr>\n",
       "    <tr>\n",
       "        <td>10</td>\n",
       "        <td>10</td>\n",
       "        <td>Bro At Large</td>\n",
       "        <td>EBOARD</td>\n",
       "        <td>None</td>\n",
       "    </tr>\n",
       "    <tr>\n",
       "        <td>11</td>\n",
       "        <td>11</td>\n",
       "        <td>Fundraising Chair</td>\n",
       "        <td>EBEC</td>\n",
       "        <td>None</td>\n",
       "    </tr>\n",
       "    <tr>\n",
       "        <td>12</td>\n",
       "        <td>12</td>\n",
       "        <td>Alumni Chair</td>\n",
       "        <td>EBEC</td>\n",
       "        <td>None</td>\n",
       "    </tr>\n",
       "    <tr>\n",
       "        <td>13</td>\n",
       "        <td>13</td>\n",
       "        <td>Philanthropy Chair</td>\n",
       "        <td>EBEC</td>\n",
       "        <td>None</td>\n",
       "    </tr>\n",
       "    <tr>\n",
       "        <td>14</td>\n",
       "        <td>14</td>\n",
       "        <td>Service Chair</td>\n",
       "        <td>EBEC</td>\n",
       "        <td>None</td>\n",
       "    </tr>\n",
       "    <tr>\n",
       "        <td>15</td>\n",
       "        <td>15</td>\n",
       "        <td>DAS Chair</td>\n",
       "        <td>EBEC</td>\n",
       "        <td>None</td>\n",
       "    </tr>\n",
       "    <tr>\n",
       "        <td>16</td>\n",
       "        <td>16</td>\n",
       "        <td>Fellowship Chair</td>\n",
       "        <td>EBEC</td>\n",
       "        <td>None</td>\n",
       "    </tr>\n",
       "    <tr>\n",
       "        <td>17</td>\n",
       "        <td>17</td>\n",
       "        <td>Risk Management Chair</td>\n",
       "        <td>EBEC</td>\n",
       "        <td>None</td>\n",
       "    </tr>\n",
       "    <tr>\n",
       "        <td>18</td>\n",
       "        <td>18</td>\n",
       "        <td>Rec Sports Chair (1)</td>\n",
       "        <td>EBEC</td>\n",
       "        <td>None</td>\n",
       "    </tr>\n",
       "    <tr>\n",
       "        <td>19</td>\n",
       "        <td>19</td>\n",
       "        <td>Rec Sports Chair (2)</td>\n",
       "        <td>EBEC</td>\n",
       "        <td>None</td>\n",
       "    </tr>\n",
       "    <tr>\n",
       "        <td>20</td>\n",
       "        <td>20</td>\n",
       "        <td>PR Chair (1)</td>\n",
       "        <td>EBEC</td>\n",
       "        <td>None</td>\n",
       "    </tr>\n",
       "    <tr>\n",
       "        <td>21</td>\n",
       "        <td>21</td>\n",
       "        <td>PR Chair (2)</td>\n",
       "        <td>EBEC</td>\n",
       "        <td>None</td>\n",
       "    </tr>\n",
       "    <tr>\n",
       "        <td>22</td>\n",
       "        <td>23</td>\n",
       "        <td>Campus Liason</td>\n",
       "        <td>EBEC</td>\n",
       "        <td>None</td>\n",
       "    </tr>\n",
       "    <tr>\n",
       "        <td>1</td>\n",
       "        <td>24</td>\n",
       "        <td>President</td>\n",
       "        <td>EBOARD</td>\n",
       "        <td>None</td>\n",
       "    </tr>\n",
       "</table>"
      ],
      "text/plain": [
       "[(2, 2, 'Vice President', 'EBOARD', None),\n",
       " (3, 3, 'Recording Secretary', 'EBOARD', None),\n",
       " (4, 4, 'Corresponding Secretary', 'EBOARD', None),\n",
       " (5, 5, 'Treasurer', 'EBOARD', None),\n",
       " (6, 6, 'Recruitment Chair', 'EBOARD', None),\n",
       " (7, 7, 'Initiate Advisor', 'EBOARD', None),\n",
       " (8, 8, 'Historian', 'EBOARD', None),\n",
       " (9, 9, 'Parlimentarian', 'EBOARD', None),\n",
       " (10, 10, 'Bro At Large', 'EBOARD', None),\n",
       " (11, 11, 'Fundraising Chair', 'EBEC', None),\n",
       " (12, 12, 'Alumni Chair', 'EBEC', None),\n",
       " (13, 13, 'Philanthropy Chair', 'EBEC', None),\n",
       " (14, 14, 'Service Chair', 'EBEC', None),\n",
       " (15, 15, 'DAS Chair', 'EBEC', None),\n",
       " (16, 16, 'Fellowship Chair', 'EBEC', None),\n",
       " (17, 17, 'Risk Management Chair', 'EBEC', None),\n",
       " (18, 18, 'Rec Sports Chair (1)', 'EBEC', None),\n",
       " (19, 19, 'Rec Sports Chair (2)', 'EBEC', None),\n",
       " (20, 20, 'PR Chair (1)', 'EBEC', None),\n",
       " (21, 21, 'PR Chair (2)', 'EBEC', None),\n",
       " (22, 23, 'Campus Liason', 'EBEC', None),\n",
       " (1, 24, 'President', 'EBOARD', None)]"
      ]
     },
     "execution_count": 36,
     "metadata": {},
     "output_type": "execute_result"
    }
   ],
   "source": [
    "%sql SELECT * FROM chairPosition;"
   ]
  },
  {
   "cell_type": "code",
   "execution_count": 33,
   "metadata": {},
   "outputs": [
    {
     "name": "stdout",
     "output_type": "stream",
     "text": [
      "1 rows affected.\n"
     ]
    },
    {
     "data": {
      "text/plain": [
       "[]"
      ]
     },
     "execution_count": 33,
     "metadata": {},
     "output_type": "execute_result"
    }
   ],
   "source": [
    "%%sql \n",
    "UPDATE chairPosition SET student_id = 24 WHERE position_id = 1;"
   ]
  },
  {
   "cell_type": "markdown",
   "metadata": {},
   "source": [
    "## Views"
   ]
  },
  {
   "cell_type": "code",
   "execution_count": null,
   "metadata": {
    "collapsed": true
   },
   "outputs": [],
   "source": []
  },
  {
   "cell_type": "markdown",
   "metadata": {},
   "source": [
    "# INDEXES"
   ]
  },
  {
   "cell_type": "code",
   "execution_count": null,
   "metadata": {
    "collapsed": true
   },
   "outputs": [],
   "source": [
    "member (student_id, first_name, last_name)"
   ]
  },
  {
   "cell_type": "code",
   "execution_count": null,
   "metadata": {
    "collapsed": true
   },
   "outputs": [],
   "source": [
    "memberDues (amount_owed, amount_paid)"
   ]
  },
  {
   "cell_type": "code",
   "execution_count": null,
   "metadata": {
    "collapsed": true
   },
   "outputs": [],
   "source": [
    "budget (budget_item_id, semester, year)"
   ]
  },
  {
   "cell_type": "code",
   "execution_count": null,
   "metadata": {
    "collapsed": true
   },
   "outputs": [],
   "source": [
    "potential_roster (student_id, first_name, last_name)"
   ]
  },
  {
   "cell_type": "markdown",
   "metadata": {},
   "source": [
    "# QUERIES"
   ]
  },
  {
   "cell_type": "markdown",
   "metadata": {
    "collapsed": true
   },
   "source": [
    "## ALL Member info based on id"
   ]
  },
  {
   "cell_type": "code",
   "execution_count": null,
   "metadata": {
    "collapsed": true
   },
   "outputs": [],
   "source": [
    "## member_address and member_contact have 1-50 student_id"
   ]
  },
  {
   "cell_type": "code",
   "execution_count": 107,
   "metadata": {},
   "outputs": [
    {
     "name": "stdout",
     "output_type": "stream",
     "text": [
      "1 rows affected.\n"
     ]
    },
    {
     "data": {
      "text/html": [
       "<table>\n",
       "    <tr>\n",
       "        <th>student_id</th>\n",
       "        <th>pawprint</th>\n",
       "        <th>first_name</th>\n",
       "        <th>last_name</th>\n",
       "        <th>birthday</th>\n",
       "        <th>chapter_book_number</th>\n",
       "        <th>status_name</th>\n",
       "        <th>street_address</th>\n",
       "        <th>city</th>\n",
       "        <th>state</th>\n",
       "        <th>zip_code</th>\n",
       "        <th>email_address</th>\n",
       "        <th>phone_number</th>\n",
       "    </tr>\n",
       "    <tr>\n",
       "        <td>1</td>\n",
       "        <td>1ngeuu</td>\n",
       "        <td>Roy</td>\n",
       "        <td>Carroll</td>\n",
       "        <td>2018-07-06</td>\n",
       "        <td>685</td>\n",
       "        <td>Active</td>\n",
       "        <td>3295 apsug</td>\n",
       "        <td>Columbia</td>\n",
       "        <td>MO</td>\n",
       "        <td>65211</td>\n",
       "        <td>tcdj5d@mail.missouri.edu</td>\n",
       "        <td>None</td>\n",
       "    </tr>\n",
       "</table>"
      ],
      "text/plain": [
       "[(1, '1ngeuu', 'Roy', 'Carroll', datetime.date(2018, 7, 6), 685, 'Active', '3295 apsug', 'Columbia', 'MO', '65211', 'tcdj5d@mail.missouri.edu', None)]"
      ]
     },
     "execution_count": 107,
     "metadata": {},
     "output_type": "execute_result"
    }
   ],
   "source": [
    "%%sql\n",
    "SELECT \n",
    "    M.student_id,\n",
    "    M.pawprint,\n",
    "    M.first_name,\n",
    "    M.last_name,\n",
    "    M.birthday,\n",
    "    M.chapter_book_number,\n",
    "    MS.status_name,\n",
    "    MA.street_address,\n",
    "    MA.city,\n",
    "    MA.state,\n",
    "    MA.zip_code,\n",
    "    MC.email_address,\n",
    "    MC.phone_number\n",
    "FROM \n",
    "    member_status MS,\n",
    "    member M\n",
    "LEFT JOIN member_address MA ON M.student_id = MA.student_id\n",
    "LEFT JOIN member_contact MC ON M.student_id = MC.student_id\n",
    "WHERE \n",
    "    M.student_id = 1 AND /* Sub in student id where number is */\n",
    "    M.status = MS.status_id\n",
    ";"
   ]
  },
  {
   "cell_type": "code",
   "execution_count": 108,
   "metadata": {},
   "outputs": [
    {
     "name": "stdout",
     "output_type": "stream",
     "text": [
      "1 rows affected.\n"
     ]
    },
    {
     "data": {
      "text/html": [
       "<table>\n",
       "    <tr>\n",
       "        <th>student_id</th>\n",
       "        <th>street_address</th>\n",
       "        <th>city</th>\n",
       "        <th>state</th>\n",
       "        <th>zip_code</th>\n",
       "    </tr>\n",
       "    <tr>\n",
       "        <td>1</td>\n",
       "        <td>3295 apsug</td>\n",
       "        <td>Columbia</td>\n",
       "        <td>MO</td>\n",
       "        <td>65211</td>\n",
       "    </tr>\n",
       "</table>"
      ],
      "text/plain": [
       "[(1, '3295 apsug', 'Columbia', 'MO', '65211')]"
      ]
     },
     "execution_count": 108,
     "metadata": {},
     "output_type": "execute_result"
    }
   ],
   "source": [
    "%%sql\n",
    "SELECT * FROM member_address WHERE student_id = 1;"
   ]
  },
  {
   "cell_type": "code",
   "execution_count": 109,
   "metadata": {},
   "outputs": [
    {
     "name": "stdout",
     "output_type": "stream",
     "text": [
      "1 rows affected.\n"
     ]
    },
    {
     "data": {
      "text/html": [
       "<table>\n",
       "    <tr>\n",
       "        <th>student_id</th>\n",
       "        <th>email_address</th>\n",
       "        <th>phone_number</th>\n",
       "    </tr>\n",
       "    <tr>\n",
       "        <td>1</td>\n",
       "        <td>tcdj5d@mail.missouri.edu</td>\n",
       "        <td>None</td>\n",
       "    </tr>\n",
       "</table>"
      ],
      "text/plain": [
       "[(1, 'tcdj5d@mail.missouri.edu', None)]"
      ]
     },
     "execution_count": 109,
     "metadata": {},
     "output_type": "execute_result"
    }
   ],
   "source": [
    "%%sql\n",
    "SELECT * FROM member_contact WHERE student_id = 1;"
   ]
  },
  {
   "cell_type": "markdown",
   "metadata": {},
   "source": [
    "## memberDues for member based on id\n",
    "* grab amount paid and amount owed"
   ]
  },
  {
   "cell_type": "code",
   "execution_count": null,
   "metadata": {
    "collapsed": true
   },
   "outputs": [],
   "source": [
    "# memberDues only has student_id's 1, 48-100"
   ]
  },
  {
   "cell_type": "code",
   "execution_count": 110,
   "metadata": {},
   "outputs": [
    {
     "name": "stdout",
     "output_type": "stream",
     "text": [
      "1 rows affected.\n"
     ]
    },
    {
     "data": {
      "text/html": [
       "<table>\n",
       "    <tr>\n",
       "        <th>amount_owed</th>\n",
       "        <th>amount_paid</th>\n",
       "        <th>payment_method</th>\n",
       "        <th>notes</th>\n",
       "    </tr>\n",
       "    <tr>\n",
       "        <td>125.0</td>\n",
       "        <td>92.5</td>\n",
       "        <td>None</td>\n",
       "        <td>None</td>\n",
       "    </tr>\n",
       "</table>"
      ],
      "text/plain": [
       "[(125.0, 92.5, None, None)]"
      ]
     },
     "execution_count": 110,
     "metadata": {},
     "output_type": "execute_result"
    }
   ],
   "source": [
    "%%sql\n",
    "SELECT \n",
    "    MD.amount_owed,\n",
    "    MD.amount_paid,\n",
    "    MD.payment_method,\n",
    "    MD.notes\n",
    "FROM \n",
    "    member M\n",
    "    LEFT JOIN memberDues MD ON M.student_id = MD.student_id\n",
    "WHERE\n",
    "    M.student_id = 1\n",
    ";"
   ]
  },
  {
   "cell_type": "markdown",
   "metadata": {},
   "source": [
    "## member_paymentPlan for member based on id\n",
    "* grab previous payment amount/date\n",
    "* grab next payment amount/date"
   ]
  },
  {
   "cell_type": "code",
   "execution_count": 57,
   "metadata": {
    "collapsed": true
   },
   "outputs": [],
   "source": [
    "# %%sql\n",
    "# SELECT * FROM dues_paymentPlan"
   ]
  },
  {
   "cell_type": "code",
   "execution_count": 111,
   "metadata": {},
   "outputs": [
    {
     "name": "stdout",
     "output_type": "stream",
     "text": [
      "1 rows affected.\n"
     ]
    },
    {
     "data": {
      "text/html": [
       "<table>\n",
       "    <tr>\n",
       "        <th>last_amount_paid</th>\n",
       "        <th>last_payment_date</th>\n",
       "        <th>next_amount_due</th>\n",
       "        <th>next_payment_date</th>\n",
       "    </tr>\n",
       "    <tr>\n",
       "        <td>None</td>\n",
       "        <td>None</td>\n",
       "        <td>15.02</td>\n",
       "        <td>2018-04-28</td>\n",
       "    </tr>\n",
       "</table>"
      ],
      "text/plain": [
       "[(None, None, 15.02, datetime.date(2018, 4, 28))]"
      ]
     },
     "execution_count": 111,
     "metadata": {},
     "output_type": "execute_result"
    }
   ],
   "source": [
    "%%sql\n",
    "SELECT \n",
    "    DPP.last_amount_paid,\n",
    "    DPP.last_payment_date,\n",
    "    DPP.next_amount_due,\n",
    "    DPP.next_payment_date\n",
    "FROM \n",
    "    member M,\n",
    "    memberDues MD\n",
    "    LEFT JOIN dues_paymentPlan DPP ON MD.dues_id = DPP.dues_id\n",
    "WHERE\n",
    "    M.student_id = 81 AND\n",
    "    M.student_id = MD.student_id\n",
    ";"
   ]
  },
  {
   "cell_type": "code",
   "execution_count": 112,
   "metadata": {},
   "outputs": [
    {
     "name": "stdout",
     "output_type": "stream",
     "text": [
      "1 rows affected.\n"
     ]
    },
    {
     "data": {
      "text/html": [
       "<table>\n",
       "    <tr>\n",
       "        <th>student_id</th>\n",
       "        <th>pawprint</th>\n",
       "        <th>salted_password</th>\n",
       "        <th>status</th>\n",
       "        <th>last_name</th>\n",
       "        <th>first_name</th>\n",
       "        <th>birthday</th>\n",
       "        <th>chapter_book_number</th>\n",
       "        <th>student_id_1</th>\n",
       "        <th>dues_id</th>\n",
       "        <th>amount_owed</th>\n",
       "        <th>amount_paid</th>\n",
       "        <th>payment_method</th>\n",
       "        <th>notes</th>\n",
       "        <th>dues_id_1</th>\n",
       "        <th>start_date</th>\n",
       "        <th>end_date</th>\n",
       "        <th>last_amount_paid</th>\n",
       "        <th>last_payment_date</th>\n",
       "        <th>next_amount_due</th>\n",
       "        <th>next_payment_date</th>\n",
       "    </tr>\n",
       "    <tr>\n",
       "        <td>81</td>\n",
       "        <td>zh1lks</td>\n",
       "        <td>None</td>\n",
       "        <td>1</td>\n",
       "        <td>Adams</td>\n",
       "        <td>Kim</td>\n",
       "        <td>2019-02-15</td>\n",
       "        <td>545</td>\n",
       "        <td>81</td>\n",
       "        <td>20</td>\n",
       "        <td>125.0</td>\n",
       "        <td>49.42</td>\n",
       "        <td>None</td>\n",
       "        <td>None</td>\n",
       "        <td>20</td>\n",
       "        <td>2018-04-28</td>\n",
       "        <td>2018-06-19</td>\n",
       "        <td>None</td>\n",
       "        <td>None</td>\n",
       "        <td>15.02</td>\n",
       "        <td>2018-04-28</td>\n",
       "    </tr>\n",
       "</table>"
      ],
      "text/plain": [
       "[(81, 'zh1lks', None, 1, 'Adams', 'Kim', datetime.date(2019, 2, 15), 545, 81, 20, 125.0, 49.42, None, None, 20, datetime.date(2018, 4, 28), datetime.date(2018, 6, 19), None, None, 15.02, datetime.date(2018, 4, 28))]"
      ]
     },
     "execution_count": 112,
     "metadata": {},
     "output_type": "execute_result"
    }
   ],
   "source": [
    "%%sql\n",
    "SELECT \n",
    "    *\n",
    "FROM \n",
    "    member M,\n",
    "    memberDues MD\n",
    "    LEFT JOIN dues_paymentPlan DPP ON MD.dues_id = DPP.dues_id\n",
    "WHERE\n",
    "    M.student_id = 81 AND\n",
    "    M.student_id = MD.student_id\n",
    ";"
   ]
  },
  {
   "cell_type": "markdown",
   "metadata": {},
   "source": [
    "## All member points based on id\n",
    "ex:\n",
    "    DAS = 1\n",
    "    Fellowship = 2\n",
    "    ..."
   ]
  },
  {
   "cell_type": "code",
   "execution_count": 113,
   "metadata": {},
   "outputs": [
    {
     "name": "stdout",
     "output_type": "stream",
     "text": [
      "1 rows affected.\n"
     ]
    },
    {
     "data": {
      "text/plain": [
       "[]"
      ]
     },
     "execution_count": 113,
     "metadata": {},
     "output_type": "execute_result"
    }
   ],
   "source": [
    "%sql UPDATE events SET num_of_points = 2 WHERE event_id = 1"
   ]
  },
  {
   "cell_type": "code",
   "execution_count": 114,
   "metadata": {},
   "outputs": [
    {
     "name": "stdout",
     "output_type": "stream",
     "text": [
      "2 rows affected.\n"
     ]
    },
    {
     "data": {
      "text/html": [
       "<table>\n",
       "    <tr>\n",
       "        <th>event_id</th>\n",
       "        <th>position_id</th>\n",
       "        <th>point_type</th>\n",
       "        <th>num_of_points</th>\n",
       "        <th>title</th>\n",
       "        <th>event_date</th>\n",
       "        <th>semester</th>\n",
       "    </tr>\n",
       "    <tr>\n",
       "        <td>2</td>\n",
       "        <td>15</td>\n",
       "        <td>1</td>\n",
       "        <td>1</td>\n",
       "        <td>Cultural Potluck</td>\n",
       "        <td>2018-03-29</td>\n",
       "        <td>Spring</td>\n",
       "    </tr>\n",
       "    <tr>\n",
       "        <td>1</td>\n",
       "        <td>15</td>\n",
       "        <td>3</td>\n",
       "        <td>2</td>\n",
       "        <td>Ted Talks</td>\n",
       "        <td>2018-03-28</td>\n",
       "        <td>Spring</td>\n",
       "    </tr>\n",
       "</table>"
      ],
      "text/plain": [
       "[(2, 15, 1, 1, 'Cultural Potluck', datetime.date(2018, 3, 29), 'Spring'),\n",
       " (1, 15, 3, 2, 'Ted Talks', datetime.date(2018, 3, 28), 'Spring')]"
      ]
     },
     "execution_count": 114,
     "metadata": {},
     "output_type": "execute_result"
    }
   ],
   "source": [
    "%%sql\n",
    "SELECT * FROM events WHERE event_id = 1 OR event_id = 2"
   ]
  },
  {
   "cell_type": "code",
   "execution_count": 115,
   "metadata": {},
   "outputs": [
    {
     "name": "stdout",
     "output_type": "stream",
     "text": [
      "9 rows affected.\n"
     ]
    },
    {
     "data": {
      "text/html": [
       "<table>\n",
       "    <tr>\n",
       "        <th>event_id</th>\n",
       "        <th>student_id</th>\n",
       "        <th>point_type</th>\n",
       "    </tr>\n",
       "    <tr>\n",
       "        <td>2</td>\n",
       "        <td>1</td>\n",
       "        <td>1</td>\n",
       "    </tr>\n",
       "    <tr>\n",
       "        <td>6</td>\n",
       "        <td>1</td>\n",
       "        <td>2</td>\n",
       "    </tr>\n",
       "    <tr>\n",
       "        <td>11</td>\n",
       "        <td>1</td>\n",
       "        <td>2</td>\n",
       "    </tr>\n",
       "    <tr>\n",
       "        <td>12</td>\n",
       "        <td>1</td>\n",
       "        <td>3</td>\n",
       "    </tr>\n",
       "    <tr>\n",
       "        <td>14</td>\n",
       "        <td>1</td>\n",
       "        <td>3</td>\n",
       "    </tr>\n",
       "    <tr>\n",
       "        <td>15</td>\n",
       "        <td>1</td>\n",
       "        <td>4</td>\n",
       "    </tr>\n",
       "    <tr>\n",
       "        <td>18</td>\n",
       "        <td>1</td>\n",
       "        <td>5</td>\n",
       "    </tr>\n",
       "    <tr>\n",
       "        <td>20</td>\n",
       "        <td>1</td>\n",
       "        <td>5</td>\n",
       "    </tr>\n",
       "    <tr>\n",
       "        <td>1</td>\n",
       "        <td>1</td>\n",
       "        <td>3</td>\n",
       "    </tr>\n",
       "</table>"
      ],
      "text/plain": [
       "[(2, 1, 1),\n",
       " (6, 1, 2),\n",
       " (11, 1, 2),\n",
       " (12, 1, 3),\n",
       " (14, 1, 3),\n",
       " (15, 1, 4),\n",
       " (18, 1, 5),\n",
       " (20, 1, 5),\n",
       " (1, 1, 3)]"
      ]
     },
     "execution_count": 115,
     "metadata": {},
     "output_type": "execute_result"
    }
   ],
   "source": [
    "%sql SELECT * FROM event_attendance WHERE student_id = 1"
   ]
  },
  {
   "cell_type": "code",
   "execution_count": 116,
   "metadata": {},
   "outputs": [
    {
     "name": "stdout",
     "output_type": "stream",
     "text": [
      "5 rows affected.\n"
     ]
    },
    {
     "data": {
      "text/html": [
       "<table>\n",
       "    <tr>\n",
       "        <th>point_type</th>\n",
       "        <th>num_of_points</th>\n",
       "        <th>num_of_events_attended</th>\n",
       "    </tr>\n",
       "    <tr>\n",
       "        <td>Service</td>\n",
       "        <td>4</td>\n",
       "        <td>3</td>\n",
       "    </tr>\n",
       "    <tr>\n",
       "        <td>Fundraising</td>\n",
       "        <td>1</td>\n",
       "        <td>1</td>\n",
       "    </tr>\n",
       "    <tr>\n",
       "        <td>DAS</td>\n",
       "        <td>1</td>\n",
       "        <td>1</td>\n",
       "    </tr>\n",
       "    <tr>\n",
       "        <td>Fellowship</td>\n",
       "        <td>2</td>\n",
       "        <td>2</td>\n",
       "    </tr>\n",
       "    <tr>\n",
       "        <td>Campus Liason</td>\n",
       "        <td>2</td>\n",
       "        <td>2</td>\n",
       "    </tr>\n",
       "</table>"
      ],
      "text/plain": [
       "[('Service', 4, 3),\n",
       " ('Fundraising', 1, 1),\n",
       " ('DAS', 1, 1),\n",
       " ('Fellowship', 2, 2),\n",
       " ('Campus Liason', 2, 2)]"
      ]
     },
     "execution_count": 116,
     "metadata": {},
     "output_type": "execute_result"
    }
   ],
   "source": [
    "%%sql\n",
    "SELECT \n",
    "    PT.name AS point_type,\n",
    "    SUM(E.num_of_points) AS num_of_points,\n",
    "    COUNT(*) AS num_of_events_attended\n",
    "FROM\n",
    "    member M,\n",
    "    events E,\n",
    "    event_attendance EA,\n",
    "    point_type PT\n",
    "WHERE\n",
    "    M.student_id = 1 AND\n",
    "    M.student_id = EA.student_id AND\n",
    "    EA.event_id = E.event_id AND\n",
    "    E.point_type = PT.type_id\n",
    "GROUP BY\n",
    "    E.point_type, PT.name\n",
    ";"
   ]
  },
  {
   "cell_type": "markdown",
   "metadata": {},
   "source": [
    "## All member emergency contact info"
   ]
  },
  {
   "cell_type": "code",
   "execution_count": null,
   "metadata": {
    "collapsed": true
   },
   "outputs": [],
   "source": [
    "# emergencyContact student_id's 100-51"
   ]
  },
  {
   "cell_type": "code",
   "execution_count": 117,
   "metadata": {},
   "outputs": [
    {
     "name": "stdout",
     "output_type": "stream",
     "text": [
      "1 rows affected.\n"
     ]
    },
    {
     "data": {
      "text/html": [
       "<table>\n",
       "    <tr>\n",
       "        <th>student_id</th>\n",
       "        <th>last_name</th>\n",
       "        <th>first_name</th>\n",
       "        <th>email_address</th>\n",
       "        <th>phone_number</th>\n",
       "        <th>backup_phone_number</th>\n",
       "        <th>street_address</th>\n",
       "        <th>city</th>\n",
       "        <th>state</th>\n",
       "        <th>zip_code</th>\n",
       "        <th>primary_healthcare_provider</th>\n",
       "        <th>blood_type</th>\n",
       "        <th>medical_conditions</th>\n",
       "        <th>medications</th>\n",
       "        <th>allergies</th>\n",
       "    </tr>\n",
       "    <tr>\n",
       "        <td>100</td>\n",
       "        <td>bpn8jego</td>\n",
       "        <td>zsufm</td>\n",
       "        <td>viueev@mail.missouri.edu</td>\n",
       "        <td>None</td>\n",
       "        <td>None</td>\n",
       "        <td>3367 taobr</td>\n",
       "        <td>Columbia</td>\n",
       "        <td>MO</td>\n",
       "        <td>65211</td>\n",
       "        <td>None</td>\n",
       "        <td>None</td>\n",
       "        <td>None</td>\n",
       "        <td>None</td>\n",
       "        <td>None</td>\n",
       "    </tr>\n",
       "</table>"
      ],
      "text/plain": [
       "[(100, 'bpn8jego', 'zsufm', 'viueev@mail.missouri.edu', None, None, '3367 taobr', 'Columbia', 'MO', '65211', None, None, None, None, None)]"
      ]
     },
     "execution_count": 117,
     "metadata": {},
     "output_type": "execute_result"
    }
   ],
   "source": [
    "%%sql\n",
    "SELECT * FROM emergencyContact WHERE student_id = 100 "
   ]
  },
  {
   "cell_type": "code",
   "execution_count": 118,
   "metadata": {},
   "outputs": [
    {
     "name": "stdout",
     "output_type": "stream",
     "text": [
      "1 rows affected.\n"
     ]
    },
    {
     "data": {
      "text/html": [
       "<table>\n",
       "    <tr>\n",
       "        <th>last_name</th>\n",
       "        <th>first_name</th>\n",
       "        <th>email_address</th>\n",
       "        <th>phone_number</th>\n",
       "        <th>backup_phone_number</th>\n",
       "        <th>street_address</th>\n",
       "        <th>city</th>\n",
       "        <th>state</th>\n",
       "        <th>zip_code</th>\n",
       "        <th>primary_healthcare_provider</th>\n",
       "        <th>blood_type</th>\n",
       "        <th>medical_conditions</th>\n",
       "        <th>medical_conditions_1</th>\n",
       "        <th>medications</th>\n",
       "        <th>allergies</th>\n",
       "    </tr>\n",
       "    <tr>\n",
       "        <td>bpn8jego</td>\n",
       "        <td>zsufm</td>\n",
       "        <td>viueev@mail.missouri.edu</td>\n",
       "        <td>None</td>\n",
       "        <td>None</td>\n",
       "        <td>3367 taobr</td>\n",
       "        <td>Columbia</td>\n",
       "        <td>MO</td>\n",
       "        <td>65211</td>\n",
       "        <td>None</td>\n",
       "        <td>None</td>\n",
       "        <td>None</td>\n",
       "        <td>None</td>\n",
       "        <td>None</td>\n",
       "        <td>None</td>\n",
       "    </tr>\n",
       "</table>"
      ],
      "text/plain": [
       "[('bpn8jego', 'zsufm', 'viueev@mail.missouri.edu', None, None, '3367 taobr', 'Columbia', 'MO', '65211', None, None, None, None, None, None)]"
      ]
     },
     "execution_count": 118,
     "metadata": {},
     "output_type": "execute_result"
    }
   ],
   "source": [
    "%%sql\n",
    "SELECT \n",
    "    EC.last_name,\n",
    "    EC.first_name,\n",
    "    EC.email_address,\n",
    "    EC.phone_number,\n",
    "    EC.backup_phone_number,\n",
    "    EC.street_address,\n",
    "    EC.city,\n",
    "    EC.state,\n",
    "    EC.zip_code,\n",
    "    EC.primary_healthcare_provider,\n",
    "    EC.blood_type,\n",
    "    EC.medical_conditions,\n",
    "    EC.medical_conditions,\n",
    "    EC.medications,\n",
    "    EC.allergies\n",
    "FROM\n",
    "    member M\n",
    "    LEFT JOIN emergencyContact EC ON M.student_id = EC.student_id\n",
    "WHERE\n",
    "    M.student_id = 100\n",
    ";"
   ]
  },
  {
   "cell_type": "markdown",
   "metadata": {},
   "source": [
    "## All merch orders for member based on id"
   ]
  },
  {
   "cell_type": "code",
   "execution_count": 119,
   "metadata": {},
   "outputs": [
    {
     "name": "stdout",
     "output_type": "stream",
     "text": [
      "9 rows affected.\n"
     ]
    },
    {
     "data": {
      "text/html": [
       "<table>\n",
       "    <tr>\n",
       "        <th>merch_id</th>\n",
       "        <th>student_id</th>\n",
       "        <th>quantity</th>\n",
       "        <th>payment_due_date</th>\n",
       "        <th>delivery_date</th>\n",
       "        <th>completed</th>\n",
       "    </tr>\n",
       "    <tr>\n",
       "        <td>15</td>\n",
       "        <td>1</td>\n",
       "        <td>1</td>\n",
       "        <td>2017-03-23</td>\n",
       "        <td>2017-04-02</td>\n",
       "        <td>False</td>\n",
       "    </tr>\n",
       "    <tr>\n",
       "        <td>14</td>\n",
       "        <td>1</td>\n",
       "        <td>1</td>\n",
       "        <td>2017-03-23</td>\n",
       "        <td>2017-04-02</td>\n",
       "        <td>False</td>\n",
       "    </tr>\n",
       "    <tr>\n",
       "        <td>12</td>\n",
       "        <td>90</td>\n",
       "        <td>1</td>\n",
       "        <td>2017-03-23</td>\n",
       "        <td>2017-04-02</td>\n",
       "        <td>False</td>\n",
       "    </tr>\n",
       "    <tr>\n",
       "        <td>13</td>\n",
       "        <td>91</td>\n",
       "        <td>1</td>\n",
       "        <td>2017-03-23</td>\n",
       "        <td>2017-04-02</td>\n",
       "        <td>False</td>\n",
       "    </tr>\n",
       "    <tr>\n",
       "        <td>15</td>\n",
       "        <td>92</td>\n",
       "        <td>1</td>\n",
       "        <td>2017-03-23</td>\n",
       "        <td>2017-04-02</td>\n",
       "        <td>False</td>\n",
       "    </tr>\n",
       "    <tr>\n",
       "        <td>1</td>\n",
       "        <td>91</td>\n",
       "        <td>1</td>\n",
       "        <td>2017-03-23</td>\n",
       "        <td>2017-04-02</td>\n",
       "        <td>False</td>\n",
       "    </tr>\n",
       "    <tr>\n",
       "        <td>15</td>\n",
       "        <td>93</td>\n",
       "        <td>1</td>\n",
       "        <td>2017-03-23</td>\n",
       "        <td>2017-04-02</td>\n",
       "        <td>False</td>\n",
       "    </tr>\n",
       "    <tr>\n",
       "        <td>14</td>\n",
       "        <td>94</td>\n",
       "        <td>1</td>\n",
       "        <td>2017-03-23</td>\n",
       "        <td>2017-04-02</td>\n",
       "        <td>False</td>\n",
       "    </tr>\n",
       "    <tr>\n",
       "        <td>12</td>\n",
       "        <td>95</td>\n",
       "        <td>1</td>\n",
       "        <td>2017-03-23</td>\n",
       "        <td>2017-04-02</td>\n",
       "        <td>False</td>\n",
       "    </tr>\n",
       "</table>"
      ],
      "text/plain": [
       "[(15, 1, 1, datetime.date(2017, 3, 23), datetime.date(2017, 4, 2), False),\n",
       " (14, 1, 1, datetime.date(2017, 3, 23), datetime.date(2017, 4, 2), False),\n",
       " (12, 90, 1, datetime.date(2017, 3, 23), datetime.date(2017, 4, 2), False),\n",
       " (13, 91, 1, datetime.date(2017, 3, 23), datetime.date(2017, 4, 2), False),\n",
       " (15, 92, 1, datetime.date(2017, 3, 23), datetime.date(2017, 4, 2), False),\n",
       " (1, 91, 1, datetime.date(2017, 3, 23), datetime.date(2017, 4, 2), False),\n",
       " (15, 93, 1, datetime.date(2017, 3, 23), datetime.date(2017, 4, 2), False),\n",
       " (14, 94, 1, datetime.date(2017, 3, 23), datetime.date(2017, 4, 2), False),\n",
       " (12, 95, 1, datetime.date(2017, 3, 23), datetime.date(2017, 4, 2), False)]"
      ]
     },
     "execution_count": 119,
     "metadata": {},
     "output_type": "execute_result"
    }
   ],
   "source": [
    "%%sql\n",
    "SELECT * FROM merch_order Mch WHERE Mch.completed=false"
   ]
  },
  {
   "cell_type": "code",
   "execution_count": 20,
   "metadata": {
    "collapsed": true
   },
   "outputs": [],
   "source": [
    "# %sql UPDATE merch_order SET quantity = 2 WHERE student_id = 1 AND merch_id = 14"
   ]
  },
  {
   "cell_type": "code",
   "execution_count": 120,
   "metadata": {},
   "outputs": [
    {
     "name": "stdout",
     "output_type": "stream",
     "text": [
      "2 rows affected.\n"
     ]
    },
    {
     "data": {
      "text/html": [
       "<table>\n",
       "    <tr>\n",
       "        <th>item_name</th>\n",
       "        <th>price</th>\n",
       "        <th>quantity</th>\n",
       "        <th>total_amount_due</th>\n",
       "        <th>payment_due_date</th>\n",
       "        <th>delivery_date</th>\n",
       "    </tr>\n",
       "    <tr>\n",
       "        <td>Greek T-Shirt</td>\n",
       "        <td>12.5</td>\n",
       "        <td>1</td>\n",
       "        <td>12.5</td>\n",
       "        <td>2017-03-23</td>\n",
       "        <td>2017-04-02</td>\n",
       "    </tr>\n",
       "    <tr>\n",
       "        <td>Quarter-Zip</td>\n",
       "        <td>25.0</td>\n",
       "        <td>1</td>\n",
       "        <td>25.0</td>\n",
       "        <td>2017-03-23</td>\n",
       "        <td>2017-04-02</td>\n",
       "    </tr>\n",
       "</table>"
      ],
      "text/plain": [
       "[('Greek T-Shirt', 12.5, 1, 12.5, datetime.date(2017, 3, 23), datetime.date(2017, 4, 2)),\n",
       " ('Quarter-Zip', 25.0, 1, 25.0, datetime.date(2017, 3, 23), datetime.date(2017, 4, 2))]"
      ]
     },
     "execution_count": 120,
     "metadata": {},
     "output_type": "execute_result"
    }
   ],
   "source": [
    "%%sql\n",
    "SELECT \n",
    "    MCH.item_name,\n",
    "    MCH.price,\n",
    "    MO.quantity,\n",
    "    (MCH.price * MO.quantity) AS total_amount_due,\n",
    "    MO.payment_due_date,\n",
    "    MO.delivery_date\n",
    "FROM \n",
    "    member M,\n",
    "    /*LEFT JOIN merch_order MO ON M.student_id = MO.student_id\n",
    "    LEFT JOIN merch MCH ON MO.merch_id = MCH.merch_id*/\n",
    "    merch_order MO,\n",
    "    merch MCH\n",
    "WHERE \n",
    "    M.student_id = 1 AND \n",
    "    M.student_id = MO.student_id AND\n",
    "    MCH.merch_id = MO.merch_id AND\n",
    "    MO.completed = false;"
   ]
  },
  {
   "cell_type": "markdown",
   "metadata": {},
   "source": [
    "## All sports teams for member based on id\n",
    "* team_name and sport"
   ]
  },
  {
   "cell_type": "code",
   "execution_count": 121,
   "metadata": {},
   "outputs": [
    {
     "name": "stdout",
     "output_type": "stream",
     "text": [
      "1 rows affected.\n"
     ]
    },
    {
     "data": {
      "text/plain": [
       "[]"
      ]
     },
     "execution_count": 121,
     "metadata": {},
     "output_type": "execute_result"
    }
   ],
   "source": [
    "%sql UPDATE recSports SET end_date = current_date + 12 WHERE sport_id = 29"
   ]
  },
  {
   "cell_type": "code",
   "execution_count": 122,
   "metadata": {},
   "outputs": [
    {
     "name": "stdout",
     "output_type": "stream",
     "text": [
      "1 rows affected.\n"
     ]
    },
    {
     "data": {
      "text/html": [
       "<table>\n",
       "    <tr>\n",
       "        <th>sport_id</th>\n",
       "        <th>sport_name</th>\n",
       "        <th>semester</th>\n",
       "        <th>start_date</th>\n",
       "        <th>end_date</th>\n",
       "    </tr>\n",
       "    <tr>\n",
       "        <td>29</td>\n",
       "        <td>CO-REC Sand Volleyball</td>\n",
       "        <td>Spring</td>\n",
       "        <td>2017-04-01</td>\n",
       "        <td>2018-05-09</td>\n",
       "    </tr>\n",
       "</table>"
      ],
      "text/plain": [
       "[(29, 'CO-REC Sand Volleyball', 'Spring', datetime.date(2017, 4, 1), datetime.date(2018, 5, 9))]"
      ]
     },
     "execution_count": 122,
     "metadata": {},
     "output_type": "execute_result"
    }
   ],
   "source": [
    "%%sql\n",
    "SELECT * FROM recSports WHERE sport_id = 29"
   ]
  },
  {
   "cell_type": "code",
   "execution_count": 123,
   "metadata": {},
   "outputs": [
    {
     "name": "stdout",
     "output_type": "stream",
     "text": [
      "1 rows affected.\n"
     ]
    },
    {
     "data": {
      "text/html": [
       "<table>\n",
       "    <tr>\n",
       "        <th>team_id</th>\n",
       "        <th>sport_id</th>\n",
       "        <th>team_name</th>\n",
       "        <th>day_of_week</th>\n",
       "    </tr>\n",
       "    <tr>\n",
       "        <td>3</td>\n",
       "        <td>29</td>\n",
       "        <td>PSP 1</td>\n",
       "        <td>Sunday</td>\n",
       "    </tr>\n",
       "</table>"
      ],
      "text/plain": [
       "[(3, 29, 'PSP 1', 'Sunday')]"
      ]
     },
     "execution_count": 123,
     "metadata": {},
     "output_type": "execute_result"
    }
   ],
   "source": [
    "%%sql\n",
    "SELECT * FROM recSports_teams WHERE team_id = 3"
   ]
  },
  {
   "cell_type": "code",
   "execution_count": 124,
   "metadata": {},
   "outputs": [
    {
     "name": "stdout",
     "output_type": "stream",
     "text": [
      "4 rows affected.\n"
     ]
    },
    {
     "data": {
      "text/html": [
       "<table>\n",
       "    <tr>\n",
       "        <th>team_id</th>\n",
       "        <th>student_id</th>\n",
       "    </tr>\n",
       "    <tr>\n",
       "        <td>1</td>\n",
       "        <td>1</td>\n",
       "    </tr>\n",
       "    <tr>\n",
       "        <td>2</td>\n",
       "        <td>1</td>\n",
       "    </tr>\n",
       "    <tr>\n",
       "        <td>7</td>\n",
       "        <td>1</td>\n",
       "    </tr>\n",
       "    <tr>\n",
       "        <td>3</td>\n",
       "        <td>1</td>\n",
       "    </tr>\n",
       "</table>"
      ],
      "text/plain": [
       "[(1, 1), (2, 1), (7, 1), (3, 1)]"
      ]
     },
     "execution_count": 124,
     "metadata": {},
     "output_type": "execute_result"
    }
   ],
   "source": [
    "%%sql\n",
    "SELECT * FROM team_roster WHERE student_id = 1"
   ]
  },
  {
   "cell_type": "code",
   "execution_count": null,
   "metadata": {
    "collapsed": true
   },
   "outputs": [],
   "source": [
    "# current sports teams"
   ]
  },
  {
   "cell_type": "code",
   "execution_count": 125,
   "metadata": {},
   "outputs": [
    {
     "name": "stdout",
     "output_type": "stream",
     "text": [
      "1 rows affected.\n"
     ]
    },
    {
     "data": {
      "text/html": [
       "<table>\n",
       "    <tr>\n",
       "        <th>sport_name</th>\n",
       "        <th>team_name</th>\n",
       "        <th>day_of_week</th>\n",
       "        <th>semester</th>\n",
       "        <th>start_date</th>\n",
       "        <th>end_date</th>\n",
       "        <th>date</th>\n",
       "    </tr>\n",
       "    <tr>\n",
       "        <td>CO-REC Sand Volleyball</td>\n",
       "        <td>PSP 1</td>\n",
       "        <td>Sunday</td>\n",
       "        <td>Spring</td>\n",
       "        <td>2017-04-01</td>\n",
       "        <td>2018-05-09</td>\n",
       "        <td>2018-04-27</td>\n",
       "    </tr>\n",
       "</table>"
      ],
      "text/plain": [
       "[('CO-REC Sand Volleyball', 'PSP 1', 'Sunday', 'Spring', datetime.date(2017, 4, 1), datetime.date(2018, 5, 9), datetime.date(2018, 4, 27))]"
      ]
     },
     "execution_count": 125,
     "metadata": {},
     "output_type": "execute_result"
    }
   ],
   "source": [
    "%%sql\n",
    "SELECT \n",
    "    RS.sport_name,\n",
    "    RST.team_name,\n",
    "    RST.day_of_week,\n",
    "    RS.semester,\n",
    "    RS.start_date,\n",
    "    RS.end_date,\n",
    "    current_date\n",
    "FROM\n",
    "    member M,\n",
    "    team_roster TR,\n",
    "    recSports_teams RST,\n",
    "    recSports RS\n",
    "WHERE\n",
    "    M.student_id = 1 AND\n",
    "    M.student_id = TR.student_id AND\n",
    "    TR.team_id = RST.team_id AND \n",
    "    RST.sport_id = RS.sport_id AND\n",
    "    RS.end_date >= current_date\n",
    ";"
   ]
  },
  {
   "cell_type": "code",
   "execution_count": null,
   "metadata": {
    "collapsed": true
   },
   "outputs": [],
   "source": [
    "# all old sports teams"
   ]
  },
  {
   "cell_type": "code",
   "execution_count": 126,
   "metadata": {},
   "outputs": [
    {
     "name": "stdout",
     "output_type": "stream",
     "text": [
      "3 rows affected.\n"
     ]
    },
    {
     "data": {
      "text/html": [
       "<table>\n",
       "    <tr>\n",
       "        <th>sport_name</th>\n",
       "        <th>team_name</th>\n",
       "        <th>day_of_week</th>\n",
       "        <th>semester</th>\n",
       "        <th>start_date</th>\n",
       "        <th>end_date</th>\n",
       "        <th>date</th>\n",
       "    </tr>\n",
       "    <tr>\n",
       "        <td>CO-REC Soccer</td>\n",
       "        <td>PSP Soccer</td>\n",
       "        <td>Wednesday</td>\n",
       "        <td>Spring</td>\n",
       "        <td>2018-02-15</td>\n",
       "        <td>2018-04-15</td>\n",
       "        <td>2018-04-27</td>\n",
       "    </tr>\n",
       "    <tr>\n",
       "        <td>CO-REC Basketball</td>\n",
       "        <td>PSP Basketball</td>\n",
       "        <td>Sunday</td>\n",
       "        <td>Spring</td>\n",
       "        <td>2018-02-15</td>\n",
       "        <td>2018-03-25</td>\n",
       "        <td>2018-04-27</td>\n",
       "    </tr>\n",
       "    <tr>\n",
       "        <td>Battleship</td>\n",
       "        <td>PSP Purple</td>\n",
       "        <td>Thursday</td>\n",
       "        <td>Spring</td>\n",
       "        <td>2017-02-15</td>\n",
       "        <td>2017-02-15</td>\n",
       "        <td>2018-04-27</td>\n",
       "    </tr>\n",
       "</table>"
      ],
      "text/plain": [
       "[('CO-REC Soccer', 'PSP Soccer', 'Wednesday', 'Spring', datetime.date(2018, 2, 15), datetime.date(2018, 4, 15), datetime.date(2018, 4, 27)),\n",
       " ('CO-REC Basketball', 'PSP Basketball', 'Sunday', 'Spring', datetime.date(2018, 2, 15), datetime.date(2018, 3, 25), datetime.date(2018, 4, 27)),\n",
       " ('Battleship', 'PSP Purple', 'Thursday', 'Spring', datetime.date(2017, 2, 15), datetime.date(2017, 2, 15), datetime.date(2018, 4, 27))]"
      ]
     },
     "execution_count": 126,
     "metadata": {},
     "output_type": "execute_result"
    }
   ],
   "source": [
    "%%sql\n",
    "SELECT \n",
    "    RS.sport_name,\n",
    "    RST.team_name,\n",
    "    RST.day_of_week,\n",
    "    RS.semester,\n",
    "    RS.start_date,\n",
    "    RS.end_date,\n",
    "    current_date\n",
    "FROM\n",
    "    member M,\n",
    "    team_roster TR,\n",
    "    recSports_teams RST,\n",
    "    recSports RS\n",
    "WHERE\n",
    "    M.student_id = 1 AND\n",
    "    M.student_id = TR.student_id AND\n",
    "    TR.team_id = RST.team_id AND \n",
    "    RST.sport_id = RS.sport_id AND\n",
    "    RS.end_date <= current_date\n",
    ";"
   ]
  },
  {
   "cell_type": "markdown",
   "metadata": {},
   "source": [
    "## Roster Page Query"
   ]
  },
  {
   "cell_type": "markdown",
   "metadata": {},
   "source": [
    "grab all members (names, pawprints, emails, phone_number)"
   ]
  },
  {
   "cell_type": "code",
   "execution_count": 127,
   "metadata": {},
   "outputs": [
    {
     "name": "stdout",
     "output_type": "stream",
     "text": [
      "100 rows affected.\n"
     ]
    },
    {
     "data": {
      "text/html": [
       "<table>\n",
       "    <tr>\n",
       "        <th>pawprint</th>\n",
       "        <th>first_name</th>\n",
       "        <th>last_name</th>\n",
       "        <th>email_address</th>\n",
       "        <th>phone_number</th>\n",
       "    </tr>\n",
       "    <tr>\n",
       "        <td>1ngeuu</td>\n",
       "        <td>Roy</td>\n",
       "        <td>Carroll</td>\n",
       "        <td>tcdj5d@mail.missouri.edu</td>\n",
       "        <td>None</td>\n",
       "    </tr>\n",
       "    <tr>\n",
       "        <td>qn7pqc</td>\n",
       "        <td>Clarence</td>\n",
       "        <td>Brown</td>\n",
       "        <td>cg55tb@mail.missouri.edu</td>\n",
       "        <td>None</td>\n",
       "    </tr>\n",
       "    <tr>\n",
       "        <td>z29pq2</td>\n",
       "        <td>Sabrina</td>\n",
       "        <td>Markx</td>\n",
       "        <td>1vp9v4@mail.missouri.edu</td>\n",
       "        <td>None</td>\n",
       "    </tr>\n",
       "    <tr>\n",
       "        <td>qyaecw</td>\n",
       "        <td>Julia</td>\n",
       "        <td>Jonathan</td>\n",
       "        <td>51n46n@mail.missouri.edu</td>\n",
       "        <td>None</td>\n",
       "    </tr>\n",
       "    <tr>\n",
       "        <td>kzrfuy</td>\n",
       "        <td>Julian</td>\n",
       "        <td>Mike</td>\n",
       "        <td>x2vtth@mail.missouri.edu</td>\n",
       "        <td>None</td>\n",
       "    </tr>\n",
       "    <tr>\n",
       "        <td>mfacsm</td>\n",
       "        <td>Marlon</td>\n",
       "        <td>Comb</td>\n",
       "        <td>xntb7z@mail.missouri.edu</td>\n",
       "        <td>None</td>\n",
       "    </tr>\n",
       "    <tr>\n",
       "        <td>p3if4f</td>\n",
       "        <td>Evan</td>\n",
       "        <td>Pierce</td>\n",
       "        <td>ojgtoa@mail.missouri.edu</td>\n",
       "        <td>None</td>\n",
       "    </tr>\n",
       "    <tr>\n",
       "        <td>ej9pgr</td>\n",
       "        <td>Valerie</td>\n",
       "        <td>Wong</td>\n",
       "        <td>5p6ux2@mail.missouri.edu</td>\n",
       "        <td>None</td>\n",
       "    </tr>\n",
       "    <tr>\n",
       "        <td>rufmso</td>\n",
       "        <td>Sandy</td>\n",
       "        <td>Marcella</td>\n",
       "        <td>y33n88@mail.missouri.edu</td>\n",
       "        <td>None</td>\n",
       "    </tr>\n",
       "    <tr>\n",
       "        <td>5irw6l</td>\n",
       "        <td>Bessie</td>\n",
       "        <td>Logan</td>\n",
       "        <td>a6b705@mail.missouri.edu</td>\n",
       "        <td>None</td>\n",
       "    </tr>\n",
       "    <tr>\n",
       "        <td>n8arnj</td>\n",
       "        <td>Seth</td>\n",
       "        <td>Elliott</td>\n",
       "        <td>oxsi91@mail.missouri.edu</td>\n",
       "        <td>None</td>\n",
       "    </tr>\n",
       "    <tr>\n",
       "        <td>3wrjou</td>\n",
       "        <td>Randy</td>\n",
       "        <td>Sylvester</td>\n",
       "        <td>ixkys9@mail.missouri.edu</td>\n",
       "        <td>None</td>\n",
       "    </tr>\n",
       "    <tr>\n",
       "        <td>oy3hob</td>\n",
       "        <td>Harry</td>\n",
       "        <td>Cunningham</td>\n",
       "        <td>8xyfsw@mail.missouri.edu</td>\n",
       "        <td>None</td>\n",
       "    </tr>\n",
       "    <tr>\n",
       "        <td>uop0ag</td>\n",
       "        <td>Ivan</td>\n",
       "        <td>Carl</td>\n",
       "        <td>hs0jf8@mail.missouri.edu</td>\n",
       "        <td>None</td>\n",
       "    </tr>\n",
       "    <tr>\n",
       "        <td>n6pbpd</td>\n",
       "        <td>Lorene</td>\n",
       "        <td>Jacob</td>\n",
       "        <td>spe4we@mail.missouri.edu</td>\n",
       "        <td>None</td>\n",
       "    </tr>\n",
       "    <tr>\n",
       "        <td>a4cyyv</td>\n",
       "        <td>Willie</td>\n",
       "        <td>Larry</td>\n",
       "        <td>9lc24l@mail.missouri.edu</td>\n",
       "        <td>None</td>\n",
       "    </tr>\n",
       "    <tr>\n",
       "        <td>ui5jt2</td>\n",
       "        <td>Leigh</td>\n",
       "        <td>Chris</td>\n",
       "        <td>3mknkc@mail.missouri.edu</td>\n",
       "        <td>None</td>\n",
       "    </tr>\n",
       "    <tr>\n",
       "        <td>r2o2ik</td>\n",
       "        <td>Lois</td>\n",
       "        <td>Andrew</td>\n",
       "        <td>wtav84@mail.missouri.edu</td>\n",
       "        <td>None</td>\n",
       "    </tr>\n",
       "    <tr>\n",
       "        <td>pphf3u</td>\n",
       "        <td>Katrina</td>\n",
       "        <td>Kayla</td>\n",
       "        <td>spvsab@mail.missouri.edu</td>\n",
       "        <td>None</td>\n",
       "    </tr>\n",
       "    <tr>\n",
       "        <td>ykbxfq</td>\n",
       "        <td>Lindsey</td>\n",
       "        <td>Meyers</td>\n",
       "        <td>131f6x@mail.missouri.edu</td>\n",
       "        <td>None</td>\n",
       "    </tr>\n",
       "    <tr>\n",
       "        <td>9qt4s6</td>\n",
       "        <td>Joel</td>\n",
       "        <td>Schammel</td>\n",
       "        <td>tfj6hn@mail.missouri.edu</td>\n",
       "        <td>None</td>\n",
       "    </tr>\n",
       "    <tr>\n",
       "        <td>9hlr2l</td>\n",
       "        <td>Peggy</td>\n",
       "        <td>Bailey</td>\n",
       "        <td>rj9c7u@mail.missouri.edu</td>\n",
       "        <td>None</td>\n",
       "    </tr>\n",
       "    <tr>\n",
       "        <td>bf7eaf</td>\n",
       "        <td>Robin</td>\n",
       "        <td>Brenden</td>\n",
       "        <td>o4ozzw@mail.missouri.edu</td>\n",
       "        <td>None</td>\n",
       "    </tr>\n",
       "    <tr>\n",
       "        <td>z27fsr</td>\n",
       "        <td>Janie</td>\n",
       "        <td>Trochtenberg</td>\n",
       "        <td>3rmykw@mail.missouri.edu</td>\n",
       "        <td>None</td>\n",
       "    </tr>\n",
       "    <tr>\n",
       "        <td>il6bry</td>\n",
       "        <td>Frances</td>\n",
       "        <td>Barmann</td>\n",
       "        <td>alyc16@mail.missouri.edu</td>\n",
       "        <td>None</td>\n",
       "    </tr>\n",
       "    <tr>\n",
       "        <td>ghrh3p</td>\n",
       "        <td>Perry</td>\n",
       "        <td>Pangan</td>\n",
       "        <td>atks02@mail.missouri.edu</td>\n",
       "        <td>None</td>\n",
       "    </tr>\n",
       "    <tr>\n",
       "        <td>6grgwi</td>\n",
       "        <td>Lowell</td>\n",
       "        <td>Dorrow</td>\n",
       "        <td>grlp4s@mail.missouri.edu</td>\n",
       "        <td>None</td>\n",
       "    </tr>\n",
       "    <tr>\n",
       "        <td>kwcdp3</td>\n",
       "        <td>Sergio</td>\n",
       "        <td>Ferguson</td>\n",
       "        <td>ksw9sw@mail.missouri.edu</td>\n",
       "        <td>None</td>\n",
       "    </tr>\n",
       "    <tr>\n",
       "        <td>nljfkf</td>\n",
       "        <td>Karla</td>\n",
       "        <td>Brown</td>\n",
       "        <td>6vosu9@mail.missouri.edu</td>\n",
       "        <td>None</td>\n",
       "    </tr>\n",
       "    <tr>\n",
       "        <td>w8izxr</td>\n",
       "        <td>Ross</td>\n",
       "        <td>Johnson</td>\n",
       "        <td>p6uohv@mail.missouri.edu</td>\n",
       "        <td>None</td>\n",
       "    </tr>\n",
       "    <tr>\n",
       "        <td>85j5na</td>\n",
       "        <td>Cindy</td>\n",
       "        <td>Klump</td>\n",
       "        <td>urpflp@mail.missouri.edu</td>\n",
       "        <td>None</td>\n",
       "    </tr>\n",
       "    <tr>\n",
       "        <td>7dmvg2</td>\n",
       "        <td>Emily</td>\n",
       "        <td>Dylan</td>\n",
       "        <td>h1h3rl@mail.missouri.edu</td>\n",
       "        <td>None</td>\n",
       "    </tr>\n",
       "    <tr>\n",
       "        <td>onk931</td>\n",
       "        <td>Elisa</td>\n",
       "        <td>Aaron</td>\n",
       "        <td>vcfsl8@mail.missouri.edu</td>\n",
       "        <td>None</td>\n",
       "    </tr>\n",
       "    <tr>\n",
       "        <td>8s06kd</td>\n",
       "        <td>Martha</td>\n",
       "        <td>Marisa</td>\n",
       "        <td>pr4eky@mail.missouri.edu</td>\n",
       "        <td>None</td>\n",
       "    </tr>\n",
       "    <tr>\n",
       "        <td>itx64y</td>\n",
       "        <td>Muriel</td>\n",
       "        <td>Emily</td>\n",
       "        <td>n95iym@mail.missouri.edu</td>\n",
       "        <td>None</td>\n",
       "    </tr>\n",
       "    <tr>\n",
       "        <td>d17t3b</td>\n",
       "        <td>Drew</td>\n",
       "        <td>Alex</td>\n",
       "        <td>ese48z@mail.missouri.edu</td>\n",
       "        <td>None</td>\n",
       "    </tr>\n",
       "    <tr>\n",
       "        <td>zi13ja</td>\n",
       "        <td>Veronica</td>\n",
       "        <td>Johnson</td>\n",
       "        <td>tp1css@mail.missouri.edu</td>\n",
       "        <td>None</td>\n",
       "    </tr>\n",
       "    <tr>\n",
       "        <td>34xnh8</td>\n",
       "        <td>Henry</td>\n",
       "        <td>Ali</td>\n",
       "        <td>xo5dhq@mail.missouri.edu</td>\n",
       "        <td>None</td>\n",
       "    </tr>\n",
       "    <tr>\n",
       "        <td>2e76dm</td>\n",
       "        <td>Bryan</td>\n",
       "        <td>Smith</td>\n",
       "        <td>l7hok2@mail.missouri.edu</td>\n",
       "        <td>None</td>\n",
       "    </tr>\n",
       "    <tr>\n",
       "        <td>nojq0h</td>\n",
       "        <td>Clark</td>\n",
       "        <td>Steinsfield</td>\n",
       "        <td>n8csra@mail.missouri.edu</td>\n",
       "        <td>None</td>\n",
       "    </tr>\n",
       "    <tr>\n",
       "        <td>0j4ju7</td>\n",
       "        <td>Jessica</td>\n",
       "        <td>Gasperino</td>\n",
       "        <td>f63tab@mail.missouri.edu</td>\n",
       "        <td>None</td>\n",
       "    </tr>\n",
       "    <tr>\n",
       "        <td>b9ksh1</td>\n",
       "        <td>Brent</td>\n",
       "        <td>Gandy</td>\n",
       "        <td>t41ugt@mail.missouri.edu</td>\n",
       "        <td>None</td>\n",
       "    </tr>\n",
       "    <tr>\n",
       "        <td>fzqsl8</td>\n",
       "        <td>Crystal</td>\n",
       "        <td>Hollander</td>\n",
       "        <td>nfiss0@mail.missouri.edu</td>\n",
       "        <td>None</td>\n",
       "    </tr>\n",
       "    <tr>\n",
       "        <td>w21wkj</td>\n",
       "        <td>Rudolph</td>\n",
       "        <td>Jacobson</td>\n",
       "        <td>jd712r@mail.missouri.edu</td>\n",
       "        <td>None</td>\n",
       "    </tr>\n",
       "    <tr>\n",
       "        <td>414x8f</td>\n",
       "        <td>Pam</td>\n",
       "        <td>McNally</td>\n",
       "        <td>3p1fir@mail.missouri.edu</td>\n",
       "        <td>None</td>\n",
       "    </tr>\n",
       "    <tr>\n",
       "        <td>pgc7h5</td>\n",
       "        <td>Jessica</td>\n",
       "        <td>Hunter</td>\n",
       "        <td>pxxtr8@mail.missouri.edu</td>\n",
       "        <td>None</td>\n",
       "    </tr>\n",
       "    <tr>\n",
       "        <td>5ipqp8</td>\n",
       "        <td>Phillip</td>\n",
       "        <td>Harbison</td>\n",
       "        <td>5kc6ft@mail.missouri.edu</td>\n",
       "        <td>None</td>\n",
       "    </tr>\n",
       "    <tr>\n",
       "        <td>a1jukg</td>\n",
       "        <td>Geoffrey</td>\n",
       "        <td>Mathew</td>\n",
       "        <td>138jv1@mail.missouri.edu</td>\n",
       "        <td>None</td>\n",
       "    </tr>\n",
       "    <tr>\n",
       "        <td>hjmpyi</td>\n",
       "        <td>Dan</td>\n",
       "        <td>Horatio</td>\n",
       "        <td>jfeqgg@mail.missouri.edu</td>\n",
       "        <td>None</td>\n",
       "    </tr>\n",
       "    <tr>\n",
       "        <td>ykvhpm</td>\n",
       "        <td>Alyssa</td>\n",
       "        <td>Mallory</td>\n",
       "        <td>ik7jzp@mail.missouri.edu</td>\n",
       "        <td>None</td>\n",
       "    </tr>\n",
       "    <tr>\n",
       "        <td>jn285g</td>\n",
       "        <td>Nakia</td>\n",
       "        <td>Thompson</td>\n",
       "        <td>None</td>\n",
       "        <td>None</td>\n",
       "    </tr>\n",
       "    <tr>\n",
       "        <td>gzbil3</td>\n",
       "        <td>Mitt</td>\n",
       "        <td>Garth</td>\n",
       "        <td>None</td>\n",
       "        <td>None</td>\n",
       "    </tr>\n",
       "    <tr>\n",
       "        <td>649a1o</td>\n",
       "        <td>Melinda</td>\n",
       "        <td>Graves</td>\n",
       "        <td>None</td>\n",
       "        <td>None</td>\n",
       "    </tr>\n",
       "    <tr>\n",
       "        <td>aoxa2m</td>\n",
       "        <td>Ronald</td>\n",
       "        <td>Mccormick</td>\n",
       "        <td>None</td>\n",
       "        <td>None</td>\n",
       "    </tr>\n",
       "    <tr>\n",
       "        <td>ibyja2</td>\n",
       "        <td>Bryan</td>\n",
       "        <td>Hollander</td>\n",
       "        <td>None</td>\n",
       "        <td>None</td>\n",
       "    </tr>\n",
       "    <tr>\n",
       "        <td>e96jgf</td>\n",
       "        <td>Kate</td>\n",
       "        <td>Van Hugh</td>\n",
       "        <td>None</td>\n",
       "        <td>None</td>\n",
       "    </tr>\n",
       "    <tr>\n",
       "        <td>92xeju</td>\n",
       "        <td>Hoffman</td>\n",
       "        <td>Francisco</td>\n",
       "        <td>None</td>\n",
       "        <td>None</td>\n",
       "    </tr>\n",
       "    <tr>\n",
       "        <td>nvo2zu</td>\n",
       "        <td>Natalie</td>\n",
       "        <td>Cooper</td>\n",
       "        <td>None</td>\n",
       "        <td>None</td>\n",
       "    </tr>\n",
       "    <tr>\n",
       "        <td>0rvyvx</td>\n",
       "        <td>Corey</td>\n",
       "        <td>Harmon</td>\n",
       "        <td>None</td>\n",
       "        <td>None</td>\n",
       "    </tr>\n",
       "    <tr>\n",
       "        <td>w3y5f8</td>\n",
       "        <td>Courtney</td>\n",
       "        <td>Hale</td>\n",
       "        <td>None</td>\n",
       "        <td>None</td>\n",
       "    </tr>\n",
       "    <tr>\n",
       "        <td>v57tl3</td>\n",
       "        <td>May</td>\n",
       "        <td>Miles</td>\n",
       "        <td>None</td>\n",
       "        <td>None</td>\n",
       "    </tr>\n",
       "    <tr>\n",
       "        <td>c1h1wf</td>\n",
       "        <td>Guillermo</td>\n",
       "        <td>Black</td>\n",
       "        <td>None</td>\n",
       "        <td>None</td>\n",
       "    </tr>\n",
       "    <tr>\n",
       "        <td>5a4m5z</td>\n",
       "        <td>Roy</td>\n",
       "        <td>Johnson</td>\n",
       "        <td>None</td>\n",
       "        <td>None</td>\n",
       "    </tr>\n",
       "    <tr>\n",
       "        <td>fxmq4b</td>\n",
       "        <td>Bea</td>\n",
       "        <td>Becker</td>\n",
       "        <td>None</td>\n",
       "        <td>None</td>\n",
       "    </tr>\n",
       "    <tr>\n",
       "        <td>o94f16</td>\n",
       "        <td>Joe</td>\n",
       "        <td>Marxkors</td>\n",
       "        <td>None</td>\n",
       "        <td>None</td>\n",
       "    </tr>\n",
       "    <tr>\n",
       "        <td>p8dmx9</td>\n",
       "        <td>Antoinette</td>\n",
       "        <td>Douglas</td>\n",
       "        <td>None</td>\n",
       "        <td>None</td>\n",
       "    </tr>\n",
       "    <tr>\n",
       "        <td>m1f7hu</td>\n",
       "        <td>Johnson</td>\n",
       "        <td>Jessica</td>\n",
       "        <td>None</td>\n",
       "        <td>None</td>\n",
       "    </tr>\n",
       "    <tr>\n",
       "        <td>h7j1yd</td>\n",
       "        <td>Syndey</td>\n",
       "        <td>Mckenzie</td>\n",
       "        <td>None</td>\n",
       "        <td>None</td>\n",
       "    </tr>\n",
       "    <tr>\n",
       "        <td>3qtfoh</td>\n",
       "        <td>Katie</td>\n",
       "        <td>Hayes</td>\n",
       "        <td>None</td>\n",
       "        <td>None</td>\n",
       "    </tr>\n",
       "    <tr>\n",
       "        <td>rlnsr5</td>\n",
       "        <td>Tom</td>\n",
       "        <td>Ca</td>\n",
       "        <td>None</td>\n",
       "        <td>None</td>\n",
       "    </tr>\n",
       "    <tr>\n",
       "        <td>xom9a4</td>\n",
       "        <td>Smith</td>\n",
       "        <td>Henry</td>\n",
       "        <td>None</td>\n",
       "        <td>None</td>\n",
       "    </tr>\n",
       "    <tr>\n",
       "        <td>652py4</td>\n",
       "        <td>Troy</td>\n",
       "        <td>Mcbride</td>\n",
       "        <td>None</td>\n",
       "        <td>None</td>\n",
       "    </tr>\n",
       "    <tr>\n",
       "        <td>8f73bu</td>\n",
       "        <td>Nick</td>\n",
       "        <td>Rodriguez</td>\n",
       "        <td>None</td>\n",
       "        <td>None</td>\n",
       "    </tr>\n",
       "    <tr>\n",
       "        <td>chujji</td>\n",
       "        <td>Annie</td>\n",
       "        <td>Roberts</td>\n",
       "        <td>None</td>\n",
       "        <td>None</td>\n",
       "    </tr>\n",
       "    <tr>\n",
       "        <td>mtin67</td>\n",
       "        <td>Micheal</td>\n",
       "        <td>Brooks</td>\n",
       "        <td>None</td>\n",
       "        <td>None</td>\n",
       "    </tr>\n",
       "    <tr>\n",
       "        <td>5wc982</td>\n",
       "        <td>Mitch</td>\n",
       "        <td>Brown</td>\n",
       "        <td>None</td>\n",
       "        <td>None</td>\n",
       "    </tr>\n",
       "    <tr>\n",
       "        <td>pxjl3w</td>\n",
       "        <td>Cunningham</td>\n",
       "        <td>Clarence</td>\n",
       "        <td>None</td>\n",
       "        <td>None</td>\n",
       "    </tr>\n",
       "    <tr>\n",
       "        <td>6rzrvk</td>\n",
       "        <td>Julie</td>\n",
       "        <td>Billy</td>\n",
       "        <td>None</td>\n",
       "        <td>None</td>\n",
       "    </tr>\n",
       "    <tr>\n",
       "        <td>6awle4</td>\n",
       "        <td>Cecelia</td>\n",
       "        <td>Armstrong</td>\n",
       "        <td>None</td>\n",
       "        <td>None</td>\n",
       "    </tr>\n",
       "    <tr>\n",
       "        <td>53lubl</td>\n",
       "        <td>McNally</td>\n",
       "        <td>Clarence</td>\n",
       "        <td>None</td>\n",
       "        <td>None</td>\n",
       "    </tr>\n",
       "    <tr>\n",
       "        <td>jv7ftv</td>\n",
       "        <td>Joe</td>\n",
       "        <td>Conner</td>\n",
       "        <td>None</td>\n",
       "        <td>None</td>\n",
       "    </tr>\n",
       "    <tr>\n",
       "        <td>cfcanw</td>\n",
       "        <td>Bobbie</td>\n",
       "        <td>Mcgee</td>\n",
       "        <td>None</td>\n",
       "        <td>None</td>\n",
       "    </tr>\n",
       "    <tr>\n",
       "        <td>zh1lks</td>\n",
       "        <td>Kim</td>\n",
       "        <td>Adams</td>\n",
       "        <td>None</td>\n",
       "        <td>None</td>\n",
       "    </tr>\n",
       "    <tr>\n",
       "        <td>tgc18c</td>\n",
       "        <td>Kyle</td>\n",
       "        <td>Boyd</td>\n",
       "        <td>None</td>\n",
       "        <td>None</td>\n",
       "    </tr>\n",
       "    <tr>\n",
       "        <td>cj8j1c</td>\n",
       "        <td>McKenzie</td>\n",
       "        <td>Hill</td>\n",
       "        <td>None</td>\n",
       "        <td>None</td>\n",
       "    </tr>\n",
       "    <tr>\n",
       "        <td>uy253w</td>\n",
       "        <td>Gandy</td>\n",
       "        <td>Brent</td>\n",
       "        <td>None</td>\n",
       "        <td>None</td>\n",
       "    </tr>\n",
       "    <tr>\n",
       "        <td>n3qyx0</td>\n",
       "        <td>Jacob</td>\n",
       "        <td>Harper</td>\n",
       "        <td>None</td>\n",
       "        <td>None</td>\n",
       "    </tr>\n",
       "    <tr>\n",
       "        <td>nzykcx</td>\n",
       "        <td>Larry</td>\n",
       "        <td>Brewer</td>\n",
       "        <td>None</td>\n",
       "        <td>None</td>\n",
       "    </tr>\n",
       "    <tr>\n",
       "        <td>jyh9lu</td>\n",
       "        <td>Pam</td>\n",
       "        <td>Veronica</td>\n",
       "        <td>None</td>\n",
       "        <td>None</td>\n",
       "    </tr>\n",
       "    <tr>\n",
       "        <td>fipe1x</td>\n",
       "        <td>Steinsfield</td>\n",
       "        <td>Veronica</td>\n",
       "        <td>None</td>\n",
       "        <td>None</td>\n",
       "    </tr>\n",
       "    <tr>\n",
       "        <td>qml5qr</td>\n",
       "        <td>Jess</td>\n",
       "        <td>West</td>\n",
       "        <td>None</td>\n",
       "        <td>None</td>\n",
       "    </tr>\n",
       "    <tr>\n",
       "        <td>002mv6</td>\n",
       "        <td>Muriel</td>\n",
       "        <td>Gasperino</td>\n",
       "        <td>None</td>\n",
       "        <td>None</td>\n",
       "    </tr>\n",
       "    <tr>\n",
       "        <td>1qq67h</td>\n",
       "        <td>Tyler</td>\n",
       "        <td>Payne</td>\n",
       "        <td>None</td>\n",
       "        <td>None</td>\n",
       "    </tr>\n",
       "    <tr>\n",
       "        <td>1841wc</td>\n",
       "        <td>Debbie</td>\n",
       "        <td>Marshall</td>\n",
       "        <td>None</td>\n",
       "        <td>None</td>\n",
       "    </tr>\n",
       "    <tr>\n",
       "        <td>75uc5g</td>\n",
       "        <td>Perry</td>\n",
       "        <td>Jacobson</td>\n",
       "        <td>None</td>\n",
       "        <td>None</td>\n",
       "    </tr>\n",
       "    <tr>\n",
       "        <td>tc2t7r</td>\n",
       "        <td>Anne</td>\n",
       "        <td>Hudson</td>\n",
       "        <td>None</td>\n",
       "        <td>None</td>\n",
       "    </tr>\n",
       "    <tr>\n",
       "        <td>ru62wp</td>\n",
       "        <td>Lowell</td>\n",
       "        <td>Klump</td>\n",
       "        <td>None</td>\n",
       "        <td>None</td>\n",
       "    </tr>\n",
       "    <tr>\n",
       "        <td>l391b6</td>\n",
       "        <td>Elijah</td>\n",
       "        <td>Carlson</td>\n",
       "        <td>None</td>\n",
       "        <td>None</td>\n",
       "    </tr>\n",
       "    <tr>\n",
       "        <td>vh3ze4</td>\n",
       "        <td>Charlotte</td>\n",
       "        <td>Gross</td>\n",
       "        <td>None</td>\n",
       "        <td>None</td>\n",
       "    </tr>\n",
       "    <tr>\n",
       "        <td>afx8f4</td>\n",
       "        <td>Leroy</td>\n",
       "        <td>Mccarthy</td>\n",
       "        <td>None</td>\n",
       "        <td>None</td>\n",
       "    </tr>\n",
       "</table>"
      ],
      "text/plain": [
       "[('1ngeuu', 'Roy', 'Carroll', 'tcdj5d@mail.missouri.edu', None),\n",
       " ('qn7pqc', 'Clarence', 'Brown', 'cg55tb@mail.missouri.edu', None),\n",
       " ('z29pq2', 'Sabrina', 'Markx', '1vp9v4@mail.missouri.edu', None),\n",
       " ('qyaecw', 'Julia', 'Jonathan', '51n46n@mail.missouri.edu', None),\n",
       " ('kzrfuy', 'Julian', 'Mike', 'x2vtth@mail.missouri.edu', None),\n",
       " ('mfacsm', 'Marlon', 'Comb', 'xntb7z@mail.missouri.edu', None),\n",
       " ('p3if4f', 'Evan', 'Pierce', 'ojgtoa@mail.missouri.edu', None),\n",
       " ('ej9pgr', 'Valerie', 'Wong', '5p6ux2@mail.missouri.edu', None),\n",
       " ('rufmso', 'Sandy', 'Marcella', 'y33n88@mail.missouri.edu', None),\n",
       " ('5irw6l', 'Bessie', 'Logan', 'a6b705@mail.missouri.edu', None),\n",
       " ('n8arnj', 'Seth', 'Elliott', 'oxsi91@mail.missouri.edu', None),\n",
       " ('3wrjou', 'Randy', 'Sylvester', 'ixkys9@mail.missouri.edu', None),\n",
       " ('oy3hob', 'Harry', 'Cunningham', '8xyfsw@mail.missouri.edu', None),\n",
       " ('uop0ag', 'Ivan', 'Carl', 'hs0jf8@mail.missouri.edu', None),\n",
       " ('n6pbpd', 'Lorene', 'Jacob', 'spe4we@mail.missouri.edu', None),\n",
       " ('a4cyyv', 'Willie', 'Larry', '9lc24l@mail.missouri.edu', None),\n",
       " ('ui5jt2', 'Leigh', 'Chris', '3mknkc@mail.missouri.edu', None),\n",
       " ('r2o2ik', 'Lois', 'Andrew', 'wtav84@mail.missouri.edu', None),\n",
       " ('pphf3u', 'Katrina', 'Kayla', 'spvsab@mail.missouri.edu', None),\n",
       " ('ykbxfq', 'Lindsey', 'Meyers', '131f6x@mail.missouri.edu', None),\n",
       " ('9qt4s6', 'Joel', 'Schammel', 'tfj6hn@mail.missouri.edu', None),\n",
       " ('9hlr2l', 'Peggy', 'Bailey', 'rj9c7u@mail.missouri.edu', None),\n",
       " ('bf7eaf', 'Robin', 'Brenden', 'o4ozzw@mail.missouri.edu', None),\n",
       " ('z27fsr', 'Janie', 'Trochtenberg', '3rmykw@mail.missouri.edu', None),\n",
       " ('il6bry', 'Frances', 'Barmann', 'alyc16@mail.missouri.edu', None),\n",
       " ('ghrh3p', 'Perry', 'Pangan', 'atks02@mail.missouri.edu', None),\n",
       " ('6grgwi', 'Lowell', 'Dorrow', 'grlp4s@mail.missouri.edu', None),\n",
       " ('kwcdp3', 'Sergio', 'Ferguson', 'ksw9sw@mail.missouri.edu', None),\n",
       " ('nljfkf', 'Karla', 'Brown', '6vosu9@mail.missouri.edu', None),\n",
       " ('w8izxr', 'Ross', 'Johnson', 'p6uohv@mail.missouri.edu', None),\n",
       " ('85j5na', 'Cindy', 'Klump', 'urpflp@mail.missouri.edu', None),\n",
       " ('7dmvg2', 'Emily', 'Dylan', 'h1h3rl@mail.missouri.edu', None),\n",
       " ('onk931', 'Elisa', 'Aaron', 'vcfsl8@mail.missouri.edu', None),\n",
       " ('8s06kd', 'Martha', 'Marisa', 'pr4eky@mail.missouri.edu', None),\n",
       " ('itx64y', 'Muriel', 'Emily', 'n95iym@mail.missouri.edu', None),\n",
       " ('d17t3b', 'Drew', 'Alex', 'ese48z@mail.missouri.edu', None),\n",
       " ('zi13ja', 'Veronica', 'Johnson', 'tp1css@mail.missouri.edu', None),\n",
       " ('34xnh8', 'Henry', 'Ali', 'xo5dhq@mail.missouri.edu', None),\n",
       " ('2e76dm', 'Bryan', 'Smith', 'l7hok2@mail.missouri.edu', None),\n",
       " ('nojq0h', 'Clark', 'Steinsfield', 'n8csra@mail.missouri.edu', None),\n",
       " ('0j4ju7', 'Jessica', 'Gasperino', 'f63tab@mail.missouri.edu', None),\n",
       " ('b9ksh1', 'Brent', 'Gandy', 't41ugt@mail.missouri.edu', None),\n",
       " ('fzqsl8', 'Crystal', 'Hollander', 'nfiss0@mail.missouri.edu', None),\n",
       " ('w21wkj', 'Rudolph', 'Jacobson', 'jd712r@mail.missouri.edu', None),\n",
       " ('414x8f', 'Pam', 'McNally', '3p1fir@mail.missouri.edu', None),\n",
       " ('pgc7h5', 'Jessica', 'Hunter', 'pxxtr8@mail.missouri.edu', None),\n",
       " ('5ipqp8', 'Phillip', 'Harbison', '5kc6ft@mail.missouri.edu', None),\n",
       " ('a1jukg', 'Geoffrey', 'Mathew', '138jv1@mail.missouri.edu', None),\n",
       " ('hjmpyi', 'Dan', 'Horatio', 'jfeqgg@mail.missouri.edu', None),\n",
       " ('ykvhpm', 'Alyssa', 'Mallory', 'ik7jzp@mail.missouri.edu', None),\n",
       " ('jn285g', 'Nakia', 'Thompson', None, None),\n",
       " ('gzbil3', 'Mitt', 'Garth', None, None),\n",
       " ('649a1o', 'Melinda', 'Graves', None, None),\n",
       " ('aoxa2m', 'Ronald', 'Mccormick', None, None),\n",
       " ('ibyja2', 'Bryan', 'Hollander', None, None),\n",
       " ('e96jgf', 'Kate', 'Van Hugh', None, None),\n",
       " ('92xeju', 'Hoffman', 'Francisco', None, None),\n",
       " ('nvo2zu', 'Natalie', 'Cooper', None, None),\n",
       " ('0rvyvx', 'Corey', 'Harmon', None, None),\n",
       " ('w3y5f8', 'Courtney', 'Hale', None, None),\n",
       " ('v57tl3', 'May', 'Miles', None, None),\n",
       " ('c1h1wf', 'Guillermo', 'Black', None, None),\n",
       " ('5a4m5z', 'Roy', 'Johnson', None, None),\n",
       " ('fxmq4b', 'Bea', 'Becker', None, None),\n",
       " ('o94f16', 'Joe', 'Marxkors', None, None),\n",
       " ('p8dmx9', 'Antoinette', 'Douglas', None, None),\n",
       " ('m1f7hu', 'Johnson', 'Jessica', None, None),\n",
       " ('h7j1yd', 'Syndey', 'Mckenzie', None, None),\n",
       " ('3qtfoh', 'Katie', 'Hayes', None, None),\n",
       " ('rlnsr5', 'Tom', 'Ca', None, None),\n",
       " ('xom9a4', 'Smith', 'Henry', None, None),\n",
       " ('652py4', 'Troy', 'Mcbride', None, None),\n",
       " ('8f73bu', 'Nick', 'Rodriguez', None, None),\n",
       " ('chujji', 'Annie', 'Roberts', None, None),\n",
       " ('mtin67', 'Micheal', 'Brooks', None, None),\n",
       " ('5wc982', 'Mitch', 'Brown', None, None),\n",
       " ('pxjl3w', 'Cunningham', 'Clarence', None, None),\n",
       " ('6rzrvk', 'Julie', 'Billy', None, None),\n",
       " ('6awle4', 'Cecelia', 'Armstrong', None, None),\n",
       " ('53lubl', 'McNally', 'Clarence', None, None),\n",
       " ('jv7ftv', 'Joe', 'Conner', None, None),\n",
       " ('cfcanw', 'Bobbie', 'Mcgee', None, None),\n",
       " ('zh1lks', 'Kim', 'Adams', None, None),\n",
       " ('tgc18c', 'Kyle', 'Boyd', None, None),\n",
       " ('cj8j1c', 'McKenzie', 'Hill', None, None),\n",
       " ('uy253w', 'Gandy', 'Brent', None, None),\n",
       " ('n3qyx0', 'Jacob', 'Harper', None, None),\n",
       " ('nzykcx', 'Larry', 'Brewer', None, None),\n",
       " ('jyh9lu', 'Pam', 'Veronica', None, None),\n",
       " ('fipe1x', 'Steinsfield', 'Veronica', None, None),\n",
       " ('qml5qr', 'Jess', 'West', None, None),\n",
       " ('002mv6', 'Muriel', 'Gasperino', None, None),\n",
       " ('1qq67h', 'Tyler', 'Payne', None, None),\n",
       " ('1841wc', 'Debbie', 'Marshall', None, None),\n",
       " ('75uc5g', 'Perry', 'Jacobson', None, None),\n",
       " ('tc2t7r', 'Anne', 'Hudson', None, None),\n",
       " ('ru62wp', 'Lowell', 'Klump', None, None),\n",
       " ('l391b6', 'Elijah', 'Carlson', None, None),\n",
       " ('vh3ze4', 'Charlotte', 'Gross', None, None),\n",
       " ('afx8f4', 'Leroy', 'Mccarthy', None, None)]"
      ]
     },
     "execution_count": 127,
     "metadata": {},
     "output_type": "execute_result"
    }
   ],
   "source": [
    "%%sql\n",
    "SELECT \n",
    "    M.pawprint,\n",
    "    M.first_name,\n",
    "    M.last_name,\n",
    "    MC.email_address,\n",
    "    MC.phone_number\n",
    "FROM \n",
    "    member M\n",
    "    LEFT JOIN member_contact MC ON M.student_id = MC.student_id\n",
    ";"
   ]
  },
  {
   "cell_type": "code",
   "execution_count": null,
   "metadata": {
    "collapsed": true
   },
   "outputs": [],
   "source": []
  }
 ],
 "metadata": {
  "kernelspec": {
   "display_name": "Python 3",
   "language": "python",
   "name": "python3"
  },
  "language_info": {
   "codemirror_mode": {
    "name": "ipython",
    "version": 3
   },
   "file_extension": ".py",
   "mimetype": "text/x-python",
   "name": "python",
   "nbconvert_exporter": "python",
   "pygments_lexer": "ipython3",
   "version": "3.4.5"
  }
 },
 "nbformat": 4,
 "nbformat_minor": 2
}
